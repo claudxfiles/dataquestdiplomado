{
 "cells": [
  {
   "cell_type": "code",
   "execution_count": 2,
   "id": "94e0a1a6",
   "metadata": {},
   "outputs": [],
   "source": [
    "import pandas as pd\n",
    "import statsmodels.formula.api as smf"
   ]
  },
  {
   "cell_type": "code",
   "execution_count": 3,
   "id": "16b0f3d0",
   "metadata": {},
   "outputs": [],
   "source": [
    "df=pd.read_csv('cars.csv')"
   ]
  },
  {
   "cell_type": "code",
   "execution_count": 5,
   "id": "a12565ac",
   "metadata": {},
   "outputs": [
    {
     "name": "stdout",
     "output_type": "stream",
     "text": [
      "                            OLS Regression Results                            \n",
      "==============================================================================\n",
      "Dep. Variable:                consumo   R-squared:                       0.957\n",
      "Model:                            OLS   Adj. R-squared:                  0.951\n",
      "Method:                 Least Squares   F-statistic:                     154.7\n",
      "Date:                Sat, 09 Jul 2022   Prob (F-statistic):           1.79e-14\n",
      "Time:                        22:54:16   Log-Likelihood:                -24.400\n",
      "No. Observations:                  25   AIC:                             56.80\n",
      "Df Residuals:                      21   BIC:                             61.68\n",
      "Df Model:                           3                                         \n",
      "Covariance Type:            nonrobust                                         \n",
      "==============================================================================\n",
      "                 coef    std err          t      P>|t|      [0.025      0.975]\n",
      "------------------------------------------------------------------------------\n",
      "Intercept      1.2998      0.614      2.117      0.046       0.023       2.577\n",
      "cilindraje    -0.0005      0.000     -0.953      0.351      -0.002       0.001\n",
      "potencia       0.0303      0.007      4.052      0.001       0.015       0.046\n",
      "peso           0.0052      0.001      6.447      0.000       0.004       0.007\n",
      "==============================================================================\n",
      "Omnibus:                        0.799   Durbin-Watson:                   2.419\n",
      "Prob(Omnibus):                  0.671   Jarque-Bera (JB):                0.772\n",
      "Skew:                          -0.369   Prob(JB):                        0.680\n",
      "Kurtosis:                       2.558   Cond. No.                     1.14e+04\n",
      "==============================================================================\n",
      "\n",
      "Notes:\n",
      "[1] Standard Errors assume that the covariance matrix of the errors is correctly specified.\n",
      "[2] The condition number is large, 1.14e+04. This might indicate that there are\n",
      "strong multicollinearity or other numerical problems.\n"
     ]
    }
   ],
   "source": [
    "reg=smf.ols('consumo ~ cilindraje + potencia + peso',data=df)\n",
    "res= reg.fit()\n",
    "print(res.summary())"
   ]
  },
  {
   "cell_type": "code",
   "execution_count": 6,
   "id": "0571381e",
   "metadata": {},
   "outputs": [
    {
     "name": "stdout",
     "output_type": "stream",
     "text": [
      "0.9567033306282597\n"
     ]
    }
   ],
   "source": [
    "print(res.rsquared)"
   ]
  },
  {
   "cell_type": "code",
   "execution_count": null,
   "id": "8a9c313f",
   "metadata": {},
   "outputs": [],
   "source": []
  }
 ],
 "metadata": {
  "kernelspec": {
   "display_name": "Python 3.10.5 64-bit",
   "language": "python",
   "name": "python3"
  },
  "language_info": {
   "codemirror_mode": {
    "name": "ipython",
    "version": 3
   },
   "file_extension": ".py",
   "mimetype": "text/x-python",
   "name": "python",
   "nbconvert_exporter": "python",
   "pygments_lexer": "ipython3",
   "version": "3.10.5"
  },
  "vscode": {
   "interpreter": {
    "hash": "116b16ce4771ffbe70767d6473d2ec71e30cb9f23544c16e382302f0f8a58d51"
   }
  }
 },
 "nbformat": 4,
 "nbformat_minor": 5
}

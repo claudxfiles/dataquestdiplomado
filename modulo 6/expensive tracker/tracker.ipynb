{
 "cells": [
  {
   "cell_type": "code",
   "execution_count": 1,
   "metadata": {},
   "outputs": [],
   "source": [
    "# description: a simple expense tracker\n",
    "#import the libraries\n",
    "import numpy as np\n",
    "import pandas as pd\n",
    "from datetime import date"
   ]
  },
  {
   "cell_type": "code",
   "execution_count": 2,
   "metadata": {},
   "outputs": [],
   "source": [
    "#create empty list\n",
    "good_or_services = []\n",
    "prices = []\n",
    "dates = []\n",
    "expense_type = []\n"
   ]
  },
  {
   "cell_type": "code",
   "execution_count": 3,
   "metadata": {},
   "outputs": [],
   "source": [
    "def add_expense(good_or_services,prices,dates,expense_type):\n",
    "    good_or_services.append(good_or_services)\n",
    "    prices.append(prices)\n",
    "    datess.append(dates)\n",
    "    expense_type.append(expense_type)\n"
   ]
  },
  {
   "cell_type": "code",
   "execution_count": 5,
   "metadata": {},
   "outputs": [
    {
     "name": "stdout",
     "output_type": "stream",
     "text": [
      "Welcome to the simple expense tracker: \n",
      "1. Add Food Expense\n",
      "2. Add Household expense\n",
      "3. Add transportation expense\n",
      "4. Show and save the expense report\n",
      "0. Exit\n",
      "\n",
      "Exiting the program\n"
     ]
    }
   ],
   "source": [
    "#main program\n",
    "option = -1 #this will be the urser option or choice or input\n",
    "while (option != 0):\n",
    "    #create the option menu\n",
    "    print('Welcome to the simple expense tracker: ')\n",
    "    print('1. Add Food Expense')\n",
    "    print('2. Add Household expense')\n",
    "    print('3. Add transportation expense')\n",
    "    print('4. Show and save the expense report')\n",
    "    print('0. Exit')\n",
    "    option = int(input(' Choose an option: \\n'))\n",
    "    #print a new line\n",
    "    print()\n",
    "    #cheeck for the users choice or option or input\n",
    "    if option == 0:\n",
    "        print('Exiting the program')\n",
    "        break\n",
    "    elif option == 1:\n",
    "        print('Adding food')\n",
    "        expense_type = 'Food'\n",
    "    elif option == 2:\n",
    "        print('Adding household')\n",
    "        expense_type = 'Household'\n",
    "    elif option == 3:\n",
    "        print('Adding transportation')\n",
    "        expense_type = 'Transportation'\n",
    "    elif option == 4:\n",
    "        #create a new data frame and the expenses\n",
    "        expense_report = pd.DataFrame()\n",
    "        expense_report['good_or_services'] = good_or_services\n",
    "        expense_report['prices'] = prices\n",
    "        expense_report['dates'] = dates\n",
    "        expense_report['expense_type'] = expense_type\n",
    "        #save the expense report\n",
    "        expense_report.to_csv('expense.csv')\n",
    "        #show the expense report\n",
    "        print(expense_report)\n",
    "    else:\n",
    "        print('You chose an incorrect option. Please choose 0, 1, 2, 3 or 4. ')\n",
    "    #allow the user to enter good or service and the price\n",
    "    if option == 1 or option == 2 or option ==3:\n",
    "        good_or_service = input ('Enter good or service for the expense type' +expense_type+':\\n')\n",
    "        price = float(input ('Enter the price of the good or service:\\n'))\n",
    "        today=date.today()\n",
    "        add_expense(good_or_service, price, today,expense_type)\n",
    "    #print the new line\n",
    "    print()"
   ]
  },
  {
   "cell_type": "code",
   "execution_count": null,
   "metadata": {},
   "outputs": [],
   "source": []
  }
 ],
 "metadata": {
  "kernelspec": {
   "display_name": "Python 3.9.12 ('base')",
   "language": "python",
   "name": "python3"
  },
  "language_info": {
   "codemirror_mode": {
    "name": "ipython",
    "version": 3
   },
   "file_extension": ".py",
   "mimetype": "text/x-python",
   "name": "python",
   "nbconvert_exporter": "python",
   "pygments_lexer": "ipython3",
   "version": "3.9.12"
  },
  "orig_nbformat": 4,
  "vscode": {
   "interpreter": {
    "hash": "db727c30903d8ef2b5ba67b151eb7ebda75bdb03af8619f89c62bfc9967fadae"
   }
  }
 },
 "nbformat": 4,
 "nbformat_minor": 2
}

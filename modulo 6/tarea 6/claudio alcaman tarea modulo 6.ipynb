{
 "cells": [
  {
   "cell_type": "code",
   "execution_count": 1,
   "metadata": {},
   "outputs": [],
   "source": [
    "import pandas as pd # Manipulación de datos\n",
    "import seaborn as sns # Graficos\n",
    "import numpy as np\n",
    "import statsmodels.api as sm # Este proporciona funciones para la estimación de muchos modelos estadísticos\n",
    "import statsmodels.formula.api as smf \n",
    "import matplotlib.pyplot as plt\n",
    "import statsmodels.stats.api as sms\n",
    "from sklearn.cluster import KMeans\n",
    "from sklearn.preprocessing import LabelEncoder\n",
    "from sklearn.preprocessing import StandardScaler\n",
    "from sklearn.ensemble import GradientBoostingClassifier,RandomForestClassifier\n",
    "from sklearn.model_selection import train_test_split\n",
    "from sklearn.linear_model import LogisticRegression\n",
    "from sklearn.neural_network import MLPRegressor\n",
    "from sklearn.metrics import classification_report\n",
    "from sklearn.metrics import confusion_matrix, accuracy_score, precision_score, recall_score,f1_score\n",
    "from sklearn.neighbors import KNeighborsClassifier\n",
    "import plotly.figure_factory as ff\n",
    "import plotly.graph_objects as go\n",
    "import plotly.express as px\n",
    "from plotly.offline import iplot"
   ]
  },
  {
   "cell_type": "markdown",
   "metadata": {},
   "source": [
    "## Tarea\n",
    "\n",
    "1. Realizar un análisis exploratorio de los datos.\n",
    "2. Aplicar tres de los algoritmos desarrollados en clases justificando su elección.\n",
    "3. Aplicar evaluación de cada uno de ellos con medidas vistas en clases y cross validation.\n",
    "4. Seleccionar el mejor método para el problema presentado."
   ]
  },
  {
   "cell_type": "code",
   "execution_count": 2,
   "metadata": {},
   "outputs": [
    {
     "data": {
      "text/html": [
       "<div>\n",
       "<style scoped>\n",
       "    .dataframe tbody tr th:only-of-type {\n",
       "        vertical-align: middle;\n",
       "    }\n",
       "\n",
       "    .dataframe tbody tr th {\n",
       "        vertical-align: top;\n",
       "    }\n",
       "\n",
       "    .dataframe thead th {\n",
       "        text-align: right;\n",
       "    }\n",
       "</style>\n",
       "<table border=\"1\" class=\"dataframe\">\n",
       "  <thead>\n",
       "    <tr style=\"text-align: right;\">\n",
       "      <th></th>\n",
       "      <th>sexo</th>\n",
       "      <th>edad</th>\n",
       "      <th>ecivil</th>\n",
       "      <th>o1</th>\n",
       "      <th>oficio1</th>\n",
       "      <th>o16</th>\n",
       "      <th>s12</th>\n",
       "      <th>ytot</th>\n",
       "      <th>pobreza</th>\n",
       "      <th>esc</th>\n",
       "      <th>educ</th>\n",
       "      <th>depen</th>\n",
       "      <th>activ</th>\n",
       "      <th>indmat</th>\n",
       "      <th>indsan</th>\n",
       "      <th>calglobviv</th>\n",
       "      <th>hacinamiento</th>\n",
       "    </tr>\n",
       "    <tr>\n",
       "      <th>folio</th>\n",
       "      <th></th>\n",
       "      <th></th>\n",
       "      <th></th>\n",
       "      <th></th>\n",
       "      <th></th>\n",
       "      <th></th>\n",
       "      <th></th>\n",
       "      <th></th>\n",
       "      <th></th>\n",
       "      <th></th>\n",
       "      <th></th>\n",
       "      <th></th>\n",
       "      <th></th>\n",
       "      <th></th>\n",
       "      <th></th>\n",
       "      <th></th>\n",
       "      <th></th>\n",
       "    </tr>\n",
       "  </thead>\n",
       "  <tbody>\n",
       "    <tr>\n",
       "      <th>110110020201</th>\n",
       "      <td>Mujer</td>\n",
       "      <td>56</td>\n",
       "      <td>Soltero(a)</td>\n",
       "      <td>Sí</td>\n",
       "      <td>Trabajadores no calificado</td>\n",
       "      <td>NaN</td>\n",
       "      <td>No sabe</td>\n",
       "      <td>250000.0</td>\n",
       "      <td>No pobres</td>\n",
       "      <td>12.0</td>\n",
       "      <td>M. Hum. Completa</td>\n",
       "      <td>NaN</td>\n",
       "      <td>Ocupados</td>\n",
       "      <td>Vivienda Aceptable</td>\n",
       "      <td>Deficitario</td>\n",
       "      <td>Recuperable</td>\n",
       "      <td>Sin hacinamiento (2,49 y menos)</td>\n",
       "    </tr>\n",
       "    <tr>\n",
       "      <th>110110020301</th>\n",
       "      <td>Mujer</td>\n",
       "      <td>21</td>\n",
       "      <td>Soltero(a)</td>\n",
       "      <td>Sí</td>\n",
       "      <td>Trabajadores no calificado</td>\n",
       "      <td>Plazo fijo</td>\n",
       "      <td>Ninguno (Particular)</td>\n",
       "      <td>211091.0</td>\n",
       "      <td>No pobres</td>\n",
       "      <td>7.0</td>\n",
       "      <td>Básica Incom.</td>\n",
       "      <td>NaN</td>\n",
       "      <td>Ocupados</td>\n",
       "      <td>Vivienda Aceptable</td>\n",
       "      <td>Aceptable</td>\n",
       "      <td>Aceptable</td>\n",
       "      <td>Sin hacinamiento (2,49 y menos)</td>\n",
       "    </tr>\n",
       "    <tr>\n",
       "      <th>110110020401</th>\n",
       "      <td>Hombre</td>\n",
       "      <td>24</td>\n",
       "      <td>Conviviente o pareja sin acuerdo de unión civil</td>\n",
       "      <td>Sí</td>\n",
       "      <td>Trabajadores de los servicios y vendedores de ...</td>\n",
       "      <td>Plazo fijo</td>\n",
       "      <td>No sabe</td>\n",
       "      <td>281750.0</td>\n",
       "      <td>No pobres</td>\n",
       "      <td>12.0</td>\n",
       "      <td>M. Hum. Completa</td>\n",
       "      <td>NaN</td>\n",
       "      <td>Ocupados</td>\n",
       "      <td>Vivienda Aceptable</td>\n",
       "      <td>Aceptable</td>\n",
       "      <td>Aceptable</td>\n",
       "      <td>Sin hacinamiento (2,49 y menos)</td>\n",
       "    </tr>\n",
       "    <tr>\n",
       "      <th>110110020401</th>\n",
       "      <td>Hombre</td>\n",
       "      <td>28</td>\n",
       "      <td>Conviviente o pareja sin acuerdo de unión civil</td>\n",
       "      <td>Sí</td>\n",
       "      <td>Trabajadores de los servicios y vendedores de ...</td>\n",
       "      <td>Plazo fijo</td>\n",
       "      <td>No sabe</td>\n",
       "      <td>311750.0</td>\n",
       "      <td>No pobres</td>\n",
       "      <td>12.0</td>\n",
       "      <td>M. Hum. Completa</td>\n",
       "      <td>NaN</td>\n",
       "      <td>Ocupados</td>\n",
       "      <td>Vivienda Aceptable</td>\n",
       "      <td>Aceptable</td>\n",
       "      <td>Aceptable</td>\n",
       "      <td>Sin hacinamiento (2,49 y menos)</td>\n",
       "    </tr>\n",
       "    <tr>\n",
       "      <th>110110020501</th>\n",
       "      <td>Hombre</td>\n",
       "      <td>26</td>\n",
       "      <td>Casado(a)</td>\n",
       "      <td>No</td>\n",
       "      <td>Trabajadores no calificado</td>\n",
       "      <td>Plazo indefinido</td>\n",
       "      <td>Sistema Público FONASA Grupo B</td>\n",
       "      <td>341667.0</td>\n",
       "      <td>No pobres</td>\n",
       "      <td>15.0</td>\n",
       "      <td>Técnico Nivel Superior Completo</td>\n",
       "      <td>NaN</td>\n",
       "      <td>Ocupados</td>\n",
       "      <td>Vivienda Aceptable</td>\n",
       "      <td>Deficitario</td>\n",
       "      <td>Recuperable</td>\n",
       "      <td>Sin hacinamiento (2,49 y menos)</td>\n",
       "    </tr>\n",
       "    <tr>\n",
       "      <th>...</th>\n",
       "      <td>...</td>\n",
       "      <td>...</td>\n",
       "      <td>...</td>\n",
       "      <td>...</td>\n",
       "      <td>...</td>\n",
       "      <td>...</td>\n",
       "      <td>...</td>\n",
       "      <td>...</td>\n",
       "      <td>...</td>\n",
       "      <td>...</td>\n",
       "      <td>...</td>\n",
       "      <td>...</td>\n",
       "      <td>...</td>\n",
       "      <td>...</td>\n",
       "      <td>...</td>\n",
       "      <td>...</td>\n",
       "      <td>...</td>\n",
       "    </tr>\n",
       "    <tr>\n",
       "      <th>1520130021601</th>\n",
       "      <td>Mujer</td>\n",
       "      <td>64</td>\n",
       "      <td>Casado(a)</td>\n",
       "      <td>No</td>\n",
       "      <td>NaN</td>\n",
       "      <td>NaN</td>\n",
       "      <td>Sistema Público FONASA Grupo A</td>\n",
       "      <td>104646.0</td>\n",
       "      <td>No pobres</td>\n",
       "      <td>3.0</td>\n",
       "      <td>Básica Incom.</td>\n",
       "      <td>NaN</td>\n",
       "      <td>Inactivos</td>\n",
       "      <td>Vivienda Recuperable</td>\n",
       "      <td>Deficitario</td>\n",
       "      <td>Recuperable</td>\n",
       "      <td>Sin hacinamiento (2,49 y menos)</td>\n",
       "    </tr>\n",
       "    <tr>\n",
       "      <th>1520130021601</th>\n",
       "      <td>Hombre</td>\n",
       "      <td>64</td>\n",
       "      <td>Casado(a)</td>\n",
       "      <td>Sí</td>\n",
       "      <td>Trabajadores no calificado</td>\n",
       "      <td>NaN</td>\n",
       "      <td>Sistema Público FONASA Grupo A</td>\n",
       "      <td>304646.0</td>\n",
       "      <td>No pobres</td>\n",
       "      <td>4.0</td>\n",
       "      <td>Básica Incom.</td>\n",
       "      <td>NaN</td>\n",
       "      <td>Ocupados</td>\n",
       "      <td>Vivienda Recuperable</td>\n",
       "      <td>Deficitario</td>\n",
       "      <td>Recuperable</td>\n",
       "      <td>Sin hacinamiento (2,49 y menos)</td>\n",
       "    </tr>\n",
       "    <tr>\n",
       "      <th>1520130021701</th>\n",
       "      <td>Hombre</td>\n",
       "      <td>66</td>\n",
       "      <td>Casado(a)</td>\n",
       "      <td>No</td>\n",
       "      <td>NaN</td>\n",
       "      <td>NaN</td>\n",
       "      <td>Sistema Público FONASA Grupo A</td>\n",
       "      <td>90000.0</td>\n",
       "      <td>No pobres</td>\n",
       "      <td>12.0</td>\n",
       "      <td>M. Hum. Completa</td>\n",
       "      <td>NaN</td>\n",
       "      <td>Inactivos</td>\n",
       "      <td>Vivienda Recuperable</td>\n",
       "      <td>Deficitario</td>\n",
       "      <td>Recuperable</td>\n",
       "      <td>Sin hacinamiento (2,49 y menos)</td>\n",
       "    </tr>\n",
       "    <tr>\n",
       "      <th>1520130021701</th>\n",
       "      <td>Mujer</td>\n",
       "      <td>60</td>\n",
       "      <td>Casado(a)</td>\n",
       "      <td>Sí</td>\n",
       "      <td>Agricultores y trabajadores calificados agrope...</td>\n",
       "      <td>NaN</td>\n",
       "      <td>Sistema Público FONASA Grupo A</td>\n",
       "      <td>250000.0</td>\n",
       "      <td>No pobres</td>\n",
       "      <td>3.0</td>\n",
       "      <td>Básica Incom.</td>\n",
       "      <td>NaN</td>\n",
       "      <td>Ocupados</td>\n",
       "      <td>Vivienda Recuperable</td>\n",
       "      <td>Deficitario</td>\n",
       "      <td>Recuperable</td>\n",
       "      <td>Sin hacinamiento (2,49 y menos)</td>\n",
       "    </tr>\n",
       "    <tr>\n",
       "      <th>1520130021801</th>\n",
       "      <td>Mujer</td>\n",
       "      <td>48</td>\n",
       "      <td>Soltero(a)</td>\n",
       "      <td>Sí</td>\n",
       "      <td>Agricultores y trabajadores calificados agrope...</td>\n",
       "      <td>NaN</td>\n",
       "      <td>Sistema Público FONASA Grupo A</td>\n",
       "      <td>800000.0</td>\n",
       "      <td>No pobres</td>\n",
       "      <td>3.0</td>\n",
       "      <td>Básica Incom.</td>\n",
       "      <td>NS/NR</td>\n",
       "      <td>Ocupados</td>\n",
       "      <td>Vivienda Aceptable</td>\n",
       "      <td>Aceptable</td>\n",
       "      <td>Aceptable</td>\n",
       "      <td>Sin hacinamiento (2,49 y menos)</td>\n",
       "    </tr>\n",
       "  </tbody>\n",
       "</table>\n",
       "<p>216439 rows × 17 columns</p>\n",
       "</div>"
      ],
      "text/plain": [
       "                 sexo  edad                                           ecivil  \\\n",
       "folio                                                                          \n",
       "110110020201    Mujer    56                                       Soltero(a)   \n",
       "110110020301    Mujer    21                                       Soltero(a)   \n",
       "110110020401   Hombre    24  Conviviente o pareja sin acuerdo de unión civil   \n",
       "110110020401   Hombre    28  Conviviente o pareja sin acuerdo de unión civil   \n",
       "110110020501   Hombre    26                                        Casado(a)   \n",
       "...               ...   ...                                              ...   \n",
       "1520130021601   Mujer    64                                        Casado(a)   \n",
       "1520130021601  Hombre    64                                        Casado(a)   \n",
       "1520130021701  Hombre    66                                        Casado(a)   \n",
       "1520130021701   Mujer    60                                        Casado(a)   \n",
       "1520130021801   Mujer    48                                       Soltero(a)   \n",
       "\n",
       "               o1                                            oficio1  \\\n",
       "folio                                                                  \n",
       "110110020201   Sí                         Trabajadores no calificado   \n",
       "110110020301   Sí                         Trabajadores no calificado   \n",
       "110110020401   Sí  Trabajadores de los servicios y vendedores de ...   \n",
       "110110020401   Sí  Trabajadores de los servicios y vendedores de ...   \n",
       "110110020501   No                         Trabajadores no calificado   \n",
       "...            ..                                                ...   \n",
       "1520130021601  No                                                NaN   \n",
       "1520130021601  Sí                         Trabajadores no calificado   \n",
       "1520130021701  No                                                NaN   \n",
       "1520130021701  Sí  Agricultores y trabajadores calificados agrope...   \n",
       "1520130021801  Sí  Agricultores y trabajadores calificados agrope...   \n",
       "\n",
       "                            o16                             s12      ytot  \\\n",
       "folio                                                                       \n",
       "110110020201                NaN                         No sabe  250000.0   \n",
       "110110020301         Plazo fijo            Ninguno (Particular)  211091.0   \n",
       "110110020401         Plazo fijo                         No sabe  281750.0   \n",
       "110110020401         Plazo fijo                         No sabe  311750.0   \n",
       "110110020501   Plazo indefinido  Sistema Público FONASA Grupo B  341667.0   \n",
       "...                         ...                             ...       ...   \n",
       "1520130021601               NaN  Sistema Público FONASA Grupo A  104646.0   \n",
       "1520130021601               NaN  Sistema Público FONASA Grupo A  304646.0   \n",
       "1520130021701               NaN  Sistema Público FONASA Grupo A   90000.0   \n",
       "1520130021701               NaN  Sistema Público FONASA Grupo A  250000.0   \n",
       "1520130021801               NaN  Sistema Público FONASA Grupo A  800000.0   \n",
       "\n",
       "                 pobreza   esc                             educ  depen  \\\n",
       "folio                                                                    \n",
       "110110020201   No pobres  12.0                 M. Hum. Completa    NaN   \n",
       "110110020301   No pobres   7.0                    Básica Incom.    NaN   \n",
       "110110020401   No pobres  12.0                 M. Hum. Completa    NaN   \n",
       "110110020401   No pobres  12.0                 M. Hum. Completa    NaN   \n",
       "110110020501   No pobres  15.0  Técnico Nivel Superior Completo    NaN   \n",
       "...                  ...   ...                              ...    ...   \n",
       "1520130021601  No pobres   3.0                    Básica Incom.    NaN   \n",
       "1520130021601  No pobres   4.0                    Básica Incom.    NaN   \n",
       "1520130021701  No pobres  12.0                 M. Hum. Completa    NaN   \n",
       "1520130021701  No pobres   3.0                    Básica Incom.    NaN   \n",
       "1520130021801  No pobres   3.0                    Básica Incom.  NS/NR   \n",
       "\n",
       "                   activ                indmat       indsan   calglobviv  \\\n",
       "folio                                                                      \n",
       "110110020201    Ocupados    Vivienda Aceptable  Deficitario  Recuperable   \n",
       "110110020301    Ocupados    Vivienda Aceptable    Aceptable    Aceptable   \n",
       "110110020401    Ocupados    Vivienda Aceptable    Aceptable    Aceptable   \n",
       "110110020401    Ocupados    Vivienda Aceptable    Aceptable    Aceptable   \n",
       "110110020501    Ocupados    Vivienda Aceptable  Deficitario  Recuperable   \n",
       "...                  ...                   ...          ...          ...   \n",
       "1520130021601  Inactivos  Vivienda Recuperable  Deficitario  Recuperable   \n",
       "1520130021601   Ocupados  Vivienda Recuperable  Deficitario  Recuperable   \n",
       "1520130021701  Inactivos  Vivienda Recuperable  Deficitario  Recuperable   \n",
       "1520130021701   Ocupados  Vivienda Recuperable  Deficitario  Recuperable   \n",
       "1520130021801   Ocupados    Vivienda Aceptable    Aceptable    Aceptable   \n",
       "\n",
       "                                  hacinamiento  \n",
       "folio                                           \n",
       "110110020201   Sin hacinamiento (2,49 y menos)  \n",
       "110110020301   Sin hacinamiento (2,49 y menos)  \n",
       "110110020401   Sin hacinamiento (2,49 y menos)  \n",
       "110110020401   Sin hacinamiento (2,49 y menos)  \n",
       "110110020501   Sin hacinamiento (2,49 y menos)  \n",
       "...                                        ...  \n",
       "1520130021601  Sin hacinamiento (2,49 y menos)  \n",
       "1520130021601  Sin hacinamiento (2,49 y menos)  \n",
       "1520130021701  Sin hacinamiento (2,49 y menos)  \n",
       "1520130021701  Sin hacinamiento (2,49 y menos)  \n",
       "1520130021801  Sin hacinamiento (2,49 y menos)  \n",
       "\n",
       "[216439 rows x 17 columns]"
      ]
     },
     "execution_count": 2,
     "metadata": {},
     "output_type": "execute_result"
    }
   ],
   "source": [
    "data=pd.read_csv('CASEN_2017_select.csv', index_col=0, encoding='latin-1')\n",
    "data"
   ]
  },
  {
   "cell_type": "code",
   "execution_count": 3,
   "metadata": {},
   "outputs": [],
   "source": [
    "#data['sexo']=LabelEncoder().fit_transform(data['sexo'])\n"
   ]
  },
  {
   "cell_type": "code",
   "execution_count": 4,
   "metadata": {},
   "outputs": [
    {
     "data": {
      "text/plain": [
       "sexo                 0\n",
       "edad                 0\n",
       "ecivil               0\n",
       "o1               41363\n",
       "oficio1         124022\n",
       "o16             147809\n",
       "s12                  0\n",
       "ytot             71733\n",
       "pobreza            208\n",
       "esc              42381\n",
       "educ                 0\n",
       "depen           158317\n",
       "activ            41363\n",
       "indmat               0\n",
       "indsan               0\n",
       "calglobviv           0\n",
       "hacinamiento         0\n",
       "dtype: int64"
      ]
     },
     "execution_count": 4,
     "metadata": {},
     "output_type": "execute_result"
    }
   ],
   "source": [
    "data.isnull().sum()"
   ]
  },
  {
   "cell_type": "code",
   "execution_count": 5,
   "metadata": {},
   "outputs": [
    {
     "name": "stderr",
     "output_type": "stream",
     "text": [
      "C:\\Users\\claud\\AppData\\Local\\Temp\\ipykernel_32224\\2799523376.py:2: MatplotlibDeprecationWarning:\n",
      "\n",
      "The 'b' parameter of grid() has been renamed 'visible' since Matplotlib 3.5; support for the old name will be dropped two minor releases later.\n",
      "\n"
     ]
    },
    {
     "data": {
      "image/png": "[encoded data removed]",
      "text/plain": [
       "<Figure size 720x720 with 1 Axes>"
      ]
     },
     "metadata": {
      "needs_background": "light"
     },
     "output_type": "display_data"
    }
   ],
   "source": [
    "\n",
    "((data.isnull().sum()/len(data))*100).sort_values(ascending=True).plot(kind='barh',figsize=(10,10))\n",
    "plt.grid(b=True, which='both')"
   ]
  },
  {
   "cell_type": "code",
   "execution_count": 6,
   "metadata": {},
   "outputs": [
    {
     "name": "stderr",
     "output_type": "stream",
     "text": [
      "C:\\Users\\claud\\AppData\\Local\\Temp\\ipykernel_32224\\3773722473.py:2: MatplotlibDeprecationWarning:\n",
      "\n",
      "The 'b' parameter of grid() has been renamed 'visible' since Matplotlib 3.5; support for the old name will be dropped two minor releases later.\n",
      "\n"
     ]
    },
    {
     "data": {
      "image/png": "[encoded data removed]",
      "text/plain": [
       "<Figure size 720x720 with 1 Axes>"
      ]
     },
     "metadata": {
      "needs_background": "light"
     },
     "output_type": "display_data"
    }
   ],
   "source": [
    "data['sexo'].value_counts().plot(kind='barh', figsize=(10,10))\n",
    "plt.grid(b=True, which='both')"
   ]
  },
  {
   "cell_type": "code",
   "execution_count": 7,
   "metadata": {},
   "outputs": [
    {
     "data": {
      "text/plain": [
       "Mujer     52.262762\n",
       "Hombre    47.737238\n",
       "Name: sexo, dtype: float64"
      ]
     },
     "execution_count": 7,
     "metadata": {},
     "output_type": "execute_result"
    }
   ],
   "source": [
    "data['sexo'].value_counts()/len(data)*100"
   ]
  },
  {
   "cell_type": "code",
   "execution_count": 8,
   "metadata": {},
   "outputs": [
    {
     "name": "stderr",
     "output_type": "stream",
     "text": [
      "C:\\Users\\claud\\AppData\\Local\\Temp\\ipykernel_32224\\599517549.py:2: MatplotlibDeprecationWarning:\n",
      "\n",
      "The 'b' parameter of grid() has been renamed 'visible' since Matplotlib 3.5; support for the old name will be dropped two minor releases later.\n",
      "\n"
     ]
    },
    {
     "data": {
      "image/png": "[encoded data removed]",
      "text/plain": [
       "<Figure size 720x720 with 1 Axes>"
      ]
     },
     "metadata": {
      "needs_background": "light"
     },
     "output_type": "display_data"
    }
   ],
   "source": [
    "((data['sexo'].value_counts()/len(data))*100).plot(kind='barh', figsize=(10,10))\n",
    "plt.grid(b=True, which='both')"
   ]
  },
  {
   "cell_type": "markdown",
   "metadata": {},
   "source": [
    "## contar tipo por sexo\n",
    "* Hombre y mujeres\n",
    "* Como podemos ver hay mas mujeres que hombres\n",
    "* 47.7% hombres y 52.2% mujeres\n"
   ]
  },
  {
   "cell_type": "markdown",
   "metadata": {},
   "source": [
    "## Educacion"
   ]
  },
  {
   "cell_type": "code",
   "execution_count": 9,
   "metadata": {},
   "outputs": [
    {
     "data": {
      "image/png": "[encoded data removed]",
      "text/plain": [
       "<Figure size 720x720 with 1 Axes>"
      ]
     },
     "metadata": {
      "needs_background": "light"
     },
     "output_type": "display_data"
    }
   ],
   "source": [
    "data['educ'].value_counts().plot(kind='barh', figsize=(10,10))\n",
    "plt.grid()\n",
    "plt.title(\"Grafico de nivel de  educación \")\n",
    "plt.show()"
   ]
  },
  {
   "cell_type": "markdown",
   "metadata": {},
   "source": [
    "* Hay 14 segmentos diferentes en el dataset \n",
    "* El sesgo principal en el nivel de educación se encuentra en basica incompleta\n",
    "* El segundo en el nivel de educación se encuentra en enseñanza media completa\n",
    "* el menor en el nivel de educación se encuentra en postgrado incompleto"
   ]
  },
  {
   "cell_type": "markdown",
   "metadata": {},
   "source": [
    "## Grafico de pie"
   ]
  },
  {
   "cell_type": "code",
   "execution_count": 10,
   "metadata": {},
   "outputs": [
    {
     "data": {
      "application/vnd.plotly.v1+json": {
       "config": {
        "linkText": "Export to plot.ly",
        "plotlyServerURL": "https://plot.ly",
        "showLink": false
       },
       "data": [
        {
         "labels": [
          "Mujer",
          "Hombre"
         ],
         "marker": {
          "colors": [
           "#6ad49b",
           "#a678de"
          ]
         },
         "pull": [
          0.05,
          0
         ],
         "type": "pie",
         "values": [
          113117,
          103322
         ]
        }
       ],
       "layout": {
        "height": 600,
        "legend": {
         "x": 0.1,
         "y": 1.1
        },
        "template": {
         "data": {
          "bar": [
           {
            "error_x": {
             "color": "#2a3f5f"
            },
            "error_y": {
             "color": "#2a3f5f"
            },
            "marker": {
             "line": {
              "color": "#E5ECF6",
              "width": 0.5
             },
             "pattern": {
              "fillmode": "overlay",
              "size": 10,
              "solidity": 0.2
             }
            },
            "type": "bar"
           }
          ],
          "barpolar": [
           {
            "marker": {
             "line": {
              "color": "#E5ECF6",
              "width": 0.5
             },
             "pattern": {
              "fillmode": "overlay",
              "size": 10,
              "solidity": 0.2
             }
            },
            "type": "barpolar"
           }
          ],
          "carpet": [
           {
            "aaxis": {
             "endlinecolor": "#2a3f5f",
             "gridcolor": "white",
             "linecolor": "white",
             "minorgridcolor": "white",
             "startlinecolor": "#2a3f5f"
            },
            "baxis": {
             "endlinecolor": "#2a3f5f",
             "gridcolor": "white",
             "linecolor": "white",
             "minorgridcolor": "white",
             "startlinecolor": "#2a3f5f"
            },
            "type": "carpet"
           }
          ],
          "choropleth": [
           {
            "colorbar": {
             "outlinewidth": 0,
             "ticks": ""
            },
            "type": "choropleth"
           }
          ],
          "contour": [
           {
            "colorbar": {
             "outlinewidth": 0,
             "ticks": ""
            },
            "colorscale": [
             [
              0,
              "#0d0887"
             ],
             [
              0.1111111111111111,
              "#46039f"
             ],
             [
              0.2222222222222222,
              "#7201a8"
             ],
             [
              0.3333333333333333,
              "#9c179e"
             ],
             [
              0.4444444444444444,
              "#bd3786"
             ],
             [
              0.5555555555555556,
              "#d8576b"
             ],
             [
              0.6666666666666666,
              "#ed7953"
             ],
             [
              0.7777777777777778,
              "#fb9f3a"
             ],
             [
              0.8888888888888888,
              "#fdca26"
             ],
             [
              1,
              "#f0f921"
             ]
            ],
            "type": "contour"
           }
          ],
          "contourcarpet": [
           {
            "colorbar": {
             "outlinewidth": 0,
             "ticks": ""
            },
            "type": "contourcarpet"
           }
          ],
          "heatmap": [
           {
            "colorbar": {
             "outlinewidth": 0,
             "ticks": ""
            },
            "colorscale": [
             [
              0,
              "#0d0887"
             ],
             [
              0.1111111111111111,
              "#46039f"
             ],
             [
              0.2222222222222222,
              "#7201a8"
             ],
             [
              0.3333333333333333,
              "#9c179e"
             ],
             [
              0.4444444444444444,
              "#bd3786"
             ],
             [
              0.5555555555555556,
              "#d8576b"
             ],
             [
              0.6666666666666666,
              "#ed7953"
             ],
             [
              0.7777777777777778,
              "#fb9f3a"
             ],
             [
              0.8888888888888888,
              "#fdca26"
             ],
             [
              1,
              "#f0f921"
             ]
            ],
            "type": "heatmap"
           }
          ],
          "heatmapgl": [
           {
            "colorbar": {
             "outlinewidth": 0,
             "ticks": ""
            },
            "colorscale": [
             [
              0,
              "#0d0887"
             ],
             [
              0.1111111111111111,
              "#46039f"
             ],
             [
              0.2222222222222222,
              "#7201a8"
             ],
             [
              0.3333333333333333,
              "#9c179e"
             ],
             [
              0.4444444444444444,
              "#bd3786"
             ],
             [
              0.5555555555555556,
              "#d8576b"
             ],
             [
              0.6666666666666666,
              "#ed7953"
             ],
             [
              0.7777777777777778,
              "#fb9f3a"
             ],
             [
              0.8888888888888888,
              "#fdca26"
             ],
             [
              1,
              "#f0f921"
             ]
            ],
            "type": "heatmapgl"
           }
          ],
          "histogram": [
           {
            "marker": {
             "pattern": {
              "fillmode": "overlay",
              "size": 10,
              "solidity": 0.2
             }
            },
            "type": "histogram"
           }
          ],
          "histogram2d": [
           {
            "colorbar": {
             "outlinewidth": 0,
             "ticks": ""
            },
            "colorscale": [
             [
              0,
              "#0d0887"
             ],
             [
              0.1111111111111111,
              "#46039f"
             ],
             [
              0.2222222222222222,
              "#7201a8"
             ],
             [
              0.3333333333333333,
              "#9c179e"
             ],
             [
              0.4444444444444444,
              "#bd3786"
             ],
             [
              0.5555555555555556,
              "#d8576b"
             ],
             [
              0.6666666666666666,
              "#ed7953"
             ],
             [
              0.7777777777777778,
              "#fb9f3a"
             ],
             [
              0.8888888888888888,
              "#fdca26"
             ],
             [
              1,
              "#f0f921"
             ]
            ],
            "type": "histogram2d"
           }
          ],
          "histogram2dcontour": [
           {
            "colorbar": {
             "outlinewidth": 0,
             "ticks": ""
            },
            "colorscale": [
             [
              0,
              "#0d0887"
             ],
             [
              0.1111111111111111,
              "#46039f"
             ],
             [
              0.2222222222222222,
              "#7201a8"
             ],
             [
              0.3333333333333333,
              "#9c179e"
             ],
             [
              0.4444444444444444,
              "#bd3786"
             ],
             [
              0.5555555555555556,
              "#d8576b"
             ],
             [
              0.6666666666666666,
              "#ed7953"
             ],
             [
              0.7777777777777778,
              "#fb9f3a"
             ],
             [
              0.8888888888888888,
              "#fdca26"
             ],
             [
              1,
              "#f0f921"
             ]
            ],
            "type": "histogram2dcontour"
           }
          ],
          "mesh3d": [
           {
            "colorbar": {
             "outlinewidth": 0,
             "ticks": ""
            },
            "type": "mesh3d"
           }
          ],
          "parcoords": [
           {
            "line": {
             "colorbar": {
              "outlinewidth": 0,
              "ticks": ""
             }
            },
            "type": "parcoords"
           }
          ],
          "pie": [
           {
            "automargin": true,
            "type": "pie"
           }
          ],
          "scatter": [
           {
            "marker": {
             "colorbar": {
              "outlinewidth": 0,
              "ticks": ""
             }
            },
            "type": "scatter"
           }
          ],
          "scatter3d": [
           {
            "line": {
             "colorbar": {
              "outlinewidth": 0,
              "ticks": ""
             }
            },
            "marker": {
             "colorbar": {
              "outlinewidth": 0,
              "ticks": ""
             }
            },
            "type": "scatter3d"
           }
          ],
          "scattercarpet": [
           {
            "marker": {
             "colorbar": {
              "outlinewidth": 0,
              "ticks": ""
             }
            },
            "type": "scattercarpet"
           }
          ],
          "scattergeo": [
           {
            "marker": {
             "colorbar": {
              "outlinewidth": 0,
              "ticks": ""
             }
            },
            "type": "scattergeo"
           }
          ],
          "scattergl": [
           {
            "marker": {
             "colorbar": {
              "outlinewidth": 0,
              "ticks": ""
             }
            },
            "type": "scattergl"
           }
          ],
          "scattermapbox": [
           {
            "marker": {
             "colorbar": {
              "outlinewidth": 0,
              "ticks": ""
             }
            },
            "type": "scattermapbox"
           }
          ],
          "scatterpolar": [
           {
            "marker": {
             "colorbar": {
              "outlinewidth": 0,
              "ticks": ""
             }
            },
            "type": "scatterpolar"
           }
          ],
          "scatterpolargl": [
           {
            "marker": {
             "colorbar": {
              "outlinewidth": 0,
              "ticks": ""
             }
            },
            "type": "scatterpolargl"
           }
          ],
          "scatterternary": [
           {
            "marker": {
             "colorbar": {
              "outlinewidth": 0,
              "ticks": ""
             }
            },
            "type": "scatterternary"
           }
          ],
          "surface": [
           {
            "colorbar": {
             "outlinewidth": 0,
             "ticks": ""
            },
            "colorscale": [
             [
              0,
              "#0d0887"
             ],
             [
              0.1111111111111111,
              "#46039f"
             ],
             [
              0.2222222222222222,
              "#7201a8"
             ],
             [
              0.3333333333333333,
              "#9c179e"
             ],
             [
              0.4444444444444444,
              "#bd3786"
             ],
             [
              0.5555555555555556,
              "#d8576b"
             ],
             [
              0.6666666666666666,
              "#ed7953"
             ],
             [
              0.7777777777777778,
              "#fb9f3a"
             ],
             [
              0.8888888888888888,
              "#fdca26"
             ],
             [
              1,
              "#f0f921"
             ]
            ],
            "type": "surface"
           }
          ],
          "table": [
           {
            "cells": {
             "fill": {
              "color": "#EBF0F8"
             },
             "line": {
              "color": "white"
             }
            },
            "header": {
             "fill": {
              "color": "#C8D4E3"
             },
             "line": {
              "color": "white"
             }
            },
            "type": "table"
           }
          ]
         },
         "layout": {
          "annotationdefaults": {
           "arrowcolor": "#2a3f5f",
           "arrowhead": 0,
           "arrowwidth": 1
          },
          "autotypenumbers": "strict",
          "coloraxis": {
           "colorbar": {
            "outlinewidth": 0,
            "ticks": ""
           }
          },
          "colorscale": {
           "diverging": [
            [
             0,
             "#8e0152"
            ],
            [
             0.1,
             "#c51b7d"
            ],
            [
             0.2,
             "#de77ae"
            ],
            [
             0.3,
             "#f1b6da"
            ],
            [
             0.4,
             "#fde0ef"
            ],
            [
             0.5,
             "#f7f7f7"
            ],
            [
             0.6,
             "#e6f5d0"
            ],
            [
             0.7,
             "#b8e186"
            ],
            [
             0.8,
             "#7fbc41"
            ],
            [
             0.9,
             "#4d9221"
            ],
            [
             1,
             "#276419"
            ]
           ],
           "sequential": [
            [
             0,
             "#0d0887"
            ],
            [
             0.1111111111111111,
             "#46039f"
            ],
            [
             0.2222222222222222,
             "#7201a8"
            ],
            [
             0.3333333333333333,
             "#9c179e"
            ],
            [
             0.4444444444444444,
             "#bd3786"
            ],
            [
             0.5555555555555556,
             "#d8576b"
            ],
            [
             0.6666666666666666,
             "#ed7953"
            ],
            [
             0.7777777777777778,
             "#fb9f3a"
            ],
            [
             0.8888888888888888,
             "#fdca26"
            ],
            [
             1,
             "#f0f921"
            ]
           ],
           "sequentialminus": [
            [
             0,
             "#0d0887"
            ],
            [
             0.1111111111111111,
             "#46039f"
            ],
            [
             0.2222222222222222,
             "#7201a8"
            ],
            [
             0.3333333333333333,
             "#9c179e"
            ],
            [
             0.4444444444444444,
             "#bd3786"
            ],
            [
             0.5555555555555556,
             "#d8576b"
            ],
            [
             0.6666666666666666,
             "#ed7953"
            ],
            [
             0.7777777777777778,
             "#fb9f3a"
            ],
            [
             0.8888888888888888,
             "#fdca26"
            ],
            [
             1,
             "#f0f921"
            ]
           ]
          },
          "colorway": [
           "#636efa",
           "#EF553B",
           "#00cc96",
           "#ab63fa",
           "#FFA15A",
           "#19d3f3",
           "#FF6692",
           "#B6E880",
           "#FF97FF",
           "#FECB52"
          ],
          "font": {
           "color": "#2a3f5f"
          },
          "geo": {
           "bgcolor": "white",
           "lakecolor": "white",
           "landcolor": "#E5ECF6",
           "showlakes": true,
           "showland": true,
           "subunitcolor": "white"
          },
          "hoverlabel": {
           "align": "left"
          },
          "hovermode": "closest",
          "mapbox": {
           "style": "light"
          },
          "paper_bgcolor": "white",
          "plot_bgcolor": "#E5ECF6",
          "polar": {
           "angularaxis": {
            "gridcolor": "white",
            "linecolor": "white",
            "ticks": ""
           },
           "bgcolor": "#E5ECF6",
           "radialaxis": {
            "gridcolor": "white",
            "linecolor": "white",
            "ticks": ""
           }
          },
          "scene": {
           "xaxis": {
            "backgroundcolor": "#E5ECF6",
            "gridcolor": "white",
            "gridwidth": 2,
            "linecolor": "white",
            "showbackground": true,
            "ticks": "",
            "zerolinecolor": "white"
           },
           "yaxis": {
            "backgroundcolor": "#E5ECF6",
            "gridcolor": "white",
            "gridwidth": 2,
            "linecolor": "white",
            "showbackground": true,
            "ticks": "",
            "zerolinecolor": "white"
           },
           "zaxis": {
            "backgroundcolor": "#E5ECF6",
            "gridcolor": "white",
            "gridwidth": 2,
            "linecolor": "white",
            "showbackground": true,
            "ticks": "",
            "zerolinecolor": "white"
           }
          },
          "shapedefaults": {
           "line": {
            "color": "#2a3f5f"
           }
          },
          "ternary": {
           "aaxis": {
            "gridcolor": "white",
            "linecolor": "white",
            "ticks": ""
           },
           "baxis": {
            "gridcolor": "white",
            "linecolor": "white",
            "ticks": ""
           },
           "bgcolor": "#E5ECF6",
           "caxis": {
            "gridcolor": "white",
            "linecolor": "white",
            "ticks": ""
           }
          },
          "title": {
           "x": 0.05
          },
          "xaxis": {
           "automargin": true,
           "gridcolor": "white",
           "linecolor": "white",
           "ticks": "",
           "title": {
            "standoff": 15
           },
           "zerolinecolor": "white",
           "zerolinewidth": 2
          },
          "yaxis": {
           "automargin": true,
           "gridcolor": "white",
           "linecolor": "white",
           "ticks": "",
           "title": {
            "standoff": 15
           },
           "zerolinecolor": "white",
           "zerolinewidth": 2
          }
         }
        },
        "title": {
         "text": ""
        }
       }
      }
     },
     "metadata": {},
     "output_type": "display_data"
    }
   ],
   "source": [
    "col = \"sexo\"\n",
    "grouped = data[col].value_counts().reset_index()\n",
    "grouped = grouped.rename(columns = {col : \"count\", \"index\" : col})\n",
    "\n",
    "## plot\n",
    "trace = go.Pie(labels=grouped[col], values=grouped['count'], pull=[0.05, 0], marker=dict(colors=[\"#6ad49b\", \"#a678de\"]))\n",
    "layout = go.Layout(title=\"\", height=600, legend=dict(x=0.1, y=1.1))\n",
    "fig = go.Figure(data = [trace], layout = layout)\n",
    "iplot(fig)"
   ]
  },
  {
   "cell_type": "code",
   "execution_count": 11,
   "metadata": {},
   "outputs": [
    {
     "data": {
      "application/vnd.plotly.v1+json": {
       "config": {
        "linkText": "Export to plot.ly",
        "plotlyServerURL": "https://plot.ly",
        "showLink": false
       },
       "data": [
        {
         "labels": [
          "Básica Incom.",
          "M. Hum. Completa",
          "M. Hum. Incompleta",
          "Sin Educ. Formal",
          "Básica Compl.",
          "Profesional Completo",
          "Profesional Incompleto",
          "M. Téc Completa",
          "Técnico Nivel Superior Completo",
          "Técnico Nivel Superior Incompleta",
          "M. Téc. Prof. Incompleta",
          "Postgrado Completo",
          "NS/NR",
          "Postgrado Incompleto"
         ],
         "marker": {
          "colors": [
           "#6ad49b",
           "#a678de"
          ]
         },
         "pull": [
          0.05,
          0
         ],
         "type": "pie",
         "values": [
          43845,
          39121,
          23863,
          22170,
          21386,
          16628,
          13134,
          12380,
          10491,
          5427,
          4672,
          1668,
          1132,
          522
         ]
        }
       ],
       "layout": {
        "height": 800,
        "legend": {
         "x": 0.1,
         "y": 1.1
        },
        "template": {
         "data": {
          "bar": [
           {
            "error_x": {
             "color": "#2a3f5f"
            },
            "error_y": {
             "color": "#2a3f5f"
            },
            "marker": {
             "line": {
              "color": "#E5ECF6",
              "width": 0.5
             },
             "pattern": {
              "fillmode": "overlay",
              "size": 10,
              "solidity": 0.2
             }
            },
            "type": "bar"
           }
          ],
          "barpolar": [
           {
            "marker": {
             "line": {
              "color": "#E5ECF6",
              "width": 0.5
             },
             "pattern": {
              "fillmode": "overlay",
              "size": 10,
              "solidity": 0.2
             }
            },
            "type": "barpolar"
           }
          ],
          "carpet": [
           {
            "aaxis": {
             "endlinecolor": "#2a3f5f",
             "gridcolor": "white",
             "linecolor": "white",
             "minorgridcolor": "white",
             "startlinecolor": "#2a3f5f"
            },
            "baxis": {
             "endlinecolor": "#2a3f5f",
             "gridcolor": "white",
             "linecolor": "white",
             "minorgridcolor": "white",
             "startlinecolor": "#2a3f5f"
            },
            "type": "carpet"
           }
          ],
          "choropleth": [
           {
            "colorbar": {
             "outlinewidth": 0,
             "ticks": ""
            },
            "type": "choropleth"
           }
          ],
          "contour": [
           {
            "colorbar": {
             "outlinewidth": 0,
             "ticks": ""
            },
            "colorscale": [
             [
              0,
              "#0d0887"
             ],
             [
              0.1111111111111111,
              "#46039f"
             ],
             [
              0.2222222222222222,
              "#7201a8"
             ],
             [
              0.3333333333333333,
              "#9c179e"
             ],
             [
              0.4444444444444444,
              "#bd3786"
             ],
             [
              0.5555555555555556,
              "#d8576b"
             ],
             [
              0.6666666666666666,
              "#ed7953"
             ],
             [
              0.7777777777777778,
              "#fb9f3a"
             ],
             [
              0.8888888888888888,
              "#fdca26"
             ],
             [
              1,
              "#f0f921"
             ]
            ],
            "type": "contour"
           }
          ],
          "contourcarpet": [
           {
            "colorbar": {
             "outlinewidth": 0,
             "ticks": ""
            },
            "type": "contourcarpet"
           }
          ],
          "heatmap": [
           {
            "colorbar": {
             "outlinewidth": 0,
             "ticks": ""
            },
            "colorscale": [
             [
              0,
              "#0d0887"
             ],
             [
              0.1111111111111111,
              "#46039f"
             ],
             [
              0.2222222222222222,
              "#7201a8"
             ],
             [
              0.3333333333333333,
              "#9c179e"
             ],
             [
              0.4444444444444444,
              "#bd3786"
             ],
             [
              0.5555555555555556,
              "#d8576b"
             ],
             [
              0.6666666666666666,
              "#ed7953"
             ],
             [
              0.7777777777777778,
              "#fb9f3a"
             ],
             [
              0.8888888888888888,
              "#fdca26"
             ],
             [
              1,
              "#f0f921"
             ]
            ],
            "type": "heatmap"
           }
          ],
          "heatmapgl": [
           {
            "colorbar": {
             "outlinewidth": 0,
             "ticks": ""
            },
            "colorscale": [
             [
              0,
              "#0d0887"
             ],
             [
              0.1111111111111111,
              "#46039f"
             ],
             [
              0.2222222222222222,
              "#7201a8"
             ],
             [
              0.3333333333333333,
              "#9c179e"
             ],
             [
              0.4444444444444444,
              "#bd3786"
             ],
             [
              0.5555555555555556,
              "#d8576b"
             ],
             [
              0.6666666666666666,
              "#ed7953"
             ],
             [
              0.7777777777777778,
              "#fb9f3a"
             ],
             [
              0.8888888888888888,
              "#fdca26"
             ],
             [
              1,
              "#f0f921"
             ]
            ],
            "type": "heatmapgl"
           }
          ],
          "histogram": [
           {
            "marker": {
             "pattern": {
              "fillmode": "overlay",
              "size": 10,
              "solidity": 0.2
             }
            },
            "type": "histogram"
           }
          ],
          "histogram2d": [
           {
            "colorbar": {
             "outlinewidth": 0,
             "ticks": ""
            },
            "colorscale": [
             [
              0,
              "#0d0887"
             ],
             [
              0.1111111111111111,
              "#46039f"
             ],
             [
              0.2222222222222222,
              "#7201a8"
             ],
             [
              0.3333333333333333,
              "#9c179e"
             ],
             [
              0.4444444444444444,
              "#bd3786"
             ],
             [
              0.5555555555555556,
              "#d8576b"
             ],
             [
              0.6666666666666666,
              "#ed7953"
             ],
             [
              0.7777777777777778,
              "#fb9f3a"
             ],
             [
              0.8888888888888888,
              "#fdca26"
             ],
             [
              1,
              "#f0f921"
             ]
            ],
            "type": "histogram2d"
           }
          ],
          "histogram2dcontour": [
           {
            "colorbar": {
             "outlinewidth": 0,
             "ticks": ""
            },
            "colorscale": [
             [
              0,
              "#0d0887"
             ],
             [
              0.1111111111111111,
              "#46039f"
             ],
             [
              0.2222222222222222,
              "#7201a8"
             ],
             [
              0.3333333333333333,
              "#9c179e"
             ],
             [
              0.4444444444444444,
              "#bd3786"
             ],
             [
              0.5555555555555556,
              "#d8576b"
             ],
             [
              0.6666666666666666,
              "#ed7953"
             ],
             [
              0.7777777777777778,
              "#fb9f3a"
             ],
             [
              0.8888888888888888,
              "#fdca26"
             ],
             [
              1,
              "#f0f921"
             ]
            ],
            "type": "histogram2dcontour"
           }
          ],
          "mesh3d": [
           {
            "colorbar": {
             "outlinewidth": 0,
             "ticks": ""
            },
            "type": "mesh3d"
           }
          ],
          "parcoords": [
           {
            "line": {
             "colorbar": {
              "outlinewidth": 0,
              "ticks": ""
             }
            },
            "type": "parcoords"
           }
          ],
          "pie": [
           {
            "automargin": true,
            "type": "pie"
           }
          ],
          "scatter": [
           {
            "marker": {
             "colorbar": {
              "outlinewidth": 0,
              "ticks": ""
             }
            },
            "type": "scatter"
           }
          ],
          "scatter3d": [
           {
            "line": {
             "colorbar": {
              "outlinewidth": 0,
              "ticks": ""
             }
            },
            "marker": {
             "colorbar": {
              "outlinewidth": 0,
              "ticks": ""
             }
            },
            "type": "scatter3d"
           }
          ],
          "scattercarpet": [
           {
            "marker": {
             "colorbar": {
              "outlinewidth": 0,
              "ticks": ""
             }
            },
            "type": "scattercarpet"
           }
          ],
          "scattergeo": [
           {
            "marker": {
             "colorbar": {
              "outlinewidth": 0,
              "ticks": ""
             }
            },
            "type": "scattergeo"
           }
          ],
          "scattergl": [
           {
            "marker": {
             "colorbar": {
              "outlinewidth": 0,
              "ticks": ""
             }
            },
            "type": "scattergl"
           }
          ],
          "scattermapbox": [
           {
            "marker": {
             "colorbar": {
              "outlinewidth": 0,
              "ticks": ""
             }
            },
            "type": "scattermapbox"
           }
          ],
          "scatterpolar": [
           {
            "marker": {
             "colorbar": {
              "outlinewidth": 0,
              "ticks": ""
             }
            },
            "type": "scatterpolar"
           }
          ],
          "scatterpolargl": [
           {
            "marker": {
             "colorbar": {
              "outlinewidth": 0,
              "ticks": ""
             }
            },
            "type": "scatterpolargl"
           }
          ],
          "scatterternary": [
           {
            "marker": {
             "colorbar": {
              "outlinewidth": 0,
              "ticks": ""
             }
            },
            "type": "scatterternary"
           }
          ],
          "surface": [
           {
            "colorbar": {
             "outlinewidth": 0,
             "ticks": ""
            },
            "colorscale": [
             [
              0,
              "#0d0887"
             ],
             [
              0.1111111111111111,
              "#46039f"
             ],
             [
              0.2222222222222222,
              "#7201a8"
             ],
             [
              0.3333333333333333,
              "#9c179e"
             ],
             [
              0.4444444444444444,
              "#bd3786"
             ],
             [
              0.5555555555555556,
              "#d8576b"
             ],
             [
              0.6666666666666666,
              "#ed7953"
             ],
             [
              0.7777777777777778,
              "#fb9f3a"
             ],
             [
              0.8888888888888888,
              "#fdca26"
             ],
             [
              1,
              "#f0f921"
             ]
            ],
            "type": "surface"
           }
          ],
          "table": [
           {
            "cells": {
             "fill": {
              "color": "#EBF0F8"
             },
             "line": {
              "color": "white"
             }
            },
            "header": {
             "fill": {
              "color": "#C8D4E3"
             },
             "line": {
              "color": "white"
             }
            },
            "type": "table"
           }
          ]
         },
         "layout": {
          "annotationdefaults": {
           "arrowcolor": "#2a3f5f",
           "arrowhead": 0,
           "arrowwidth": 1
          },
          "autotypenumbers": "strict",
          "coloraxis": {
           "colorbar": {
            "outlinewidth": 0,
            "ticks": ""
           }
          },
          "colorscale": {
           "diverging": [
            [
             0,
             "#8e0152"
            ],
            [
             0.1,
             "#c51b7d"
            ],
            [
             0.2,
             "#de77ae"
            ],
            [
             0.3,
             "#f1b6da"
            ],
            [
             0.4,
             "#fde0ef"
            ],
            [
             0.5,
             "#f7f7f7"
            ],
            [
             0.6,
             "#e6f5d0"
            ],
            [
             0.7,
             "#b8e186"
            ],
            [
             0.8,
             "#7fbc41"
            ],
            [
             0.9,
             "#4d9221"
            ],
            [
             1,
             "#276419"
            ]
           ],
           "sequential": [
            [
             0,
             "#0d0887"
            ],
            [
             0.1111111111111111,
             "#46039f"
            ],
            [
             0.2222222222222222,
             "#7201a8"
            ],
            [
             0.3333333333333333,
             "#9c179e"
            ],
            [
             0.4444444444444444,
             "#bd3786"
            ],
            [
             0.5555555555555556,
             "#d8576b"
            ],
            [
             0.6666666666666666,
             "#ed7953"
            ],
            [
             0.7777777777777778,
             "#fb9f3a"
            ],
            [
             0.8888888888888888,
             "#fdca26"
            ],
            [
             1,
             "#f0f921"
            ]
           ],
           "sequentialminus": [
            [
             0,
             "#0d0887"
            ],
            [
             0.1111111111111111,
             "#46039f"
            ],
            [
             0.2222222222222222,
             "#7201a8"
            ],
            [
             0.3333333333333333,
             "#9c179e"
            ],
            [
             0.4444444444444444,
             "#bd3786"
            ],
            [
             0.5555555555555556,
             "#d8576b"
            ],
            [
             0.6666666666666666,
             "#ed7953"
            ],
            [
             0.7777777777777778,
             "#fb9f3a"
            ],
            [
             0.8888888888888888,
             "#fdca26"
            ],
            [
             1,
             "#f0f921"
            ]
           ]
          },
          "colorway": [
           "#636efa",
           "#EF553B",
           "#00cc96",
           "#ab63fa",
           "#FFA15A",
           "#19d3f3",
           "#FF6692",
           "#B6E880",
           "#FF97FF",
           "#FECB52"
          ],
          "font": {
           "color": "#2a3f5f"
          },
          "geo": {
           "bgcolor": "white",
           "lakecolor": "white",
           "landcolor": "#E5ECF6",
           "showlakes": true,
           "showland": true,
           "subunitcolor": "white"
          },
          "hoverlabel": {
           "align": "left"
          },
          "hovermode": "closest",
          "mapbox": {
           "style": "light"
          },
          "paper_bgcolor": "white",
          "plot_bgcolor": "#E5ECF6",
          "polar": {
           "angularaxis": {
            "gridcolor": "white",
            "linecolor": "white",
            "ticks": ""
           },
           "bgcolor": "#E5ECF6",
           "radialaxis": {
            "gridcolor": "white",
            "linecolor": "white",
            "ticks": ""
           }
          },
          "scene": {
           "xaxis": {
            "backgroundcolor": "#E5ECF6",
            "gridcolor": "white",
            "gridwidth": 2,
            "linecolor": "white",
            "showbackground": true,
            "ticks": "",
            "zerolinecolor": "white"
           },
           "yaxis": {
            "backgroundcolor": "#E5ECF6",
            "gridcolor": "white",
            "gridwidth": 2,
            "linecolor": "white",
            "showbackground": true,
            "ticks": "",
            "zerolinecolor": "white"
           },
           "zaxis": {
            "backgroundcolor": "#E5ECF6",
            "gridcolor": "white",
            "gridwidth": 2,
            "linecolor": "white",
            "showbackground": true,
            "ticks": "",
            "zerolinecolor": "white"
           }
          },
          "shapedefaults": {
           "line": {
            "color": "#2a3f5f"
           }
          },
          "ternary": {
           "aaxis": {
            "gridcolor": "white",
            "linecolor": "white",
            "ticks": ""
           },
           "baxis": {
            "gridcolor": "white",
            "linecolor": "white",
            "ticks": ""
           },
           "bgcolor": "#E5ECF6",
           "caxis": {
            "gridcolor": "white",
            "linecolor": "white",
            "ticks": ""
           }
          },
          "title": {
           "x": 0.05
          },
          "xaxis": {
           "automargin": true,
           "gridcolor": "white",
           "linecolor": "white",
           "ticks": "",
           "title": {
            "standoff": 15
           },
           "zerolinecolor": "white",
           "zerolinewidth": 2
          },
          "yaxis": {
           "automargin": true,
           "gridcolor": "white",
           "linecolor": "white",
           "ticks": "",
           "title": {
            "standoff": 15
           },
           "zerolinecolor": "white",
           "zerolinewidth": 2
          }
         }
        },
        "title": {
         "text": ""
        }
       }
      }
     },
     "metadata": {},
     "output_type": "display_data"
    },
    {
     "data": {
      "text/plain": [
       "<Figure size 720x720 with 0 Axes>"
      ]
     },
     "metadata": {},
     "output_type": "display_data"
    }
   ],
   "source": [
    "col = \"educ\"\n",
    "grouped = data[col].value_counts().reset_index()\n",
    "grouped = grouped.rename(columns = {col : \"count\", \"index\" : col})\n",
    "\n",
    "## plot\n",
    "plt.figure(figsize=(10,10))\n",
    "trace = go.Pie(labels=grouped[col], values=grouped['count'], pull=[0.05, 0], marker=dict(colors=[\"#6ad49b\", \"#a678de\"]))\n",
    "layout = go.Layout(title=\"\", height=800, legend=dict(x=0.1, y=1.1))\n",
    "fig = go.Figure(data = [trace], layout = layout)\n",
    "iplot(fig)"
   ]
  },
  {
   "cell_type": "code",
   "execution_count": 12,
   "metadata": {},
   "outputs": [
    {
     "data": {
      "text/html": [
       "<div>\n",
       "<style scoped>\n",
       "    .dataframe tbody tr th:only-of-type {\n",
       "        vertical-align: middle;\n",
       "    }\n",
       "\n",
       "    .dataframe tbody tr th {\n",
       "        vertical-align: top;\n",
       "    }\n",
       "\n",
       "    .dataframe thead th {\n",
       "        text-align: right;\n",
       "    }\n",
       "</style>\n",
       "<table border=\"1\" class=\"dataframe\">\n",
       "  <thead>\n",
       "    <tr style=\"text-align: right;\">\n",
       "      <th>col_0</th>\n",
       "      <th>N</th>\n",
       "    </tr>\n",
       "    <tr>\n",
       "      <th>activ</th>\n",
       "      <th></th>\n",
       "    </tr>\n",
       "  </thead>\n",
       "  <tbody>\n",
       "    <tr>\n",
       "      <th>Desocupados</th>\n",
       "      <td>7803</td>\n",
       "    </tr>\n",
       "    <tr>\n",
       "      <th>Inactivos</th>\n",
       "      <td>74856</td>\n",
       "    </tr>\n",
       "    <tr>\n",
       "      <th>Ocupados</th>\n",
       "      <td>92417</td>\n",
       "    </tr>\n",
       "  </tbody>\n",
       "</table>\n",
       "</div>"
      ],
      "text/plain": [
       "col_0            N\n",
       "activ             \n",
       "Desocupados   7803\n",
       "Inactivos    74856\n",
       "Ocupados     92417"
      ]
     },
     "execution_count": 12,
     "metadata": {},
     "output_type": "execute_result"
    }
   ],
   "source": [
    "pd.crosstab(index= data['activ'], columns=['N'])"
   ]
  },
  {
   "cell_type": "code",
   "execution_count": 13,
   "metadata": {},
   "outputs": [
    {
     "data": {
      "text/html": [
       "<div>\n",
       "<style scoped>\n",
       "    .dataframe tbody tr th:only-of-type {\n",
       "        vertical-align: middle;\n",
       "    }\n",
       "\n",
       "    .dataframe tbody tr th {\n",
       "        vertical-align: top;\n",
       "    }\n",
       "\n",
       "    .dataframe thead th {\n",
       "        text-align: right;\n",
       "    }\n",
       "</style>\n",
       "<table border=\"1\" class=\"dataframe\">\n",
       "  <thead>\n",
       "    <tr style=\"text-align: right;\">\n",
       "      <th>col_0</th>\n",
       "      <th>N</th>\n",
       "    </tr>\n",
       "    <tr>\n",
       "      <th>indsan</th>\n",
       "      <th></th>\n",
       "    </tr>\n",
       "  </thead>\n",
       "  <tbody>\n",
       "    <tr>\n",
       "      <th>Aceptable</th>\n",
       "      <td>197300</td>\n",
       "    </tr>\n",
       "    <tr>\n",
       "      <th>Deficitario</th>\n",
       "      <td>18995</td>\n",
       "    </tr>\n",
       "    <tr>\n",
       "      <th>Sin Dato</th>\n",
       "      <td>144</td>\n",
       "    </tr>\n",
       "  </tbody>\n",
       "</table>\n",
       "</div>"
      ],
      "text/plain": [
       "col_0             N\n",
       "indsan             \n",
       "Aceptable    197300\n",
       "Deficitario   18995\n",
       "Sin Dato        144"
      ]
     },
     "execution_count": 13,
     "metadata": {},
     "output_type": "execute_result"
    }
   ],
   "source": [
    "pd.crosstab(index= data['indsan'], columns=['N'])"
   ]
  },
  {
   "cell_type": "code",
   "execution_count": 18,
   "metadata": {},
   "outputs": [
    {
     "data": {
      "text/html": [
       "<div>\n",
       "<style scoped>\n",
       "    .dataframe tbody tr th:only-of-type {\n",
       "        vertical-align: middle;\n",
       "    }\n",
       "\n",
       "    .dataframe tbody tr th {\n",
       "        vertical-align: top;\n",
       "    }\n",
       "\n",
       "    .dataframe thead th {\n",
       "        text-align: right;\n",
       "    }\n",
       "</style>\n",
       "<table border=\"1\" class=\"dataframe\">\n",
       "  <thead>\n",
       "    <tr style=\"text-align: right;\">\n",
       "      <th></th>\n",
       "      <th>sexo</th>\n",
       "      <th>edad</th>\n",
       "      <th>ecivil</th>\n",
       "      <th>o1</th>\n",
       "      <th>oficio1</th>\n",
       "      <th>o16</th>\n",
       "      <th>s12</th>\n",
       "      <th>ytot</th>\n",
       "      <th>pobreza</th>\n",
       "      <th>esc</th>\n",
       "      <th>educ</th>\n",
       "      <th>depen</th>\n",
       "      <th>indmat</th>\n",
       "      <th>indsan</th>\n",
       "      <th>calglobviv</th>\n",
       "      <th>hacinamiento</th>\n",
       "    </tr>\n",
       "    <tr>\n",
       "      <th>folio</th>\n",
       "      <th></th>\n",
       "      <th></th>\n",
       "      <th></th>\n",
       "      <th></th>\n",
       "      <th></th>\n",
       "      <th></th>\n",
       "      <th></th>\n",
       "      <th></th>\n",
       "      <th></th>\n",
       "      <th></th>\n",
       "      <th></th>\n",
       "      <th></th>\n",
       "      <th></th>\n",
       "      <th></th>\n",
       "      <th></th>\n",
       "      <th></th>\n",
       "    </tr>\n",
       "  </thead>\n",
       "  <tbody>\n",
       "    <tr>\n",
       "      <th>110110100101</th>\n",
       "      <td>Mujer</td>\n",
       "      <td>34</td>\n",
       "      <td>Soltero(a)</td>\n",
       "      <td>Sí</td>\n",
       "      <td>Técnicos profesionales de nivel medi</td>\n",
       "      <td>Plazo fijo</td>\n",
       "      <td>Sistema Público FONASA No sabe grupo</td>\n",
       "      <td>400000.0</td>\n",
       "      <td>No pobres</td>\n",
       "      <td>14.0</td>\n",
       "      <td>Profesional Incompleto</td>\n",
       "      <td>Instituto Profesional</td>\n",
       "      <td>Vivienda Aceptable</td>\n",
       "      <td>Aceptable</td>\n",
       "      <td>Aceptable</td>\n",
       "      <td>Sin hacinamiento (2,49 y menos)</td>\n",
       "    </tr>\n",
       "    <tr>\n",
       "      <th>110110180401</th>\n",
       "      <td>Hombre</td>\n",
       "      <td>23</td>\n",
       "      <td>Soltero(a)</td>\n",
       "      <td>Sí</td>\n",
       "      <td>Trabajadores no calificado</td>\n",
       "      <td>Plazo fijo</td>\n",
       "      <td>Sistema Público FONASA Grupo C</td>\n",
       "      <td>300000.0</td>\n",
       "      <td>No pobres</td>\n",
       "      <td>16.0</td>\n",
       "      <td>Profesional Incompleto</td>\n",
       "      <td>Instituto Profesional</td>\n",
       "      <td>Vivienda Aceptable</td>\n",
       "      <td>Aceptable</td>\n",
       "      <td>Aceptable</td>\n",
       "      <td>Sin hacinamiento (2,49 y menos)</td>\n",
       "    </tr>\n",
       "    <tr>\n",
       "      <th>110110200901</th>\n",
       "      <td>Mujer</td>\n",
       "      <td>20</td>\n",
       "      <td>Soltero(a)</td>\n",
       "      <td>Sí</td>\n",
       "      <td>Trabajadores de los servicios y vendedores de ...</td>\n",
       "      <td>Plazo fijo</td>\n",
       "      <td>Sistema Público FONASA Grupo C</td>\n",
       "      <td>220000.0</td>\n",
       "      <td>No pobres</td>\n",
       "      <td>12.0</td>\n",
       "      <td>M. Téc Completa</td>\n",
       "      <td>Municipal</td>\n",
       "      <td>Vivienda Aceptable</td>\n",
       "      <td>Aceptable</td>\n",
       "      <td>Aceptable</td>\n",
       "      <td>Sin hacinamiento (2,49 y menos)</td>\n",
       "    </tr>\n",
       "    <tr>\n",
       "      <th>110110210101</th>\n",
       "      <td>Hombre</td>\n",
       "      <td>33</td>\n",
       "      <td>Casado(a)</td>\n",
       "      <td>Sí</td>\n",
       "      <td>Técnicos profesionales de nivel medi</td>\n",
       "      <td>Plazo indefinido</td>\n",
       "      <td>Sistema Público FONASA No sabe grupo</td>\n",
       "      <td>391091.0</td>\n",
       "      <td>No pobres</td>\n",
       "      <td>15.0</td>\n",
       "      <td>Profesional Incompleto</td>\n",
       "      <td>Universidad del Cruch</td>\n",
       "      <td>Vivienda Recuperable</td>\n",
       "      <td>Aceptable</td>\n",
       "      <td>Recuperable</td>\n",
       "      <td>Sin hacinamiento (2,49 y menos)</td>\n",
       "    </tr>\n",
       "    <tr>\n",
       "      <th>110110230701</th>\n",
       "      <td>Mujer</td>\n",
       "      <td>25</td>\n",
       "      <td>Casado(a)</td>\n",
       "      <td>Sí</td>\n",
       "      <td>Empleados de oficina</td>\n",
       "      <td>Plazo indefinido</td>\n",
       "      <td>Sistema Público FONASA Grupo B</td>\n",
       "      <td>392635.0</td>\n",
       "      <td>No pobres</td>\n",
       "      <td>14.0</td>\n",
       "      <td>Profesional Incompleto</td>\n",
       "      <td>Universidad Privada</td>\n",
       "      <td>Vivienda Aceptable</td>\n",
       "      <td>Aceptable</td>\n",
       "      <td>Aceptable</td>\n",
       "      <td>Sin hacinamiento (2,49 y menos)</td>\n",
       "    </tr>\n",
       "    <tr>\n",
       "      <th>...</th>\n",
       "      <td>...</td>\n",
       "      <td>...</td>\n",
       "      <td>...</td>\n",
       "      <td>...</td>\n",
       "      <td>...</td>\n",
       "      <td>...</td>\n",
       "      <td>...</td>\n",
       "      <td>...</td>\n",
       "      <td>...</td>\n",
       "      <td>...</td>\n",
       "      <td>...</td>\n",
       "      <td>...</td>\n",
       "      <td>...</td>\n",
       "      <td>...</td>\n",
       "      <td>...</td>\n",
       "      <td>...</td>\n",
       "    </tr>\n",
       "    <tr>\n",
       "      <th>1510113670202</th>\n",
       "      <td>Hombre</td>\n",
       "      <td>24</td>\n",
       "      <td>Soltero(a)</td>\n",
       "      <td>Sí</td>\n",
       "      <td>Técnicos profesionales de nivel medi</td>\n",
       "      <td>Plazo indefinido</td>\n",
       "      <td>Sistema Público FONASA Grupo B</td>\n",
       "      <td>300000.0</td>\n",
       "      <td>No pobres</td>\n",
       "      <td>15.0</td>\n",
       "      <td>Técnico Nivel Superior Incompleta</td>\n",
       "      <td>Centro de Formación Técnica</td>\n",
       "      <td>Vivienda Recuperable</td>\n",
       "      <td>Aceptable</td>\n",
       "      <td>Recuperable</td>\n",
       "      <td>Sin hacinamiento (2,49 y menos)</td>\n",
       "    </tr>\n",
       "    <tr>\n",
       "      <th>1510113710401</th>\n",
       "      <td>Hombre</td>\n",
       "      <td>38</td>\n",
       "      <td>Soltero(a)</td>\n",
       "      <td>Sí</td>\n",
       "      <td>Trabajadores no calificado</td>\n",
       "      <td>Plazo fijo</td>\n",
       "      <td>Sistema Público FONASA Grupo B</td>\n",
       "      <td>300000.0</td>\n",
       "      <td>No pobres</td>\n",
       "      <td>15.0</td>\n",
       "      <td>Profesional Incompleto</td>\n",
       "      <td>Universidad del Cruch</td>\n",
       "      <td>Vivienda Recuperable</td>\n",
       "      <td>Aceptable</td>\n",
       "      <td>Recuperable</td>\n",
       "      <td>Sin hacinamiento (2,49 y menos)</td>\n",
       "    </tr>\n",
       "    <tr>\n",
       "      <th>1510113720201</th>\n",
       "      <td>Hombre</td>\n",
       "      <td>20</td>\n",
       "      <td>Soltero(a)</td>\n",
       "      <td>Sí</td>\n",
       "      <td>Empleados de oficina</td>\n",
       "      <td>Plazo indefinido</td>\n",
       "      <td>Sistema Público FONASA No sabe grupo</td>\n",
       "      <td>332500.0</td>\n",
       "      <td>No pobres</td>\n",
       "      <td>12.0</td>\n",
       "      <td>M. Hum. Completa</td>\n",
       "      <td>NS/NR</td>\n",
       "      <td>Vivienda Aceptable</td>\n",
       "      <td>Aceptable</td>\n",
       "      <td>Aceptable</td>\n",
       "      <td>Sin hacinamiento (2,49 y menos)</td>\n",
       "    </tr>\n",
       "    <tr>\n",
       "      <th>1510113730401</th>\n",
       "      <td>Hombre</td>\n",
       "      <td>21</td>\n",
       "      <td>Soltero(a)</td>\n",
       "      <td>Sí</td>\n",
       "      <td>Trabajadores de los servicios y vendedores de ...</td>\n",
       "      <td>Plazo indefinido</td>\n",
       "      <td>Sistema Público FONASA Grupo C</td>\n",
       "      <td>300000.0</td>\n",
       "      <td>No pobres</td>\n",
       "      <td>16.0</td>\n",
       "      <td>Profesional Incompleto</td>\n",
       "      <td>Universidad Privada</td>\n",
       "      <td>Vivienda Aceptable</td>\n",
       "      <td>Aceptable</td>\n",
       "      <td>Aceptable</td>\n",
       "      <td>Sin hacinamiento (2,49 y menos)</td>\n",
       "    </tr>\n",
       "    <tr>\n",
       "      <th>1510130060101</th>\n",
       "      <td>Hombre</td>\n",
       "      <td>20</td>\n",
       "      <td>Soltero(a)</td>\n",
       "      <td>Sí</td>\n",
       "      <td>Técnicos profesionales de nivel medi</td>\n",
       "      <td>Plazo fijo</td>\n",
       "      <td>Sistema Público FONASA Grupo A</td>\n",
       "      <td>150000.0</td>\n",
       "      <td>No pobres</td>\n",
       "      <td>14.0</td>\n",
       "      <td>Profesional Incompleto</td>\n",
       "      <td>Instituto Profesional</td>\n",
       "      <td>Vivienda Recuperable</td>\n",
       "      <td>Deficitario</td>\n",
       "      <td>Recuperable</td>\n",
       "      <td>Sin hacinamiento (2,49 y menos)</td>\n",
       "    </tr>\n",
       "  </tbody>\n",
       "</table>\n",
       "<p>3231 rows × 16 columns</p>\n",
       "</div>"
      ],
      "text/plain": [
       "                 sexo  edad      ecivil  o1  \\\n",
       "folio                                         \n",
       "110110100101    Mujer    34  Soltero(a)  Sí   \n",
       "110110180401   Hombre    23  Soltero(a)  Sí   \n",
       "110110200901    Mujer    20  Soltero(a)  Sí   \n",
       "110110210101   Hombre    33   Casado(a)  Sí   \n",
       "110110230701    Mujer    25   Casado(a)  Sí   \n",
       "...               ...   ...         ...  ..   \n",
       "1510113670202  Hombre    24  Soltero(a)  Sí   \n",
       "1510113710401  Hombre    38  Soltero(a)  Sí   \n",
       "1510113720201  Hombre    20  Soltero(a)  Sí   \n",
       "1510113730401  Hombre    21  Soltero(a)  Sí   \n",
       "1510130060101  Hombre    20  Soltero(a)  Sí   \n",
       "\n",
       "                                                         oficio1  \\\n",
       "folio                                                              \n",
       "110110100101                Técnicos profesionales de nivel medi   \n",
       "110110180401                          Trabajadores no calificado   \n",
       "110110200901   Trabajadores de los servicios y vendedores de ...   \n",
       "110110210101                Técnicos profesionales de nivel medi   \n",
       "110110230701                                Empleados de oficina   \n",
       "...                                                          ...   \n",
       "1510113670202               Técnicos profesionales de nivel medi   \n",
       "1510113710401                         Trabajadores no calificado   \n",
       "1510113720201                               Empleados de oficina   \n",
       "1510113730401  Trabajadores de los servicios y vendedores de ...   \n",
       "1510130060101               Técnicos profesionales de nivel medi   \n",
       "\n",
       "                            o16                                   s12  \\\n",
       "folio                                                                   \n",
       "110110100101         Plazo fijo  Sistema Público FONASA No sabe grupo   \n",
       "110110180401         Plazo fijo        Sistema Público FONASA Grupo C   \n",
       "110110200901         Plazo fijo        Sistema Público FONASA Grupo C   \n",
       "110110210101   Plazo indefinido  Sistema Público FONASA No sabe grupo   \n",
       "110110230701   Plazo indefinido        Sistema Público FONASA Grupo B   \n",
       "...                         ...                                   ...   \n",
       "1510113670202  Plazo indefinido        Sistema Público FONASA Grupo B   \n",
       "1510113710401        Plazo fijo        Sistema Público FONASA Grupo B   \n",
       "1510113720201  Plazo indefinido  Sistema Público FONASA No sabe grupo   \n",
       "1510113730401  Plazo indefinido        Sistema Público FONASA Grupo C   \n",
       "1510130060101        Plazo fijo        Sistema Público FONASA Grupo A   \n",
       "\n",
       "                   ytot    pobreza   esc                               educ  \\\n",
       "folio                                                                         \n",
       "110110100101   400000.0  No pobres  14.0             Profesional Incompleto   \n",
       "110110180401   300000.0  No pobres  16.0             Profesional Incompleto   \n",
       "110110200901   220000.0  No pobres  12.0                    M. Téc Completa   \n",
       "110110210101   391091.0  No pobres  15.0             Profesional Incompleto   \n",
       "110110230701   392635.0  No pobres  14.0             Profesional Incompleto   \n",
       "...                 ...        ...   ...                                ...   \n",
       "1510113670202  300000.0  No pobres  15.0  Técnico Nivel Superior Incompleta   \n",
       "1510113710401  300000.0  No pobres  15.0             Profesional Incompleto   \n",
       "1510113720201  332500.0  No pobres  12.0                   M. Hum. Completa   \n",
       "1510113730401  300000.0  No pobres  16.0             Profesional Incompleto   \n",
       "1510130060101  150000.0  No pobres  14.0             Profesional Incompleto   \n",
       "\n",
       "                                     depen                indmat       indsan  \\\n",
       "folio                                                                           \n",
       "110110100101         Instituto Profesional    Vivienda Aceptable    Aceptable   \n",
       "110110180401         Instituto Profesional    Vivienda Aceptable    Aceptable   \n",
       "110110200901                     Municipal    Vivienda Aceptable    Aceptable   \n",
       "110110210101         Universidad del Cruch  Vivienda Recuperable    Aceptable   \n",
       "110110230701           Universidad Privada    Vivienda Aceptable    Aceptable   \n",
       "...                                    ...                   ...          ...   \n",
       "1510113670202  Centro de Formación Técnica  Vivienda Recuperable    Aceptable   \n",
       "1510113710401        Universidad del Cruch  Vivienda Recuperable    Aceptable   \n",
       "1510113720201                        NS/NR    Vivienda Aceptable    Aceptable   \n",
       "1510113730401          Universidad Privada    Vivienda Aceptable    Aceptable   \n",
       "1510130060101        Instituto Profesional  Vivienda Recuperable  Deficitario   \n",
       "\n",
       "                calglobviv                     hacinamiento  \n",
       "folio                                                        \n",
       "110110100101     Aceptable  Sin hacinamiento (2,49 y menos)  \n",
       "110110180401     Aceptable  Sin hacinamiento (2,49 y menos)  \n",
       "110110200901     Aceptable  Sin hacinamiento (2,49 y menos)  \n",
       "110110210101   Recuperable  Sin hacinamiento (2,49 y menos)  \n",
       "110110230701     Aceptable  Sin hacinamiento (2,49 y menos)  \n",
       "...                    ...                              ...  \n",
       "1510113670202  Recuperable  Sin hacinamiento (2,49 y menos)  \n",
       "1510113710401  Recuperable  Sin hacinamiento (2,49 y menos)  \n",
       "1510113720201    Aceptable  Sin hacinamiento (2,49 y menos)  \n",
       "1510113730401    Aceptable  Sin hacinamiento (2,49 y menos)  \n",
       "1510130060101  Recuperable  Sin hacinamiento (2,49 y menos)  \n",
       "\n",
       "[3231 rows x 16 columns]"
      ]
     },
     "execution_count": 18,
     "metadata": {},
     "output_type": "execute_result"
    }
   ],
   "source": [
    "#Filtramos a las personas ocupadas (laboralmente)\n",
    "data_new= data[data.activ== \"Ocupados\"]\n",
    "pd.crosstab(index= data_new['activ'], columns=['N'])\n",
    "\n",
    "#Borramos columna activ\n",
    "\n",
    "data_new= data_new.drop(columns=['activ'])\n",
    "\n",
    "data_new= data_new.dropna()\n",
    "\n",
    "data_new"
   ]
  },
  {
   "cell_type": "markdown",
   "metadata": {},
   "source": [
    "## Como estudio explotario SIEMPRE debemos ver la relación entre nuestros datos de interes, además nos sirve para el modelo de Regresión Lineal"
   ]
  },
  {
   "cell_type": "code",
   "execution_count": null,
   "metadata": {},
   "outputs": [
    {
     "data": {
      "image/png": "[encoded data removed]",
      "text/plain": [
       "<Figure size 648x648 with 1 Axes>"
      ]
     },
     "metadata": {
      "needs_background": "light"
     },
     "output_type": "display_data"
    }
   ],
   "source": [
    "## el nivel que se nos presentan los datos esta a nivel de 10 (8 es 80)\n",
    "sns.regplot(x=\"edad\", y=\"ytot\", data=data_new);\n",
    "## Ojo que hay una recta, esta \"escondida\" pero si aparece"
   ]
  },
  {
   "cell_type": "code",
   "execution_count": null,
   "metadata": {},
   "outputs": [
    {
     "data": {
      "text/plain": [
       "<AxesSubplot:xlabel='edad', ylabel='ytot'>"
      ]
     },
     "execution_count": 21,
     "metadata": {},
     "output_type": "execute_result"
    },
    {
     "data": {
      "image/png": "[encoded data removed]",
      "text/plain": [
       "<Figure size 648x648 with 1 Axes>"
      ]
     },
     "metadata": {
      "needs_background": "light"
     },
     "output_type": "display_data"
    }
   ],
   "source": [
    "#Función Logaritmica \n",
    "sns.regplot(y= np.log(data_new['ytot']), x=data_new['edad'])"
   ]
  },
  {
   "cell_type": "code",
   "execution_count": null,
   "metadata": {},
   "outputs": [
    {
     "data": {
      "image/png": "[encoded data removed]",
      "text/plain": [
       "<Figure size 648x648 with 1 Axes>"
      ]
     },
     "metadata": {
      "needs_background": "light"
     },
     "output_type": "display_data"
    }
   ],
   "source": [
    "# Años de escolaridad\n",
    "sns.regplot(x=\"esc\", y=\"ytot\", data=data_new);\n",
    "\n",
    "#Hay relación entre el segmento de trabajo y escolaridad???"
   ]
  },
  {
   "cell_type": "code",
   "execution_count": null,
   "metadata": {},
   "outputs": [
    {
     "data": {
      "text/plain": [
       "<AxesSubplot:xlabel='esc', ylabel='ytot'>"
      ]
     },
     "execution_count": 24,
     "metadata": {},
     "output_type": "execute_result"
    },
    {
     "data": {
      "image/png": "[encoded data removed]",
      "text/plain": [
       "<Figure size 648x648 with 1 Axes>"
      ]
     },
     "metadata": {
      "needs_background": "light"
     },
     "output_type": "display_data"
    }
   ],
   "source": [
    "sns.regplot(y= np.log(data_new['ytot']), x=data_new['esc'])"
   ]
  },
  {
   "cell_type": "code",
   "execution_count": null,
   "metadata": {},
   "outputs": [
    {
     "data": {
      "image/png": "[encoded data removed]",
      "text/plain": [
       "<Figure size 648x648 with 1 Axes>"
      ]
     },
     "metadata": {},
     "output_type": "display_data"
    }
   ],
   "source": [
    "#Cambiamos nuestro tema\n",
    "sns.set_theme(style=\"ticks\", palette=\"pastel\")\n",
    "\n",
    "#Profundizamos en nuestros datos y su relación (Sexo y Salario)\n",
    "sns.boxplot(x=\"ytot\", y=\"sexo\",\n",
    "            hue=\"sexo\", palette=[\"m\", \"g\"],\n",
    "            data=data_new)\n",
    "sns.despine(offset=10, trim=True)\n",
    "\n",
    "## FEA visualización debido a los casos extremos (outliers)"
   ]
  },
  {
   "cell_type": "code",
   "execution_count": null,
   "metadata": {},
   "outputs": [
    {
     "data": {
      "image/png": "[encoded data removed]",
      "text/plain": [
       "<Figure size 648x648 with 1 Axes>"
      ]
     },
     "metadata": {},
     "output_type": "display_data"
    }
   ],
   "source": [
    "#Cambiamos nuestro tema\n",
    "sns.set_theme(style=\"ticks\", palette=\"pastel\")\n",
    "\n",
    "#Profundizamos en nuestros datos y su relación (Sexo y Salario)\n",
    "sns.boxplot(x=np.log(data_new[\"ytot\"]), y=\"sexo\",\n",
    "            hue=\"sexo\", palette=[\"m\", \"g\"],\n",
    "            data=data_new)\n",
    "sns.despine(offset=10, trim=True)\n",
    "\n",
    "#Ahora estamos en escala logaritmica"
   ]
  },
  {
   "cell_type": "code",
   "execution_count": null,
   "metadata": {},
   "outputs": [],
   "source": [
    "## Clasificacion binaria\n",
    "from sklearn.datasets import make_classification\n",
    "from sklearn.model_selection import train_test_split\n",
    "X, y= make_classification(n_samples=1000,n_classes=2,random_state=1)\n",
    "# split the dataset\n",
    "X_train,X_test,y_train,y_test=train_test_split(X,y,test_size=0.3,random_state=2)"
   ]
  },
  {
   "cell_type": "code",
   "execution_count": null,
   "metadata": {},
   "outputs": [],
   "source": [
    "# model de Regresión logistica binaria\n",
    "from sklearn.linear_model import LogisticRegression\n",
    "logistic_regression=LogisticRegression()\n",
    "logistic_regression.fit(X_train,y_train)\n",
    "y_pred=logistic_regression.predict(X_test)"
   ]
  },
  {
   "cell_type": "code",
   "execution_count": null,
   "metadata": {},
   "outputs": [
    {
     "name": "stdout",
     "output_type": "stream",
     "text": [
      "[[128  21]\n",
      " [ 28 123]]\n"
     ]
    }
   ],
   "source": [
    "# matriz confusion\n",
    "cm=confusion_matrix(y_test, y_pred)\n",
    "print(cm)"
   ]
  },
  {
   "cell_type": "code",
   "execution_count": null,
   "metadata": {},
   "outputs": [
    {
     "name": "stdout",
     "output_type": "stream",
     "text": [
      "              precision    recall  f1-score   support\n",
      "\n",
      "           0       0.82      0.86      0.84       149\n",
      "           1       0.85      0.81      0.83       151\n",
      "\n",
      "    accuracy                           0.84       300\n",
      "   macro avg       0.84      0.84      0.84       300\n",
      "weighted avg       0.84      0.84      0.84       300\n",
      "\n"
     ]
    }
   ],
   "source": [
    "print(classification_report(y_test, y_pred))"
   ]
  },
  {
   "cell_type": "code",
   "execution_count": null,
   "metadata": {},
   "outputs": [
    {
     "name": "stdout",
     "output_type": "stream",
     "text": [
      "[[128  21]\n",
      " [ 28 123]]\n",
      "Test de Accuracy = 0.8366666666666667\n",
      "Test de Precision = 0.8541666666666666\n",
      "Test de Recall = 0.8145695364238411\n"
     ]
    }
   ],
   "source": [
    "cm=confusion_matrix(y_test, y_pred)\n",
    "TN = cm[0][0]\n",
    "TP = cm[1][1]\n",
    "FN = cm[1][0]\n",
    "FP = cm[0][1]\n",
    "\n",
    "print(cm)\n",
    "print('Test de Accuracy = {}'.format((TP + TN) / (TP + TN + FN + FP)))\n",
    "print('Test de Precision = {}'.format((TP) / (TP + FP)))\n",
    "print('Test de Recall = {}'.format((TP ) / (TP + FN )))"
   ]
  },
  {
   "cell_type": "code",
   "execution_count": null,
   "metadata": {},
   "outputs": [
    {
     "name": "stdout",
     "output_type": "stream",
     "text": [
      "Test de accuracy:  0.84\n",
      "Test de precision 0.85\n",
      "Test de Recall  0.81\n",
      "Test de f1_score  0.83\n"
     ]
    }
   ],
   "source": [
    "print('Test de accuracy: ' ,round(accuracy_score(y_test,y_pred),2))\n",
    "print('Test de precision' ,round(precision_score(y_test,y_pred),2))\n",
    "print('Test de Recall ' ,round(recall_score(y_test,y_pred),2))\n",
    "print('Test de f1_score ' ,round(f1_score(y_test,y_pred),2))\n"
   ]
  },
  {
   "cell_type": "code",
   "execution_count": null,
   "metadata": {},
   "outputs": [
    {
     "data": {
      "text/plain": [
       "0.83"
      ]
     },
     "execution_count": 55,
     "metadata": {},
     "output_type": "execute_result"
    }
   ],
   "source": [
    "f1=2 * (round(precision_score(y_test,y_pred),2)*round(recall_score(y_test,y_pred),2))/(round(precision_score(y_test,y_pred),2) + round(recall_score(y_test,y_pred),2))\n",
    "round(f1,2)"
   ]
  },
  {
   "cell_type": "code",
   "execution_count": null,
   "metadata": {},
   "outputs": [
    {
     "data": {
      "text/plain": [
       "array([0.82857143, 0.88571429, 0.91428571, 0.85714286, 0.82857143,\n",
       "       0.71428571, 0.8       , 0.91428571, 0.91176471, 0.85294118])"
      ]
     },
     "execution_count": 60,
     "metadata": {},
     "output_type": "execute_result"
    }
   ],
   "source": [
    "# cross validation\n",
    "from sklearn.model_selection import cross_val_score\n",
    "from sklearn.model_selection import cross_val_predict\n",
    "cross_val_score(logistic_regression,X_train,y_train,cv=10,scoring ='recall')"
   ]
  },
  {
   "cell_type": "code",
   "execution_count": null,
   "metadata": {},
   "outputs": [],
   "source": [
    "y_train_pred= cross_val_predict(logistic_regression,X_train,y_train,cv=3)\n",
    "# cross_val_predict nos retorna la clase predicha para cada instancia\n"
   ]
  },
  {
   "cell_type": "markdown",
   "metadata": {},
   "source": [
    "## precision y recall"
   ]
  },
  {
   "cell_type": "code",
   "execution_count": null,
   "metadata": {},
   "outputs": [
    {
     "data": {
      "text/plain": [
       "0.830945558739255"
      ]
     },
     "execution_count": 64,
     "metadata": {},
     "output_type": "execute_result"
    }
   ],
   "source": [
    "y_train_pred=cross_val_predict(logistic_regression,X_train,y_train,cv=3)\n",
    "precision_score(y_train,y_train_pred)"
   ]
  },
  {
   "cell_type": "code",
   "execution_count": null,
   "metadata": {},
   "outputs": [
    {
     "data": {
      "text/plain": [
       "0.8333333333333334"
      ]
     },
     "execution_count": 65,
     "metadata": {},
     "output_type": "execute_result"
    }
   ],
   "source": [
    "recall_score(y_train,y_train_pred)"
   ]
  },
  {
   "cell_type": "code",
   "execution_count": null,
   "metadata": {},
   "outputs": [
    {
     "data": {
      "text/plain": [
       "0.8321377331420373"
      ]
     },
     "execution_count": 66,
     "metadata": {},
     "output_type": "execute_result"
    }
   ],
   "source": [
    "f1_score(y_train,y_train_pred)"
   ]
  },
  {
   "cell_type": "markdown",
   "metadata": {},
   "source": [
    "## Curva Roc"
   ]
  },
  {
   "cell_type": "code",
   "execution_count": null,
   "metadata": {},
   "outputs": [
    {
     "name": "stdout",
     "output_type": "stream",
     "text": [
      "Sin entrenar: ROC AUC=0.500\n",
      "Regresión Logística: ROC AUC=0.919\n"
     ]
    },
    {
     "data": {
      "image/png": "[encoded data removed]",
      "text/plain": [
       "<Figure size 648x648 with 1 Axes>"
      ]
     },
     "metadata": {},
     "output_type": "display_data"
    }
   ],
   "source": [
    "from sklearn.metrics import roc_curve, roc_auc_score\n",
    "from matplotlib import pyplot\n",
    "#Generamos un clasificador sin entrenar , que asignará 0 a todo\n",
    "ns_probs = [0 for _ in range(len(y_test))]\n",
    "# Predecimos las probabilidades\n",
    "lr_probs = logistic_regression.predict_proba(X_test)\n",
    "#Nos quedamos con las probabilidades de la clase positiva (la probabilidad de 1)\n",
    "lr_probs = lr_probs[:, 1]\n",
    "# Calculamos el AUC\n",
    "ns_auc = roc_auc_score(y_test, ns_probs)\n",
    "lr_auc = roc_auc_score(y_test, lr_probs)\n",
    "# Imprimimos en pantalla\n",
    "print('Sin entrenar: ROC AUC=%.3f' % (ns_auc))\n",
    "print('Regresión Logística: ROC AUC=%.3f' % (lr_auc))\n",
    "# Calculamos las curvas ROC\n",
    "ns_fpr, ns_tpr, _ = roc_curve(y_test, ns_probs)\n",
    "lr_fpr, lr_tpr, _ = roc_curve(y_test, lr_probs)\n",
    "# Pintamos las curvas ROC\n",
    "pyplot.plot(ns_fpr, ns_tpr, linestyle='--', label='Sin entrenar')\n",
    "pyplot.plot(lr_fpr, lr_tpr, marker='.', label='Regresión Logística')\n",
    "# Etiquetas de los ejes\n",
    "pyplot.xlabel('Tasa de Falsos Positivos')\n",
    "pyplot.ylabel('Tasa de Verdaderos Positivos')\n",
    "pyplot.legend()\n",
    "pyplot.show()"
   ]
  },
  {
   "cell_type": "code",
   "execution_count": null,
   "metadata": {},
   "outputs": [
    {
     "data": {
      "text/plain": [
       "0.9186186052713454"
      ]
     },
     "execution_count": 75,
     "metadata": {},
     "output_type": "execute_result"
    }
   ],
   "source": [
    "from sklearn.metrics import roc_auc_score\n",
    "\n",
    "# AUC = Area under the curve\n",
    "roc_auc_score(y_test, lr_probs)"
   ]
  }
 ],
 "metadata": {
  "kernelspec": {
   "display_name": "Python 3.9.12 ('base')",
   "language": "python",
   "name": "python3"
  },
  "language_info": {
   "codemirror_mode": {
    "name": "ipython",
    "version": 3
   },
   "file_extension": ".py",
   "mimetype": "text/x-python",
   "name": "python",
   "nbconvert_exporter": "python",
   "pygments_lexer": "ipython3",
   "version": "3.9.12"
  },
  "orig_nbformat": 4,
  "vscode": {
   "interpreter": {
    "hash": "db727c30903d8ef2b5ba67b151eb7ebda75bdb03af8619f89c62bfc9967fadae"
   }
  }
 },
 "nbformat": 4,
 "nbformat_minor": 2
}

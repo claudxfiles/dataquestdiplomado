{
  "cells": [
    {
      "cell_type": "markdown",
      "metadata": {
        "id": "hjcDJAvu6ULE"
      },
      "source": [
        "### Support vector machine\n",
        "\n",
        "Vamos a utilizar una base de sklearn de cáncer. \n",
        "Corresponde a un ejemplo de clasificación binaria, es decir dos clases. Contiene 569 datos y su dimensionalidad de es 30 features\n"
      ]
    },
    {
      "cell_type": "code",
      "execution_count": 1,
      "metadata": {
        "id": "QrT8f6gb3RZX"
      },
      "outputs": [],
      "source": [
        "from sklearn import datasets\n",
        "\n",
        "cancer=datasets.load_breast_cancer()"
      ]
    },
    {
      "cell_type": "markdown",
      "metadata": {
        "id": "WDA_1OMk63UA"
      },
      "source": [
        "Primero veremos los datos que tenemos"
      ]
    },
    {
      "cell_type": "code",
      "execution_count": 2,
      "metadata": {
        "colab": {
          "base_uri": "https://localhost:8080/"
        },
        "id": "EIrWC_qN67aw",
        "outputId": "34346ab5-ec55-4a26-87c9-12f5623bb89c"
      },
      "outputs": [
        {
          "name": "stdout",
          "output_type": "stream",
          "text": [
            "Features: ['mean radius' 'mean texture' 'mean perimeter' 'mean area'\n",
            " 'mean smoothness' 'mean compactness' 'mean concavity'\n",
            " 'mean concave points' 'mean symmetry' 'mean fractal dimension'\n",
            " 'radius error' 'texture error' 'perimeter error' 'area error'\n",
            " 'smoothness error' 'compactness error' 'concavity error'\n",
            " 'concave points error' 'symmetry error' 'fractal dimension error'\n",
            " 'worst radius' 'worst texture' 'worst perimeter' 'worst area'\n",
            " 'worst smoothness' 'worst compactness' 'worst concavity'\n",
            " 'worst concave points' 'worst symmetry' 'worst fractal dimension']\n"
          ]
        }
      ],
      "source": [
        "print(\"Features:\", cancer.feature_names)"
      ]
    },
    {
      "cell_type": "code",
      "execution_count": 3,
      "metadata": {
        "colab": {
          "base_uri": "https://localhost:8080/"
        },
        "id": "7glutj477E0u",
        "outputId": "a59e1565-f73f-4221-be7a-71b71f8be323"
      },
      "outputs": [
        {
          "name": "stdout",
          "output_type": "stream",
          "text": [
            "Clases: ['malignant' 'benign']\n"
          ]
        }
      ],
      "source": [
        "print(\"Clases:\", cancer.target_names)"
      ]
    },
    {
      "cell_type": "markdown",
      "metadata": {
        "id": "QkkHNQXP7b4y"
      },
      "source": [
        "Acá podemos ver que tenemos :....."
      ]
    },
    {
      "cell_type": "code",
      "execution_count": 4,
      "metadata": {
        "colab": {
          "base_uri": "https://localhost:8080/"
        },
        "id": "y27IljcQ7Vy8",
        "outputId": "4315cfc4-1a36-4ea1-b97d-33ad7e174d68"
      },
      "outputs": [
        {
          "data": {
            "text/plain": [
              "(569, 30)"
            ]
          },
          "execution_count": 4,
          "metadata": {},
          "output_type": "execute_result"
        }
      ],
      "source": [
        "cancer.data.shape"
      ]
    },
    {
      "cell_type": "code",
      "execution_count": 5,
      "metadata": {
        "colab": {
          "base_uri": "https://localhost:8080/"
        },
        "id": "2jo19bH_7ad_",
        "outputId": "bd84fb59-d3f2-414f-bf6e-498b39ba0f5f"
      },
      "outputs": [
        {
          "name": "stdout",
          "output_type": "stream",
          "text": [
            "[[1.799e+01 1.038e+01 1.228e+02 ... 2.654e-01 4.601e-01 1.189e-01]\n",
            " [2.057e+01 1.777e+01 1.329e+02 ... 1.860e-01 2.750e-01 8.902e-02]\n",
            " [1.969e+01 2.125e+01 1.300e+02 ... 2.430e-01 3.613e-01 8.758e-02]\n",
            " ...\n",
            " [1.660e+01 2.808e+01 1.083e+02 ... 1.418e-01 2.218e-01 7.820e-02]\n",
            " [2.060e+01 2.933e+01 1.401e+02 ... 2.650e-01 4.087e-01 1.240e-01]\n",
            " [7.760e+00 2.454e+01 4.792e+01 ... 0.000e+00 2.871e-01 7.039e-02]]\n",
            "[0 0 0 0 0 0 0 0 0 0 0 0 0 0 0 0 0 0 0 1 1 1 0 0 0 0 0 0 0 0 0 0 0 0 0 0 0\n",
            " 1 0 0 0 0 0 0 0 0 1 0 1 1 1 1 1 0 0 1 0 0 1 1 1 1 0 1 0 0 1 1 1 1 0 1 0 0\n",
            " 1 0 1 0 0 1 1 1 0 0 1 0 0 0 1 1 1 0 1 1 0 0 1 1 1 0 0 1 1 1 1 0 1 1 0 1 1\n",
            " 1 1 1 1 1 1 0 0 0 1 0 0 1 1 1 0 0 1 0 1 0 0 1 0 0 1 1 0 1 1 0 1 1 1 1 0 1\n",
            " 1 1 1 1 1 1 1 1 0 1 1 1 1 0 0 1 0 1 1 0 0 1 1 0 0 1 1 1 1 0 1 1 0 0 0 1 0\n",
            " 1 0 1 1 1 0 1 1 0 0 1 0 0 0 0 1 0 0 0 1 0 1 0 1 1 0 1 0 0 0 0 1 1 0 0 1 1\n",
            " 1 0 1 1 1 1 1 0 0 1 1 0 1 1 0 0 1 0 1 1 1 1 0 1 1 1 1 1 0 1 0 0 0 0 0 0 0\n",
            " 0 0 0 0 0 0 0 1 1 1 1 1 1 0 1 0 1 1 0 1 1 0 1 0 0 1 1 1 1 1 1 1 1 1 1 1 1\n",
            " 1 0 1 1 0 1 0 1 1 1 1 1 1 1 1 1 1 1 1 1 1 0 1 1 1 0 1 0 1 1 1 1 0 0 0 1 1\n",
            " 1 1 0 1 0 1 0 1 1 1 0 1 1 1 1 1 1 1 0 0 0 1 1 1 1 1 1 1 1 1 1 1 0 0 1 0 0\n",
            " 0 1 0 0 1 1 1 1 1 0 1 1 1 1 1 0 1 1 1 0 1 1 0 0 1 1 1 1 1 1 0 1 1 1 1 1 1\n",
            " 1 0 1 1 1 1 1 0 1 1 0 1 1 1 1 1 1 1 1 1 1 1 1 0 1 0 0 1 0 1 1 1 1 1 0 1 1\n",
            " 0 1 0 1 1 0 1 0 1 1 1 1 1 1 1 1 0 0 1 1 1 1 1 1 0 1 1 1 1 1 1 1 1 1 1 0 1\n",
            " 1 1 1 1 1 1 0 1 0 1 1 0 1 1 1 1 1 0 0 1 0 1 0 1 1 1 1 1 0 1 1 0 1 0 1 0 0\n",
            " 1 1 1 0 1 1 1 1 1 1 1 1 1 1 1 0 1 0 0 1 1 1 1 1 1 1 1 1 1 1 1 1 1 1 1 1 1\n",
            " 1 1 1 1 1 1 1 0 0 0 0 0 0 1]\n"
          ]
        }
      ],
      "source": [
        "print(cancer.data)\n",
        "print(cancer.target)"
      ]
    },
    {
      "cell_type": "markdown",
      "metadata": {
        "id": "9akcrtQW770v"
      },
      "source": [
        "Vamos a hacer el split de la data para poder entrenar el algoritmo. "
      ]
    },
    {
      "cell_type": "code",
      "execution_count": 6,
      "metadata": {
        "id": "349e8bEd75U3"
      },
      "outputs": [],
      "source": [
        "from sklearn.model_selection import train_test_split\n",
        "X_train, X_test, y_train, y_test = train_test_split(cancer.data, cancer.target, test_size=0.25, random_state=1)"
      ]
    },
    {
      "cell_type": "markdown",
      "metadata": {
        "id": "D_PGIiZn8iY4"
      },
      "source": [
        "Y con la base dividida creamos el modelo correspondiente. "
      ]
    },
    {
      "cell_type": "code",
      "execution_count": 7,
      "metadata": {
        "id": "upZYUbjc8h-F"
      },
      "outputs": [],
      "source": [
        "from sklearn import svm\n",
        "linear=svm.SVC(kernel=\"linear\", C=0.5)\n",
        "linear.fit(X_train,y_train)\n",
        "y_pred=linear.predict(X_test)"
      ]
    },
    {
      "cell_type": "markdown",
      "metadata": {
        "id": "-pskyi7a9EWb"
      },
      "source": [
        "Y posteriormente como lo hemos realizado en todos los modelos vistos debemos evaluar el modelo con las métricas correspondientes. "
      ]
    },
    {
      "cell_type": "code",
      "execution_count": 8,
      "metadata": {
        "colab": {
          "base_uri": "https://localhost:8080/"
        },
        "id": "FOEaqrDN9KdT",
        "outputId": "615ce8e2-4442-4ae9-eeb5-821375f4dd30"
      },
      "outputs": [
        {
          "name": "stdout",
          "output_type": "stream",
          "text": [
            "Accuracy: 0.9370629370629371\n",
            "Presision: 0.9438202247191011\n",
            "Recall: 0.9545454545454546\n"
          ]
        }
      ],
      "source": [
        "from sklearn import metrics\n",
        "print(\"Accuracy:\", metrics.accuracy_score(y_test,y_pred))\n",
        "print(\"Presision:\", metrics.precision_score(y_test,y_pred))\n",
        "print(\"Recall:\", metrics.recall_score(y_test,y_pred))"
      ]
    },
    {
      "cell_type": "markdown",
      "metadata": {
        "id": "ve9n_vfOzmC3"
      },
      "source": [
        "Ahora veamos que sucede si usamos RBF (solo para probar)"
      ]
    },
    {
      "cell_type": "code",
      "execution_count": 9,
      "metadata": {
        "id": "ShKvN4XePkpc"
      },
      "outputs": [],
      "source": [
        "from sklearn.svm import SVC\n",
        "RBF = SVC(kernel='rbf', gamma=0.02, C=1)\n",
        "RBF.fit(X_train, y_train)\n",
        "RBF_pred=RBF.predict(X_test)"
      ]
    },
    {
      "cell_type": "code",
      "execution_count": 10,
      "metadata": {
        "colab": {
          "base_uri": "https://localhost:8080/"
        },
        "id": "qtb9CMvT3ecr",
        "outputId": "2e8d71a7-8088-43b5-c293-50ed55e1a663"
      },
      "outputs": [
        {
          "name": "stdout",
          "output_type": "stream",
          "text": [
            "Accuracy: 0.6153846153846154\n",
            "Presision: 0.6153846153846154\n",
            "Recall: 1.0\n"
          ]
        }
      ],
      "source": [
        "print(\"Accuracy:\", metrics.accuracy_score(y_test,RBF_pred))\n",
        "print(\"Presision:\", metrics.precision_score(y_test,RBF_pred))\n",
        "print(\"Recall:\", metrics.recall_score(y_test,RBF_pred))"
      ]
    },
    {
      "cell_type": "markdown",
      "metadata": {
        "id": "tsAI-quy336u"
      },
      "source": [
        "Y ahora con Polinomial \n"
      ]
    },
    {
      "cell_type": "code",
      "execution_count": 11,
      "metadata": {
        "id": "ADaA19dY38gR"
      },
      "outputs": [],
      "source": [
        "from sklearn import svm\n",
        "poli = svm.SVC(C=1,kernel='poly',degree=3)\n",
        "poli.fit(X_train, y_train)\n",
        "poli_pred=poli.predict(X_test)\n"
      ]
    },
    {
      "cell_type": "code",
      "execution_count": 12,
      "metadata": {
        "colab": {
          "base_uri": "https://localhost:8080/"
        },
        "id": "Jk6rtRw361zH",
        "outputId": "ebff3482-0ffe-4aed-f561-9d81ad2aab1d"
      },
      "outputs": [
        {
          "name": "stdout",
          "output_type": "stream",
          "text": [
            "Accuracy: 0.9020979020979021\n",
            "Presision: 0.8775510204081632\n",
            "Recall: 0.9772727272727273\n"
          ]
        }
      ],
      "source": [
        "print(\"Accuracy:\", metrics.accuracy_score(y_test,poli_pred))\n",
        "print(\"Presision:\", metrics.precision_score(y_test,poli_pred))\n",
        "print(\"Recall:\", metrics.recall_score(y_test,poli_pred))"
      ]
    },
    {
      "cell_type": "markdown",
      "metadata": {
        "id": "UnFeanQN7Y1J"
      },
      "source": [
        "Y ahora veamos que sucede con sigmoide "
      ]
    },
    {
      "cell_type": "code",
      "execution_count": 13,
      "metadata": {
        "id": "Z-P0y15e7bQF"
      },
      "outputs": [],
      "source": [
        "from sklearn.svm import SVC\n",
        "sig = SVC(kernel='sigmoid')\n",
        "sig.fit(X_train, y_train)\n",
        "sig_pred=sig.predict(X_test)"
      ]
    },
    {
      "cell_type": "code",
      "execution_count": 14,
      "metadata": {
        "colab": {
          "base_uri": "https://localhost:8080/"
        },
        "id": "KJs7CRnN7QeG",
        "outputId": "714b51b1-285b-46d0-f159-8067509d1b27"
      },
      "outputs": [
        {
          "name": "stdout",
          "output_type": "stream",
          "text": [
            "Accuracy: 0.42657342657342656\n",
            "Presision: 0.53125\n",
            "Recall: 0.5795454545454546\n"
          ]
        }
      ],
      "source": [
        "print(\"Accuracy:\", metrics.accuracy_score(y_test,sig_pred))\n",
        "print(\"Presision:\", metrics.precision_score(y_test,sig_pred))\n",
        "print(\"Recall:\", metrics.recall_score(y_test,sig_pred))"
      ]
    },
    {
      "cell_type": "markdown",
      "metadata": {
        "id": "Ur-ZUCx47MtF"
      },
      "source": [
        "¿Con qué modelo nos quedamos?"
      ]
    },
    {
      "cell_type": "markdown",
      "metadata": {
        "id": "w2WmSNpjEkfc"
      },
      "source": [
        "### Multiclase SVM\n",
        "\n",
        "Vamos a ver un ejemplo de support vector machine para multiclase."
      ]
    },
    {
      "cell_type": "code",
      "execution_count": 15,
      "metadata": {
        "id": "eV1WggwBExPc"
      },
      "outputs": [],
      "source": [
        "from sklearn import svm\n",
        "import sklearn.model_selection as model_selection\n",
        "from sklearn.metrics import accuracy_score\n",
        "from sklearn.metrics import f1_score\n",
        "from sklearn.datasets import load_digits"
      ]
    },
    {
      "cell_type": "markdown",
      "metadata": {
        "id": "ObyJVe0YGqSu"
      },
      "source": [
        "Vamos a trabajar la base de datos de identificación de digitos para poder obtener resultados multiclase. "
      ]
    },
    {
      "cell_type": "code",
      "execution_count": 16,
      "metadata": {
        "id": "IqKwQ_a9E1nR"
      },
      "outputs": [],
      "source": [
        "digits = load_digits()\n"
      ]
    },
    {
      "cell_type": "markdown",
      "metadata": {
        "id": "ACITUSg7Gyia"
      },
      "source": [
        "Vamos a mirar los resultados. "
      ]
    },
    {
      "cell_type": "code",
      "execution_count": 17,
      "metadata": {
        "colab": {
          "base_uri": "https://localhost:8080/"
        },
        "id": "tRnz5Zv3F0IR",
        "outputId": "35eda543-ceaa-4d2c-fcce-74d61e647688"
      },
      "outputs": [
        {
          "name": "stdout",
          "output_type": "stream",
          "text": [
            "[[ 0.  0.  5. ...  0.  0.  0.]\n",
            " [ 0.  0.  0. ... 10.  0.  0.]\n",
            " [ 0.  0.  0. ... 16.  9.  0.]\n",
            " ...\n",
            " [ 0.  0.  1. ...  6.  0.  0.]\n",
            " [ 0.  0.  2. ... 12.  0.  0.]\n",
            " [ 0.  0. 10. ... 12.  1.  0.]]\n"
          ]
        }
      ],
      "source": [
        "print(digits.data)"
      ]
    },
    {
      "cell_type": "code",
      "execution_count": 18,
      "metadata": {
        "colab": {
          "base_uri": "https://localhost:8080/"
        },
        "id": "zKb0GqlZF3q6",
        "outputId": "5ab05f76-df2b-4677-e39e-f36d9ec7ee9e"
      },
      "outputs": [
        {
          "name": "stdout",
          "output_type": "stream",
          "text": [
            "[0 1 2 ... 8 9 8]\n"
          ]
        }
      ],
      "source": [
        "print(digits.target)"
      ]
    },
    {
      "cell_type": "markdown",
      "metadata": {
        "id": "_sBACusyHQG-"
      },
      "source": [
        "Dividimos la data. "
      ]
    },
    {
      "cell_type": "code",
      "execution_count": 19,
      "metadata": {
        "id": "Aidz-pAFE_R2"
      },
      "outputs": [],
      "source": [
        "X_train, X_test, y_train, y_test = model_selection.train_test_split(digits.data, digits.target, train_size=0.80, test_size=0.20, random_state=101)"
      ]
    },
    {
      "cell_type": "markdown",
      "metadata": {
        "id": "MNi3mD0WHSzj"
      },
      "source": [
        "Y ahora vamos a estimar los algoritmo. En este caso probaremos con RBF y polinomial. "
      ]
    },
    {
      "cell_type": "code",
      "execution_count": 20,
      "metadata": {
        "id": "qBFL2hevFrPl"
      },
      "outputs": [],
      "source": [
        "rbf = svm.SVC(kernel='rbf', gamma=0.5, C=0.1).fit(X_train, y_train)\n",
        "poly = svm.SVC(kernel='poly', degree=3, C=1).fit(X_train, y_train)"
      ]
    },
    {
      "cell_type": "code",
      "execution_count": 21,
      "metadata": {
        "id": "OJZmLWhAGIx8"
      },
      "outputs": [],
      "source": [
        "poly_pred = poly.predict(X_test)\n",
        "rbf_pred = rbf.predict(X_test)"
      ]
    },
    {
      "cell_type": "code",
      "execution_count": 22,
      "metadata": {
        "colab": {
          "base_uri": "https://localhost:8080/"
        },
        "id": "hcSpaHOQGPZC",
        "outputId": "3a6d7229-ae79-4177-fcc4-5708020c98ea"
      },
      "outputs": [
        {
          "name": "stdout",
          "output_type": "stream",
          "text": [
            "Accuracy (Polinomial):  99.17\n",
            "F1 (Polinomial):  99.17\n"
          ]
        }
      ],
      "source": [
        "poly_accuracy = accuracy_score(y_test, poly_pred)\n",
        "poly_f1 = f1_score(y_test, poly_pred, average='weighted')\n",
        "print('Accuracy (Polinomial): ', \"%.2f\" % (poly_accuracy*100))\n",
        "print('F1 (Polinomial): ', \"%.2f\" % (poly_f1*100))"
      ]
    },
    {
      "cell_type": "code",
      "execution_count": 23,
      "metadata": {
        "colab": {
          "base_uri": "https://localhost:8080/"
        },
        "id": "wbP_CJuLGS1G",
        "outputId": "e1bbd381-6882-4d58-a0eb-48d66a6e394f"
      },
      "outputs": [
        {
          "name": "stdout",
          "output_type": "stream",
          "text": [
            "Accuracy (RBF):  7.78\n",
            "F1 (RBF):  1.12\n"
          ]
        }
      ],
      "source": [
        "rbf_accuracy = accuracy_score(y_test, rbf_pred)\n",
        "rbf_f1 = f1_score(y_test, rbf_pred, average='weighted')\n",
        "print('Accuracy (RBF): ', \"%.2f\" % (rbf_accuracy*100))\n",
        "print('F1 (RBF): ', \"%.2f\" % (rbf_f1*100))"
      ]
    },
    {
      "cell_type": "markdown",
      "metadata": {
        "id": "_CxQghd5HnsY"
      },
      "source": [
        "¿Con qué modelo nos quedamos?"
      ]
    }
  ],
  "metadata": {
    "colab": {
      "collapsed_sections": [],
      "name": "USACH_clase5.ipynb",
      "provenance": []
    },
    "kernelspec": {
      "display_name": "Python 3.10.5 64-bit",
      "language": "python",
      "name": "python3"
    },
    "language_info": {
      "codemirror_mode": {
        "name": "ipython",
        "version": 3
      },
      "file_extension": ".py",
      "mimetype": "text/x-python",
      "name": "python",
      "nbconvert_exporter": "python",
      "pygments_lexer": "ipython3",
      "version": "3.10.5"
    },
    "vscode": {
      "interpreter": {
        "hash": "116b16ce4771ffbe70767d6473d2ec71e30cb9f23544c16e382302f0f8a58d51"
      }
    }
  },
  "nbformat": 4,
  "nbformat_minor": 0
}

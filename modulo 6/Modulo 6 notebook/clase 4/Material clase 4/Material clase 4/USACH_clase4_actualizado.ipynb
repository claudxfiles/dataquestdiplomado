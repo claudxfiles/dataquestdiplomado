{
  "cells": [
    {
      "cell_type": "markdown",
      "metadata": {
        "id": "4GzNW4JX0vqM"
      },
      "source": [
        "### Arboles de decisión\n",
        "Vamos a entrenar un algoritmo para predecir, en este caso si una persona es o no obesa acorde a su altura y peso. Veremos paso a paso como construir un árbol de decisión. Para ello, contamos con los datos de 500 personas: \n",
        "\n",
        "Gender : Male / Female\n",
        "\n",
        "Height : Number (cm)\n",
        "\n",
        "Weight : Number (Kg)\n",
        "\n",
        "Index :\n",
        "\n",
        "0 - Extremely Weak\n",
        "\n",
        "1 - Weak\n",
        "\n",
        "2 - Normal\n",
        "\n",
        "3 - Overweight\n",
        "\n",
        "4 - Obesity\n",
        "\n",
        "5 - Extreme Obesity"
      ]
    },
    {
      "cell_type": "markdown",
      "metadata": {
        "id": "42OqB5kgLyKr"
      },
      "source": [
        "Vamos a leer la base de datos. "
      ]
    },
    {
      "cell_type": "code",
      "execution_count": 1,
      "metadata": {
        "colab": {
          "base_uri": "https://localhost:8080/",
          "height": 73,
          "resources": {
            "http://localhost:8080/nbextensions/google.colab/files.js": {
              "data": "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",
              "headers": [
                [
                  "content-type",
                  "application/javascript"
                ]
              ],
              "ok": true,
              "status": 200,
              "status_text": ""
            }
          }
        },
        "id": "JeNMf9lFMDx5",
        "outputId": "1fa8706d-94a2-4f7f-d34f-943814310c74"
      },
      "outputs": [
        {
          "data": {
            "text/plain": [
              "'from google.colab import files\\nuploaded = files.upload()'"
            ]
          },
          "execution_count": 1,
          "metadata": {},
          "output_type": "execute_result"
        }
      ],
      "source": [
        "'''from google.colab import files\n",
        "uploaded = files.upload()'''"
      ]
    },
    {
      "cell_type": "code",
      "execution_count": 2,
      "metadata": {
        "colab": {
          "base_uri": "https://localhost:8080/",
          "height": 203
        },
        "id": "Y6ZCb1GXMLNo",
        "outputId": "90f4e52e-a8fc-4b9b-ae85-5c747720b744"
      },
      "outputs": [
        {
          "data": {
            "text/html": [
              "<div>\n",
              "<style scoped>\n",
              "    .dataframe tbody tr th:only-of-type {\n",
              "        vertical-align: middle;\n",
              "    }\n",
              "\n",
              "    .dataframe tbody tr th {\n",
              "        vertical-align: top;\n",
              "    }\n",
              "\n",
              "    .dataframe thead th {\n",
              "        text-align: right;\n",
              "    }\n",
              "</style>\n",
              "<table border=\"1\" class=\"dataframe\">\n",
              "  <thead>\n",
              "    <tr style=\"text-align: right;\">\n",
              "      <th></th>\n",
              "      <th>Gender</th>\n",
              "      <th>Height</th>\n",
              "      <th>Weight</th>\n",
              "      <th>Index</th>\n",
              "    </tr>\n",
              "  </thead>\n",
              "  <tbody>\n",
              "    <tr>\n",
              "      <th>0</th>\n",
              "      <td>Male</td>\n",
              "      <td>174</td>\n",
              "      <td>96</td>\n",
              "      <td>4</td>\n",
              "    </tr>\n",
              "    <tr>\n",
              "      <th>1</th>\n",
              "      <td>Male</td>\n",
              "      <td>189</td>\n",
              "      <td>87</td>\n",
              "      <td>2</td>\n",
              "    </tr>\n",
              "    <tr>\n",
              "      <th>2</th>\n",
              "      <td>Female</td>\n",
              "      <td>185</td>\n",
              "      <td>110</td>\n",
              "      <td>4</td>\n",
              "    </tr>\n",
              "    <tr>\n",
              "      <th>3</th>\n",
              "      <td>Female</td>\n",
              "      <td>195</td>\n",
              "      <td>104</td>\n",
              "      <td>3</td>\n",
              "    </tr>\n",
              "    <tr>\n",
              "      <th>4</th>\n",
              "      <td>Male</td>\n",
              "      <td>149</td>\n",
              "      <td>61</td>\n",
              "      <td>3</td>\n",
              "    </tr>\n",
              "  </tbody>\n",
              "</table>\n",
              "</div>"
            ],
            "text/plain": [
              "   Gender  Height  Weight  Index\n",
              "0    Male     174      96      4\n",
              "1    Male     189      87      2\n",
              "2  Female     185     110      4\n",
              "3  Female     195     104      3\n",
              "4    Male     149      61      3"
            ]
          },
          "execution_count": 2,
          "metadata": {},
          "output_type": "execute_result"
        }
      ],
      "source": [
        "import pandas as pd\n",
        "import numpy as np\n",
        "import io\n",
        "\n",
        "data = pd.read_csv('500_Person_Gender_Height_Weight_Index.csv')\n",
        "data.head()"
      ]
    },
    {
      "cell_type": "markdown",
      "metadata": {
        "id": "NfrZ0a1F6yXW"
      },
      "source": [
        "Solo los valores de Index (Índice de obesidad) 4 y 5 corresponden a personas obesas de algun tipo. Crearemos esta variable. "
      ]
    },
    {
      "cell_type": "code",
      "execution_count": 3,
      "metadata": {
        "id": "I6qyzBU961uD"
      },
      "outputs": [],
      "source": [
        "data['obeso'] = (data.Index >= 4).astype('int').astype('str')\n",
        "data.drop('Index', axis = 1, inplace = True)\n"
      ]
    },
    {
      "cell_type": "markdown",
      "metadata": {
        "id": "6UqqUwBg632r"
      },
      "source": [
        "Si pensamos que una persona que pesa 100 kilos puede ser obesa, deberiamos usar el peso como una feature principal. Sin embargo no todas las personas de ese peso son necesariamente obesas. De aqui nos podemos encontrar con subnodos que ayuden a mejorar la predicción como por ejemplo la estatura o el genero. ¿Cómo decidimos cual va primero?"
      ]
    },
    {
      "cell_type": "markdown",
      "metadata": {
        "id": "zPCjXGiN9ze-"
      },
      "source": [
        "Volvemos al concepto de impureza. Ahora mejor calculamos el indice de Gini, a mano. Por ejemplo, para género."
      ]
    },
    {
      "cell_type": "code",
      "execution_count": 4,
      "metadata": {
        "colab": {
          "base_uri": "https://localhost:8080/"
        },
        "id": "JGYeBOGZ9wIl",
        "outputId": "4c70dc4d-bb46-4ec2-d971-36261f65e355"
      },
      "outputs": [
        {
          "data": {
            "text/plain": [
              "0.4998"
            ]
          },
          "execution_count": 4,
          "metadata": {},
          "output_type": "execute_result"
        }
      ],
      "source": [
        "def gini_impurity(y):\n",
        "  '''\n",
        "  Given a Pandas Series, it calculates the Gini Impurity. \n",
        "  y: variable with which calculate Gini Impurity.\n",
        "  '''\n",
        "  if isinstance(y, pd.Series):\n",
        "    p = y.value_counts()/y.shape[0]\n",
        "    gini = 1-np.sum(p**2)\n",
        "    return(gini)\n",
        "\n",
        "  else:\n",
        "    raise('Object must be a Pandas Series.')\n",
        "\n",
        "gini_impurity(data.Gender)"
      ]
    },
    {
      "cell_type": "markdown",
      "metadata": {
        "id": "tR1c8_-196yZ"
      },
      "source": [
        "¿Cómo creen que funciona este feature?\n",
        "\n",
        "Ahora que ya sabemos cómo funciona el índice, veámos cómo funciona la entropía."
      ]
    },
    {
      "cell_type": "code",
      "execution_count": 5,
      "metadata": {
        "colab": {
          "base_uri": "https://localhost:8080/"
        },
        "id": "bnmdDOe399Xm",
        "outputId": "a120ed8c-e50a-46a6-8f7c-a1c276c8add5"
      },
      "outputs": [
        {
          "data": {
            "text/plain": [
              "0.9997114388674198"
            ]
          },
          "execution_count": 5,
          "metadata": {},
          "output_type": "execute_result"
        }
      ],
      "source": [
        "def entropy(y):\n",
        "  '''\n",
        "  Given a Pandas Series, it calculates the entropy. \n",
        "  y: variable with which calculate entropy.\n",
        "  '''\n",
        "  if isinstance(y, pd.Series):\n",
        "    a = y.value_counts()/y.shape[0]\n",
        "    entropy = np.sum(-a*np.log2(a+1e-9))\n",
        "    return(entropy)\n",
        "\n",
        "  else:\n",
        "    raise('Object must be a Pandas Series.')\n",
        "\n",
        "entropy(data.Gender)"
      ]
    },
    {
      "cell_type": "markdown",
      "metadata": {
        "id": "ULN_4SK9A76E"
      },
      "source": [
        "¿Y ahora?\n",
        "\n",
        "Ya tenemos ambos resultados, pero aun no sabemos como \"ramificar\" el árbol."
      ]
    },
    {
      "cell_type": "markdown",
      "metadata": {
        "id": "bOAgAhGhBGyh"
      },
      "source": [
        "Vamos ahora a analizar la ganancia de información. "
      ]
    },
    {
      "cell_type": "code",
      "execution_count": 6,
      "metadata": {
        "id": "v89-AbJcA4SC"
      },
      "outputs": [],
      "source": [
        "def variance(y):\n",
        "  '''\n",
        "  Function to help calculate the variance avoiding nan.\n",
        "  y: variable to calculate variance to. It should be a Pandas Series.\n",
        "  '''\n",
        "  if(len(y) == 1):\n",
        "    return 0\n",
        "  else:\n",
        "    return y.var()\n",
        "\n",
        "def information_gain(y, mask, func=entropy):\n",
        "  '''\n",
        "  It returns the Information Gain of a variable given a loss function.\n",
        "  y: target variable.\n",
        "  mask: split choice.\n",
        "  func: function to be used to calculate Information Gain in case os classification.\n",
        "  '''\n",
        "  \n",
        "  a = sum(mask)\n",
        "  b = mask.shape[0] - a\n",
        "  \n",
        "  if(a == 0 or b ==0): \n",
        "    ig = 0\n",
        "  \n",
        "  else:\n",
        "    if y.dtypes != 'O':\n",
        "      ig = variance(y) - (a/(a+b)* variance(y[mask])) - (b/(a+b)*variance(y[-mask]))\n",
        "    else:\n",
        "      ig = func(y)-a/(a+b)*func(y[mask])-b/(a+b)*func(y[-mask])\n",
        "  \n",
        "  return ig"
      ]
    },
    {
      "cell_type": "markdown",
      "metadata": {
        "id": "yT8ufjZTBL_6"
      },
      "source": [
        "Ahora, podemos calcular la ganancia de información de un corte en concreto:"
      ]
    },
    {
      "cell_type": "code",
      "execution_count": 7,
      "metadata": {
        "colab": {
          "base_uri": "https://localhost:8080/"
        },
        "id": "Z1uub4XwBKWd",
        "outputId": "c94b44d5-29b6-4bdb-f3d5-8a2e65a3f7b3"
      },
      "outputs": [
        {
          "data": {
            "text/plain": [
              "0.0005506911187600494"
            ]
          },
          "execution_count": 7,
          "metadata": {},
          "output_type": "execute_result"
        }
      ],
      "source": [
        "information_gain(data['obeso'], data['Gender'] == 'Male')"
      ]
    },
    {
      "cell_type": "markdown",
      "metadata": {
        "id": "fUXVOa66BP5p"
      },
      "source": [
        "Deberíamos calcular la ganancia de información en cada una de los cortes posibles, no?\n",
        "Sin embargo, tenemos una nueva dificultad añadida, y es que ¿cómo elegimos cuál es el mejor split en las variables numéricas? ¿Y en caso de haber más de una variable categórica?"
      ]
    },
    {
      "cell_type": "code",
      "execution_count": 8,
      "metadata": {
        "colab": {
          "base_uri": "https://localhost:8080/"
        },
        "id": "MBrHijw7BPXB",
        "outputId": "5eb2548e-a0fb-4938-80d2-09301bf5c5d4"
      },
      "outputs": [
        {
          "name": "stdout",
          "output_type": "stream",
          "text": [
            "El mejor split para Weight es cuando la variable es inferior a  103 \n",
            "La ganancia de información para ese corte es: 0.3824541370911895\n"
          ]
        }
      ],
      "source": [
        "import itertools\n",
        "\n",
        "def categorical_options(a):\n",
        "  '''\n",
        "  Creates all possible combinations from a Pandas Series.\n",
        "  a: Pandas Series from where to get all possible combinations. \n",
        "  '''\n",
        "  a = a.unique()\n",
        "\n",
        "  opciones = []\n",
        "  for L in range(0, len(a)+1):\n",
        "      for subset in itertools.combinations(a, L):\n",
        "          subset = list(subset)\n",
        "          opciones.append(subset)\n",
        "\n",
        "  return opciones[1:-1]\n",
        "\n",
        "def max_information_gain_split(x, y, func=entropy):\n",
        "  '''\n",
        "  Given a predictor & target variable, returns the best split, the error and the type of variable based on a selected cost function.\n",
        "  x: predictor variable as Pandas Series.\n",
        "  y: target variable as Pandas Series.\n",
        "  func: function to be used to calculate the best split.\n",
        "  '''\n",
        "\n",
        "  split_value = []\n",
        "  ig = [] \n",
        "\n",
        "  numeric_variable = True if x.dtypes != 'O' else False\n",
        "\n",
        "  # Create options according to variable type\n",
        "  if numeric_variable:\n",
        "    options = x.sort_values().unique()[1:]\n",
        "  else: \n",
        "    options = categorical_options(x)\n",
        "\n",
        "  # Calculate ig for all values\n",
        "  for val in options:\n",
        "    mask =   x < val if numeric_variable else x.isin(val)\n",
        "    val_ig = information_gain(y, mask, func)\n",
        "    # Append results\n",
        "    ig.append(val_ig)\n",
        "    split_value.append(val)\n",
        "\n",
        "  # Check if there are more than 1 results if not, return False\n",
        "  if len(ig) == 0:\n",
        "    return(None,None,None, False)\n",
        "\n",
        "  else:\n",
        "  # Get results with highest IG\n",
        "    best_ig = max(ig)\n",
        "    best_ig_index = ig.index(best_ig)\n",
        "    best_split = split_value[best_ig_index]\n",
        "    return(best_ig,best_split,numeric_variable, True)\n",
        "\n",
        "\n",
        "weight_ig, weight_slpit, _, _ = max_information_gain_split(data['Weight'], data['obeso'],)  \n",
        "\n",
        "\n",
        "print(\n",
        "  \"El mejor split para Weight es cuando la variable es inferior a \",\n",
        "  weight_slpit,\"\\nLa ganancia de información para ese corte es:\", weight_ig\n",
        ")"
      ]
    },
    {
      "cell_type": "markdown",
      "metadata": {
        "id": "_6xpmEYcBV-7"
      },
      "source": [
        "Como vemos, la variable con mayor ganancia de información es Weight. Asi, la variable que utilicemos primero para hacer el split es esta. Cuyo corte es igual a 103.\n",
        "\n",
        "Ahora que ya sabemos calcular el split de una variable, veámos cómo decidir el mejor split. Esto es cuando la ganancia de informacion es alta. "
      ]
    },
    {
      "cell_type": "code",
      "execution_count": 9,
      "metadata": {
        "colab": {
          "base_uri": "https://localhost:8080/",
          "height": 173
        },
        "id": "LiudcJXNBbEa",
        "outputId": "60c12bd4-6d78-41bc-bd8a-43d2d98af559"
      },
      "outputs": [
        {
          "data": {
            "text/html": [
              "<div>\n",
              "<style scoped>\n",
              "    .dataframe tbody tr th:only-of-type {\n",
              "        vertical-align: middle;\n",
              "    }\n",
              "\n",
              "    .dataframe tbody tr th {\n",
              "        vertical-align: top;\n",
              "    }\n",
              "\n",
              "    .dataframe thead th {\n",
              "        text-align: right;\n",
              "    }\n",
              "</style>\n",
              "<table border=\"1\" class=\"dataframe\">\n",
              "  <thead>\n",
              "    <tr style=\"text-align: right;\">\n",
              "      <th></th>\n",
              "      <th>Gender</th>\n",
              "      <th>Height</th>\n",
              "      <th>Weight</th>\n",
              "    </tr>\n",
              "  </thead>\n",
              "  <tbody>\n",
              "    <tr>\n",
              "      <th>0</th>\n",
              "      <td>0.000551</td>\n",
              "      <td>0.064748</td>\n",
              "      <td>0.382454</td>\n",
              "    </tr>\n",
              "    <tr>\n",
              "      <th>1</th>\n",
              "      <td>[Male]</td>\n",
              "      <td>174</td>\n",
              "      <td>103</td>\n",
              "    </tr>\n",
              "    <tr>\n",
              "      <th>2</th>\n",
              "      <td>False</td>\n",
              "      <td>True</td>\n",
              "      <td>True</td>\n",
              "    </tr>\n",
              "    <tr>\n",
              "      <th>3</th>\n",
              "      <td>True</td>\n",
              "      <td>True</td>\n",
              "      <td>True</td>\n",
              "    </tr>\n",
              "  </tbody>\n",
              "</table>\n",
              "</div>"
            ],
            "text/plain": [
              "     Gender    Height    Weight\n",
              "0  0.000551  0.064748  0.382454\n",
              "1    [Male]       174       103\n",
              "2     False      True      True\n",
              "3      True      True      True"
            ]
          },
          "execution_count": 9,
          "metadata": {},
          "output_type": "execute_result"
        }
      ],
      "source": [
        "data.drop('obeso', axis= 1).apply(max_information_gain_split, y = data['obeso'])"
      ]
    },
    {
      "cell_type": "markdown",
      "metadata": {
        "id": "0PPXs3bABfyA"
      },
      "source": [
        "\n",
        "\n",
        "Con esto, ya tendríamos el primer split, el cual generaría dos dataframes. De manera recursiva, terminaremos creando el árbol de decisión completo."
      ]
    },
    {
      "cell_type": "markdown",
      "metadata": {
        "id": "SGR61sZnBjAv"
      },
      "source": [
        "### Cómo entrenar un árbol de decisión\n",
        "\n",
        "Ahora vamos a definir un árbol de decisión. \n",
        "\n",
        "Además, necesitamos evitar que el árbol crezca demasiado, ¿para qué?. \n",
        "\n",
        "Para esto determinaremos algunos hiperparámetros:\n",
        "\n",
        "* ***max_depth:** profundidad máxima del árbol. Si lo fijamos en None, el árbol crecerá hasta que todas las hojas sean puras o se haya alcanzado el hiperparámetro min_samples_split.\n",
        "* **min_samples_split:** indica el número mínimo de observaciones que debe tener una hoja para seguir creando nuevos nodos.\n",
        "* **min_information_gain:** la cantidad mínima que debe incrementar el Information Gain para que el árbol siga creciendo.\n",
        "\n",
        "Teniendo esto en cuenta, vamos a seguir los pasos:\n",
        "\n",
        "\n",
        "\n",
        "1.   Comprobar que se cumplen las condiciones fijadas por *min_samples_split* y *max_depth*. \n",
        "2.   Hacer el split.\n",
        "3.   Guardar los datos del split y repetir.\n",
        "\n",
        "Para ello, lo primero de todo es crear tres funciones: una que, dado unos datos, devuelva el mejor split con su información correspondiente, otra, que dado unos datos y un split, haga el split y nos devuelva la predicción y por último, una función que dados unos datos, haga una predicción.\n",
        "\n",
        "Nota: la predicción solo se dará en las ramas y básicamente consiste en devolver la media de los datos en caso de la regresión o la moda en caso de la clasificación."
      ]
    },
    {
      "cell_type": "code",
      "execution_count": 10,
      "metadata": {
        "id": "jz6oiuJIBfbV"
      },
      "outputs": [],
      "source": [
        "def get_best_split(y, data):\n",
        "  '''\n",
        "  Given a data, select the best split and return the variable, the value, the variable type and the information gain.\n",
        "  y: name of the target variable\n",
        "  data: dataframe where to find the best split.\n",
        "  '''\n",
        "  masks = data.drop(y, axis= 1).apply(max_information_gain_split, y = data[y])\n",
        "  if sum(masks.loc[3,:]) == 0:\n",
        "    return(None, None, None, None)\n",
        "\n",
        "  else:\n",
        "    # Get only masks that can be splitted\n",
        "    masks = masks.loc[:,masks.loc[3,:]]\n",
        "\n",
        "    # Get the results for split with highest IG\n",
        "    split_variable = max(masks)\n",
        "    #split_valid = masks[split_variable][]\n",
        "    split_value = masks[split_variable][1] \n",
        "    split_ig = masks[split_variable][0]\n",
        "    split_numeric = masks[split_variable][2]\n",
        "\n",
        "    return(split_variable, split_value, split_ig, split_numeric)\n",
        "\n",
        "\n",
        "def make_split(variable, value, data, is_numeric):\n",
        "  '''\n",
        "  Given a data and a split conditions, do the split.\n",
        "  variable: variable with which make the split.\n",
        "  value: value of the variable to make the split.\n",
        "  data: data to be splitted.\n",
        "  is_numeric: boolean considering if the variable to be splitted is numeric or not.\n",
        "  '''\n",
        "  if is_numeric:\n",
        "    data_1 = data[data[variable] < value]\n",
        "    data_2 = data[(data[variable] < value) == False]\n",
        "\n",
        "  else:\n",
        "    data_1 = data[data[variable].isin(value)]\n",
        "    data_2 = data[(data[variable].isin(value)) == False]\n",
        "\n",
        "  return(data_1,data_2)\n",
        "\n",
        "def make_prediction(data, target_factor):\n",
        "  '''\n",
        "  Given the target variable, make a prediction.\n",
        "  data: pandas series for target variable\n",
        "  target_factor: boolean considering if the variable is a factor or not\n",
        "  '''\n",
        "\n",
        "  # Make predictions\n",
        "  if target_factor:\n",
        "    pred = data.value_counts().idxmax()\n",
        "  else:\n",
        "    pred = data.mean()\n",
        "\n",
        "  return pred"
      ]
    },
    {
      "cell_type": "code",
      "execution_count": 11,
      "metadata": {
        "colab": {
          "base_uri": "https://localhost:8080/"
        },
        "id": "7xgJN84MB0AG",
        "outputId": "cf08703a-84eb-4284-9285-ff0c12239e2a"
      },
      "outputs": [
        {
          "data": {
            "text/plain": [
              "{'Weight <=  103': [{'Weight <=  66': ['0',\n",
              "    {'Weight <=  84': [{'Weight <=  74': ['0', {'Weight <=  75': ['1', '0']}]},\n",
              "      {'Weight <=  98': ['1', '0']}]}]},\n",
              "  '1']}"
            ]
          },
          "execution_count": 11,
          "metadata": {},
          "output_type": "execute_result"
        }
      ],
      "source": [
        "def train_tree(data,y, target_factor, max_depth = None,min_samples_split = None, min_information_gain = 1e-20, counter=0, max_categories = 20):\n",
        "  '''\n",
        "  Trains a Decission Tree\n",
        "  data: Data to be used to train the Decission Tree\n",
        "  y: target variable column name\n",
        "  target_factor: boolean to consider if target variable is factor or numeric.\n",
        "  max_depth: maximum depth to stop splitting.\n",
        "  min_samples_split: minimum number of observations to make a split.\n",
        "  min_information_gain: minimum ig gain to consider a split to be valid.\n",
        "  max_categories: maximum number of different values accepted for categorical values. High number of values will slow down learning process. R\n",
        "  '''\n",
        "\n",
        "  # Check that max_categories is fulfilled\n",
        "  if counter==0:\n",
        "    types = data.dtypes\n",
        "    check_columns = types[types == \"object\"].index\n",
        "    for column in check_columns:\n",
        "      var_length = len(data[column].value_counts()) \n",
        "      if var_length > max_categories:\n",
        "        raise ValueError('The variable ' + column + ' has '+ str(var_length) + ' unique values, which is more than the accepted ones: ' +  str(max_categories))\n",
        "\n",
        "  # Check for depth conditions\n",
        "  if max_depth == None:\n",
        "    depth_cond = True\n",
        "\n",
        "  else:\n",
        "    if counter < max_depth:\n",
        "      depth_cond = True\n",
        "\n",
        "    else:\n",
        "      depth_cond = False\n",
        "\n",
        "  # Check for sample conditions\n",
        "  if min_samples_split == None:\n",
        "    sample_cond = True\n",
        "\n",
        "  else:\n",
        "    if data.shape[0] > min_samples_split:\n",
        "      sample_cond = True\n",
        "\n",
        "    else:\n",
        "      sample_cond = False\n",
        "\n",
        "  # Check for ig condition\n",
        "  if depth_cond & sample_cond:\n",
        "\n",
        "    var,val,ig,var_type = get_best_split(y, data)\n",
        "\n",
        "    # If ig condition is fulfilled, make split \n",
        "    if ig is not None and ig >= min_information_gain:\n",
        "\n",
        "      counter += 1\n",
        "\n",
        "      left,right = make_split(var, val, data,var_type)\n",
        "\n",
        "      # Instantiate sub-tree\n",
        "      split_type = \"<=\" if var_type else \"in\"\n",
        "      question =   \"{} {}  {}\".format(var,split_type,val)\n",
        "      # question = \"\\n\" + counter*\" \" + \"|->\" + var + \" \" + split_type + \" \" + str(val) \n",
        "      subtree = {question: []}\n",
        "\n",
        "\n",
        "      # Find answers (recursion)\n",
        "      yes_answer = train_tree(left,y, target_factor, max_depth,min_samples_split,min_information_gain, counter)\n",
        "\n",
        "      no_answer = train_tree(right,y, target_factor, max_depth,min_samples_split,min_information_gain, counter)\n",
        "\n",
        "      if yes_answer == no_answer:\n",
        "        subtree = yes_answer\n",
        "\n",
        "      else:\n",
        "        subtree[question].append(yes_answer)\n",
        "        subtree[question].append(no_answer)\n",
        "\n",
        "    # If it doesn't match IG condition, make prediction\n",
        "    else:\n",
        "      pred = make_prediction(data[y],target_factor)\n",
        "      return pred\n",
        "\n",
        "   # Drop dataset if doesn't match depth or sample conditions\n",
        "  else:\n",
        "    pred = make_prediction(data[y],target_factor)\n",
        "    return pred\n",
        "\n",
        "  return subtree\n",
        "\n",
        "\n",
        "max_depth = 5\n",
        "min_samples_split = 20\n",
        "min_information_gain  = 1e-5\n",
        "\n",
        "\n",
        "decisiones = train_tree(data,'obeso',True, max_depth,min_samples_split,min_information_gain)\n",
        "\n",
        "\n",
        "decisiones"
      ]
    },
    {
      "cell_type": "markdown",
      "metadata": {
        "id": "E8P5OgZqBuVA"
      },
      "source": [
        "Listo!"
      ]
    },
    {
      "cell_type": "markdown",
      "metadata": {
        "id": "OBVeNKkjY7qF"
      },
      "source": [
        "### Graficar árbol de decisión"
      ]
    },
    {
      "cell_type": "markdown",
      "metadata": {
        "id": "WQfjQdSKDHT8"
      },
      "source": [
        "Antes de poder representar un árbol de decisión en primer lugar se ha de crear un modelo. Para ello se puede simular un conjunto de datos con el método make_blobs de scikit-learn."
      ]
    },
    {
      "cell_type": "code",
      "execution_count": 12,
      "metadata": {
        "colab": {
          "base_uri": "https://localhost:8080/"
        },
        "id": "ZTQ8XmSADHxp",
        "outputId": "bd671737-1a8f-47f0-ba44-fb0a61857552"
      },
      "outputs": [
        {
          "ename": "ModuleNotFoundError",
          "evalue": "No module named 'sklearn.datasets.samples_generator'",
          "output_type": "error",
          "traceback": [
            "\u001b[1;31m---------------------------------------------------------------------------\u001b[0m",
            "\u001b[1;31mModuleNotFoundError\u001b[0m                       Traceback (most recent call last)",
            "\u001b[1;32md:\\Users\\claud\\Downloads\\modulo 6\\Modulo 6 notebook\\clase 4\\Material clase 4\\Material clase 4\\USACH_clase4_actualizado.ipynb Celda 28\u001b[0m in \u001b[0;36m<cell line: 1>\u001b[1;34m()\u001b[0m\n\u001b[1;32m----> <a href='vscode-notebook-cell:/d%3A/Users/claud/Downloads/modulo%206/Modulo%206%20notebook/clase%204/Material%20clase%204/Material%20clase%204/USACH_clase4_actualizado.ipynb#X36sZmlsZQ%3D%3D?line=0'>1</a>\u001b[0m \u001b[39mfrom\u001b[39;00m \u001b[39msklearn\u001b[39;00m\u001b[39m.\u001b[39;00m\u001b[39mdatasets\u001b[39;00m\u001b[39m.\u001b[39;00m\u001b[39msamples_generator\u001b[39;00m \u001b[39mimport\u001b[39;00m make_blobs\n\u001b[0;32m      <a href='vscode-notebook-cell:/d%3A/Users/claud/Downloads/modulo%206/Modulo%206%20notebook/clase%204/Material%20clase%204/Material%20clase%204/USACH_clase4_actualizado.ipynb#X36sZmlsZQ%3D%3D?line=1'>2</a>\u001b[0m X, y \u001b[39m=\u001b[39m make_blobs(n_samples\u001b[39m=\u001b[39m\u001b[39m50\u001b[39m,\n\u001b[0;32m      <a href='vscode-notebook-cell:/d%3A/Users/claud/Downloads/modulo%206/Modulo%206%20notebook/clase%204/Material%20clase%204/Material%20clase%204/USACH_clase4_actualizado.ipynb#X36sZmlsZQ%3D%3D?line=2'>3</a>\u001b[0m                   centers\u001b[39m=\u001b[39m\u001b[39m3\u001b[39m,\n\u001b[0;32m      <a href='vscode-notebook-cell:/d%3A/Users/claud/Downloads/modulo%206/Modulo%206%20notebook/clase%204/Material%20clase%204/Material%20clase%204/USACH_clase4_actualizado.ipynb#X36sZmlsZQ%3D%3D?line=3'>4</a>\u001b[0m                   random_state\u001b[39m=\u001b[39m\u001b[39m0\u001b[39m,\n\u001b[0;32m      <a href='vscode-notebook-cell:/d%3A/Users/claud/Downloads/modulo%206/Modulo%206%20notebook/clase%204/Material%20clase%204/Material%20clase%204/USACH_clase4_actualizado.ipynb#X36sZmlsZQ%3D%3D?line=4'>5</a>\u001b[0m                   cluster_std\u001b[39m=\u001b[39m\u001b[39m0.60\u001b[39m)\n\u001b[0;32m      <a href='vscode-notebook-cell:/d%3A/Users/claud/Downloads/modulo%206/Modulo%206%20notebook/clase%204/Material%20clase%204/Material%20clase%204/USACH_clase4_actualizado.ipynb#X36sZmlsZQ%3D%3D?line=5'>6</a>\u001b[0m feature_names \u001b[39m=\u001b[39m [\u001b[39m'\u001b[39m\u001b[39mX\u001b[39m\u001b[39m'\u001b[39m, \u001b[39m'\u001b[39m\u001b[39mY\u001b[39m\u001b[39m'\u001b[39m]\n",
            "\u001b[1;31mModuleNotFoundError\u001b[0m: No module named 'sklearn.datasets.samples_generator'"
          ]
        }
      ],
      "source": [
        "from sklearn.datasets.samples_generator import make_blobs\n",
        "X, y = make_blobs(n_samples=50,\n",
        "                  centers=3,\n",
        "                  random_state=0,\n",
        "                  cluster_std=0.60)\n",
        "feature_names = ['X', 'Y']\n"
      ]
    },
    {
      "cell_type": "markdown",
      "metadata": {
        "id": "bp301v8wDe0G"
      },
      "source": [
        "En este conjunto de datos se han creado tres burbujas en un espacio bidimensional. A la primera característica se la ha llamado X e Y a la segunda. El resultado se puede representar gráficamente con el siguiente código."
      ]
    },
    {
      "cell_type": "code",
      "execution_count": null,
      "metadata": {
        "colab": {
          "base_uri": "https://localhost:8080/",
          "height": 279
        },
        "id": "5XtoXhSbDfWZ",
        "outputId": "a0fe725b-9f2e-4e97-cf54-d5fb50bbd825"
      },
      "outputs": [
        {
          "data": {
            "image/png": "[encoded data removed]",
            "text/plain": [
              "<Figure size 432x288 with 1 Axes>"
            ]
          },
          "metadata": {
            "needs_background": "light"
          },
          "output_type": "display_data"
        }
      ],
      "source": [
        "import matplotlib.pyplot as plt\n",
        "plt.scatter(X[:, 0], X[:, 1], c=y)\n",
        "plt.xlabel(feature_names[0])\n",
        "plt.ylabel(feature_names[1])\n",
        "plt.show()"
      ]
    },
    {
      "cell_type": "markdown",
      "metadata": {
        "id": "e7NH66GDDhEo"
      },
      "source": [
        "Representación de los datos para el entrenamiento del árbol de decisión\n",
        "\n",
        "Ahora se puede emplear la clase DecisionTreeClassifier para el entrenamiento de un árbol de decisión."
      ]
    },
    {
      "cell_type": "code",
      "execution_count": null,
      "metadata": {
        "id": "OprIvVwhDg7e"
      },
      "outputs": [],
      "source": [
        "from sklearn.tree import DecisionTreeClassifier\n",
        "tree = DecisionTreeClassifier(random_state=0).fit(X, y)"
      ]
    },
    {
      "cell_type": "markdown",
      "metadata": {
        "id": "IkP3qClODxJc"
      },
      "source": [
        "La visualización del árbol se puede realizar con el siguiente código."
      ]
    },
    {
      "cell_type": "code",
      "execution_count": null,
      "metadata": {
        "colab": {
          "base_uri": "https://localhost:8080/"
        },
        "id": "Mk0Rc-hhDxsh",
        "outputId": "ca1ef5a5-2643-41fc-f95d-42eeffbc0278"
      },
      "outputs": [
        {
          "data": {
            "text/plain": [
              "True"
            ]
          },
          "execution_count": 28,
          "metadata": {},
          "output_type": "execute_result"
        }
      ],
      "source": [
        "from sklearn.tree import export_graphviz\n",
        "from pydotplus import graph_from_dot_data\n",
        "dot_data = export_graphviz(tree,\n",
        "                           feature_names=feature_names)\n",
        "graph = graph_from_dot_data(dot_data)\n",
        "graph.write_png('tree.png')\n"
      ]
    },
    {
      "cell_type": "code",
      "execution_count": null,
      "metadata": {
        "colab": {
          "base_uri": "https://localhost:8080/",
          "height": 514
        },
        "id": "G2vS5hUnpT3O",
        "outputId": "d65357f6-f26a-45c2-87cf-031d5d167e45"
      },
      "outputs": [
        {
          "data": {
            "image/png": "[encoded data removed]",
            "text/plain": [
              "<IPython.core.display.Image object>"
            ]
          },
          "execution_count": 29,
          "metadata": {},
          "output_type": "execute_result"
        }
      ],
      "source": [
        "from IPython.display import Image \n",
        "Image(graph.create_png())"
      ]
    },
    {
      "cell_type": "markdown",
      "metadata": {
        "id": "rPqG1JRgWySS"
      },
      "source": [
        "### Arbol de decisión más fácil\n",
        "\n",
        "Vamos a trabajar con los datos de Titanic nuevamente"
      ]
    },
    {
      "cell_type": "code",
      "execution_count": null,
      "metadata": {
        "colab": {
          "base_uri": "https://localhost:8080/",
          "height": 74,
          "resources": {
            "http://localhost:8080/nbextensions/google.colab/files.js": {
              "data": "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",
              "headers": [
                [
                  "content-type",
                  "application/javascript"
                ]
              ],
              "ok": true,
              "status": 200,
              "status_text": ""
            }
          }
        },
        "id": "_hheHeeWXHxY",
        "outputId": "bc45b116-a439-46ee-9c61-4a4a23d9827f"
      },
      "outputs": [
        {
          "data": {
            "text/html": [
              "\n",
              "     <input type=\"file\" id=\"files-e2cce3d1-ca80-439d-9586-37c4bb69851a\" name=\"files[]\" multiple disabled\n",
              "        style=\"border:none\" />\n",
              "     <output id=\"result-e2cce3d1-ca80-439d-9586-37c4bb69851a\">\n",
              "      Upload widget is only available when the cell has been executed in the\n",
              "      current browser session. Please rerun this cell to enable.\n",
              "      </output>\n",
              "      <script src=\"/nbextensions/google.colab/files.js\"></script> "
            ],
            "text/plain": [
              "<IPython.core.display.HTML object>"
            ]
          },
          "metadata": {},
          "output_type": "display_data"
        },
        {
          "name": "stdout",
          "output_type": "stream",
          "text": [
            "Saving train_titanic.csv to train_titanic (1).csv\n"
          ]
        }
      ],
      "source": [
        "from google.colab import files\n",
        "uploaded = files.upload()"
      ]
    },
    {
      "cell_type": "code",
      "execution_count": null,
      "metadata": {
        "colab": {
          "base_uri": "https://localhost:8080/",
          "height": 258
        },
        "id": "ha8vG5_pXSEM",
        "outputId": "66912f86-21bb-41ef-cab0-0d091e3e2cdc"
      },
      "outputs": [
        {
          "data": {
            "text/html": [
              "<div>\n",
              "<style scoped>\n",
              "    .dataframe tbody tr th:only-of-type {\n",
              "        vertical-align: middle;\n",
              "    }\n",
              "\n",
              "    .dataframe tbody tr th {\n",
              "        vertical-align: top;\n",
              "    }\n",
              "\n",
              "    .dataframe thead th {\n",
              "        text-align: right;\n",
              "    }\n",
              "</style>\n",
              "<table border=\"1\" class=\"dataframe\">\n",
              "  <thead>\n",
              "    <tr style=\"text-align: right;\">\n",
              "      <th></th>\n",
              "      <th>PassengerId</th>\n",
              "      <th>Survived</th>\n",
              "      <th>Pclass</th>\n",
              "      <th>Name</th>\n",
              "      <th>Sex</th>\n",
              "      <th>Age</th>\n",
              "      <th>SibSp</th>\n",
              "      <th>Parch</th>\n",
              "      <th>Ticket</th>\n",
              "      <th>Fare</th>\n",
              "      <th>Cabin</th>\n",
              "      <th>Embarked</th>\n",
              "    </tr>\n",
              "  </thead>\n",
              "  <tbody>\n",
              "    <tr>\n",
              "      <th>0</th>\n",
              "      <td>1</td>\n",
              "      <td>0</td>\n",
              "      <td>3</td>\n",
              "      <td>Braund, Mr. Owen Harris</td>\n",
              "      <td>male</td>\n",
              "      <td>22.0</td>\n",
              "      <td>1</td>\n",
              "      <td>0</td>\n",
              "      <td>A/5 21171</td>\n",
              "      <td>7.2500</td>\n",
              "      <td>NaN</td>\n",
              "      <td>S</td>\n",
              "    </tr>\n",
              "    <tr>\n",
              "      <th>1</th>\n",
              "      <td>2</td>\n",
              "      <td>1</td>\n",
              "      <td>1</td>\n",
              "      <td>Cumings, Mrs. John Bradley (Florence Briggs Th...</td>\n",
              "      <td>female</td>\n",
              "      <td>38.0</td>\n",
              "      <td>1</td>\n",
              "      <td>0</td>\n",
              "      <td>PC 17599</td>\n",
              "      <td>71.2833</td>\n",
              "      <td>C85</td>\n",
              "      <td>C</td>\n",
              "    </tr>\n",
              "    <tr>\n",
              "      <th>2</th>\n",
              "      <td>3</td>\n",
              "      <td>1</td>\n",
              "      <td>3</td>\n",
              "      <td>Heikkinen, Miss. Laina</td>\n",
              "      <td>female</td>\n",
              "      <td>26.0</td>\n",
              "      <td>0</td>\n",
              "      <td>0</td>\n",
              "      <td>STON/O2. 3101282</td>\n",
              "      <td>7.9250</td>\n",
              "      <td>NaN</td>\n",
              "      <td>S</td>\n",
              "    </tr>\n",
              "    <tr>\n",
              "      <th>3</th>\n",
              "      <td>4</td>\n",
              "      <td>1</td>\n",
              "      <td>1</td>\n",
              "      <td>Futrelle, Mrs. Jacques Heath (Lily May Peel)</td>\n",
              "      <td>female</td>\n",
              "      <td>35.0</td>\n",
              "      <td>1</td>\n",
              "      <td>0</td>\n",
              "      <td>113803</td>\n",
              "      <td>53.1000</td>\n",
              "      <td>C123</td>\n",
              "      <td>S</td>\n",
              "    </tr>\n",
              "    <tr>\n",
              "      <th>4</th>\n",
              "      <td>5</td>\n",
              "      <td>0</td>\n",
              "      <td>3</td>\n",
              "      <td>Allen, Mr. William Henry</td>\n",
              "      <td>male</td>\n",
              "      <td>35.0</td>\n",
              "      <td>0</td>\n",
              "      <td>0</td>\n",
              "      <td>373450</td>\n",
              "      <td>8.0500</td>\n",
              "      <td>NaN</td>\n",
              "      <td>S</td>\n",
              "    </tr>\n",
              "  </tbody>\n",
              "</table>\n",
              "</div>"
            ],
            "text/plain": [
              "   PassengerId  Survived  Pclass  ...     Fare Cabin  Embarked\n",
              "0            1         0       3  ...   7.2500   NaN         S\n",
              "1            2         1       1  ...  71.2833   C85         C\n",
              "2            3         1       3  ...   7.9250   NaN         S\n",
              "3            4         1       1  ...  53.1000  C123         S\n",
              "4            5         0       3  ...   8.0500   NaN         S\n",
              "\n",
              "[5 rows x 12 columns]"
            ]
          },
          "execution_count": 29,
          "metadata": {},
          "output_type": "execute_result"
        }
      ],
      "source": [
        "import pandas as pd\n",
        "#import numpy as np\n",
        "import io\n",
        "\n",
        "train = pd.read_csv(io.StringIO(uploaded['train_titanic.csv'].decode('utf-8')))\n",
        "train.head()"
      ]
    },
    {
      "cell_type": "markdown",
      "metadata": {
        "id": "1svKtSxbXdDN"
      },
      "source": [
        "Entrenamos el árbol de clasificación con **sklearn**. "
      ]
    },
    {
      "cell_type": "markdown",
      "metadata": {
        "id": "yRZFKNmoXt2L"
      },
      "source": [
        "Cargamos las librerias necesarias"
      ]
    },
    {
      "cell_type": "code",
      "execution_count": null,
      "metadata": {
        "id": "gX4tJcnmXkJ3"
      },
      "outputs": [],
      "source": [
        "from sklearn.tree import DecisionTreeClassifier\n",
        "import numpy as np\n",
        "import matplotlib.pyplot as plt\n",
        "import pandas as pd\n",
        "from sklearn.model_selection import train_test_split"
      ]
    },
    {
      "cell_type": "markdown",
      "metadata": {
        "id": "SQrzKPlFXyss"
      },
      "source": [
        "Y hacemos la división de la base de datos"
      ]
    },
    {
      "cell_type": "code",
      "execution_count": null,
      "metadata": {
        "colab": {
          "base_uri": "https://localhost:8080/",
          "height": 316
        },
        "id": "RuUIQnKUX6vp",
        "outputId": "824a4a7e-b207-49da-989a-cb7718727b38"
      },
      "outputs": [
        {
          "name": "stderr",
          "output_type": "stream",
          "text": [
            "/usr/local/lib/python3.7/dist-packages/pandas/core/series.py:4536: SettingWithCopyWarning: \n",
            "A value is trying to be set on a copy of a slice from a DataFrame\n",
            "\n",
            "See the caveats in the documentation: https://pandas.pydata.org/pandas-docs/stable/user_guide/indexing.html#returning-a-view-versus-a-copy\n",
            "  downcast=downcast,\n"
          ]
        },
        {
          "data": {
            "text/html": [
              "<div>\n",
              "<style scoped>\n",
              "    .dataframe tbody tr th:only-of-type {\n",
              "        vertical-align: middle;\n",
              "    }\n",
              "\n",
              "    .dataframe tbody tr th {\n",
              "        vertical-align: top;\n",
              "    }\n",
              "\n",
              "    .dataframe thead th {\n",
              "        text-align: right;\n",
              "    }\n",
              "</style>\n",
              "<table border=\"1\" class=\"dataframe\">\n",
              "  <thead>\n",
              "    <tr style=\"text-align: right;\">\n",
              "      <th></th>\n",
              "      <th>Sex_male</th>\n",
              "      <th>Fare</th>\n",
              "      <th>Age</th>\n",
              "      <th>Pclass</th>\n",
              "      <th>SibSp</th>\n",
              "    </tr>\n",
              "  </thead>\n",
              "  <tbody>\n",
              "    <tr>\n",
              "      <th>0</th>\n",
              "      <td>1</td>\n",
              "      <td>7.2500</td>\n",
              "      <td>22.0</td>\n",
              "      <td>3</td>\n",
              "      <td>1</td>\n",
              "    </tr>\n",
              "    <tr>\n",
              "      <th>1</th>\n",
              "      <td>0</td>\n",
              "      <td>71.2833</td>\n",
              "      <td>38.0</td>\n",
              "      <td>1</td>\n",
              "      <td>1</td>\n",
              "    </tr>\n",
              "    <tr>\n",
              "      <th>2</th>\n",
              "      <td>0</td>\n",
              "      <td>7.9250</td>\n",
              "      <td>26.0</td>\n",
              "      <td>3</td>\n",
              "      <td>0</td>\n",
              "    </tr>\n",
              "    <tr>\n",
              "      <th>3</th>\n",
              "      <td>0</td>\n",
              "      <td>53.1000</td>\n",
              "      <td>35.0</td>\n",
              "      <td>1</td>\n",
              "      <td>1</td>\n",
              "    </tr>\n",
              "    <tr>\n",
              "      <th>4</th>\n",
              "      <td>1</td>\n",
              "      <td>8.0500</td>\n",
              "      <td>35.0</td>\n",
              "      <td>3</td>\n",
              "      <td>0</td>\n",
              "    </tr>\n",
              "  </tbody>\n",
              "</table>\n",
              "</div>"
            ],
            "text/plain": [
              "   Sex_male     Fare   Age  Pclass  SibSp\n",
              "0         1   7.2500  22.0       3      1\n",
              "1         0  71.2833  38.0       1      1\n",
              "2         0   7.9250  26.0       3      0\n",
              "3         0  53.1000  35.0       1      1\n",
              "4         1   8.0500  35.0       3      0"
            ]
          },
          "execution_count": 31,
          "metadata": {},
          "output_type": "execute_result"
        }
      ],
      "source": [
        "train = pd.get_dummies(train, columns=['Sex'], drop_first=True)\n",
        "X = train[['Sex_male', 'Fare', 'Age','Pclass', 'SibSp']]\n",
        "X[\"Age\"].fillna(X[\"Age\"].median(skipna=True), inplace=True)\n",
        "X.head()\n"
      ]
    },
    {
      "cell_type": "code",
      "execution_count": null,
      "metadata": {
        "id": "y2j8lo8jI3I_"
      },
      "outputs": [],
      "source": [
        "y = train['Survived']\n",
        "X_train, X_test, y_train, y_test = train_test_split(X, y, test_size=0.3, random_state=1)\n"
      ]
    },
    {
      "cell_type": "markdown",
      "metadata": {
        "id": "TT0PQqimY3I6"
      },
      "source": [
        "Ahora vamos a estimar el arbol de decisión "
      ]
    },
    {
      "cell_type": "code",
      "execution_count": null,
      "metadata": {
        "colab": {
          "base_uri": "https://localhost:8080/"
        },
        "id": "Ay01G-eiY5rn",
        "outputId": "82e8fea6-2457-405b-fc88-fd105e5113a0"
      },
      "outputs": [
        {
          "name": "stdout",
          "output_type": "stream",
          "text": [
            "Training accuracy:  0.9887640449438202\n",
            "Test Accuracy:  0.7425373134328358\n"
          ]
        }
      ],
      "source": [
        "model = DecisionTreeClassifier(random_state=1).fit(X_train,y_train)\n",
        "y_predicted = model.predict(X_test)\n",
        "print('Training accuracy: ',model.score(X_train,y_train))\n",
        "print('Test Accuracy: ',model.score(X_test,y_test))"
      ]
    },
    {
      "cell_type": "markdown",
      "metadata": {
        "id": "ynwOW0zJZtRV"
      },
      "source": [
        "DecisionTreeClassifier en sklearn proporciona ccp_alpha como parámetro para la poda posterior. El parámetro ccp_alpha proporciona un umbral para alfas efectivas , es decir, el proceso de poda continúa hasta que el alfa mínimo efectivo del árbol podado no es mayor que ccp_alpha. DecisionTreeClassifier también proporciona un método cost_complexity_pruning_path que implementa el proceso de poda y devuelve los alfas efectivos (y las impurezas correspondientes de los árboles podados)"
      ]
    },
    {
      "cell_type": "code",
      "execution_count": null,
      "metadata": {
        "id": "RO1IVZE-Zmbk"
      },
      "outputs": [],
      "source": [
        "path=DecisionTreeClassifier(random_state=1).\\\n",
        "cost_complexity_pruning_path(X_train, y_train)\n",
        "ccp_alphas, impurities = path.ccp_alphas, path.impurities"
      ]
    },
    {
      "cell_type": "code",
      "execution_count": null,
      "metadata": {
        "colab": {
          "base_uri": "https://localhost:8080/",
          "height": 313
        },
        "id": "qMeeIkQZZ4AG",
        "outputId": "3d7cd618-a5cb-4314-814e-27dc6b885680"
      },
      "outputs": [
        {
          "data": {
            "text/plain": [
              "Text(0.5, 1.0, 'Total Impurity vs effective alpha for training set')"
            ]
          },
          "execution_count": 35,
          "metadata": {},
          "output_type": "execute_result"
        },
        {
          "data": {
            "image/png": "[encoded data removed]",
            "text/plain": [
              "<Figure size 432x288 with 1 Axes>"
            ]
          },
          "metadata": {
            "needs_background": "light"
          },
          "output_type": "display_data"
        }
      ],
      "source": [
        "fig, ax = plt.subplots()\n",
        "ax.plot(ccp_alphas[:-1], impurities[:-1], marker='o', drawstyle=\"steps-post\")\n",
        "ax.set_xlabel(\"effective alpha\")\n",
        "ax.set_ylabel(\"total impurity of leaves\")\n",
        "ax.set_title(\"Total Impurity vs effective alpha for training set\")"
      ]
    },
    {
      "cell_type": "markdown",
      "metadata": {
        "id": "aDnDtJSYb5nN"
      },
      "source": [
        "A continuación, construimos un bosque de árboles con diferentes valores de ccp_alpha extraídos de cost_complexity_pruning_path en orden. El último árbol será el nodo raíz"
      ]
    },
    {
      "cell_type": "code",
      "execution_count": null,
      "metadata": {
        "id": "LOGOVgw7b6fe"
      },
      "outputs": [],
      "source": [
        "clfs = []\n",
        "for ccp_alpha in ccp_alphas:\n",
        "    clf = DecisionTreeClassifier(random_state=1,ccp_alpha=ccp_alpha)\n",
        "    clf.fit(X_train, y_train)\n",
        "    clfs.append(clf)"
      ]
    },
    {
      "cell_type": "code",
      "execution_count": null,
      "metadata": {
        "colab": {
          "base_uri": "https://localhost:8080/"
        },
        "id": "t_TjUcUSb8oK",
        "outputId": "bea7736a-ee73-4450-c52a-971caf359683"
      },
      "outputs": [
        {
          "name": "stdout",
          "output_type": "stream",
          "text": [
            "Number of nodes in the last tree is: 1 with ccp_alpha: 0.1486931782834917 and a depth of: 0\n"
          ]
        }
      ],
      "source": [
        "print(\"Number of nodes in the last tree is: {} with ccp_alpha: {} and a depth of: {}\".format(\n",
        "clfs[-1].tree_.node_count, ccp_alphas[-1],clfs[-1].tree_.max_depth))"
      ]
    },
    {
      "cell_type": "code",
      "execution_count": null,
      "metadata": {
        "id": "0EbfeaZmcEHN"
      },
      "outputs": [],
      "source": [
        "clfs = clfs[:-1]\n",
        "ccp_alphas = ccp_alphas[:-1]"
      ]
    },
    {
      "cell_type": "code",
      "execution_count": null,
      "metadata": {
        "colab": {
          "base_uri": "https://localhost:8080/",
          "height": 297
        },
        "id": "IsHGaFalcGY5",
        "outputId": "42ba8ebb-5ed5-4715-8f8f-dc024a07a827"
      },
      "outputs": [
        {
          "data": {
            "image/png": "[encoded data removed]",
            "text/plain": [
              "<Figure size 432x288 with 2 Axes>"
            ]
          },
          "metadata": {
            "needs_background": "light"
          },
          "output_type": "display_data"
        }
      ],
      "source": [
        "node_counts = [clf.tree_.node_count for clf in clfs]\n",
        "depth = [clf.tree_.max_depth for clf in clfs]\n",
        "fig, ax = plt.subplots(2, 1)\n",
        "ax[0].plot(ccp_alphas, node_counts, marker='o', drawstyle=\"steps-post\")\n",
        "ax[0].set_xlabel(\"alpha\")\n",
        "ax[0].set_ylabel(\"number of nodes\")\n",
        "ax[0].set_title(\"Number of nodes vs alpha\")\n",
        "ax[1].plot(ccp_alphas, depth, marker='o', drawstyle=\"steps-post\")\n",
        "ax[1].set_xlabel(\"alpha\")\n",
        "ax[1].set_ylabel(\"depth of tree\")\n",
        "ax[1].set_title(\"Depth vs alpha\")\n",
        "fig.tight_layout()"
      ]
    },
    {
      "cell_type": "markdown",
      "metadata": {
        "id": "Mzk8sINQcMEz"
      },
      "source": [
        "Obtenemos la lista de puntuaciones medias de precisión de pruebas y trenes para cada uno de los árboles (restantes) y comprobamos cómo cambian las puntuaciones de precisión de pruebas / trenes con el cambio en ccp_alpha "
      ]
    },
    {
      "cell_type": "code",
      "execution_count": null,
      "metadata": {
        "colab": {
          "base_uri": "https://localhost:8080/",
          "height": 295
        },
        "id": "dknCiLVAcMyh",
        "outputId": "61d7b1dc-44ae-43ce-9da8-939c2f95763d"
      },
      "outputs": [
        {
          "data": {
            "image/png": "[encoded data removed]",
            "text/plain": [
              "<Figure size 432x288 with 1 Axes>"
            ]
          },
          "metadata": {
            "needs_background": "light"
          },
          "output_type": "display_data"
        }
      ],
      "source": [
        "train_scores = [clf.score(X_train, y_train) for clf in clfs]\n",
        "test_scores = [clf.score(X_test, y_test) for clf in clfs]\n",
        "fig, ax = plt.subplots()\n",
        "ax.set_xlabel(\"alpha\")\n",
        "ax.set_ylabel(\"accuracy\")\n",
        "ax.set_title(\"Accuracy vs alpha for training and testing sets\")\n",
        "ax.plot(ccp_alphas, train_scores, marker='o', label=\"train\",\n",
        "        drawstyle=\"steps-post\")\n",
        "ax.plot(ccp_alphas, test_scores, marker='o', label=\"test\",\n",
        "        drawstyle=\"steps-post\")\n",
        "ax.legend()\n",
        "plt.show()"
      ]
    },
    {
      "cell_type": "markdown",
      "metadata": {
        "id": "9qEheAqUcWrV"
      },
      "source": [
        "Ahora extraemos el \"mejor\" clasificador que dará la máxima puntuación de precisión en la prueba."
      ]
    },
    {
      "cell_type": "code",
      "execution_count": null,
      "metadata": {
        "colab": {
          "base_uri": "https://localhost:8080/"
        },
        "id": "ctpKZW7icVT1",
        "outputId": "69888032-c270-47de-cafb-b6bc45462ba8"
      },
      "outputs": [
        {
          "name": "stdout",
          "output_type": "stream",
          "text": [
            "Training accuracy of best model:  0.9117174959871589\n",
            "Test accuracy of best model:  0.7873134328358209\n"
          ]
        }
      ],
      "source": [
        "index_best_model = np.argmax(test_scores)\n",
        "best_model = clfs[index_best_model]\n",
        "print('Training accuracy of best model: ',best_model.score(X_train, y_train))\n",
        "print('Test accuracy of best model: ',best_model.score(X_test, y_test))"
      ]
    }
  ],
  "metadata": {
    "colab": {
      "collapsed_sections": [],
      "name": "USACH_clase4.ipynb",
      "provenance": []
    },
    "kernelspec": {
      "display_name": "Python 3.9.12 ('base')",
      "language": "python",
      "name": "python3"
    },
    "language_info": {
      "codemirror_mode": {
        "name": "ipython",
        "version": 3
      },
      "file_extension": ".py",
      "mimetype": "text/x-python",
      "name": "python",
      "nbconvert_exporter": "python",
      "pygments_lexer": "ipython3",
      "version": "3.9.12"
    },
    "vscode": {
      "interpreter": {
        "hash": "db727c30903d8ef2b5ba67b151eb7ebda75bdb03af8619f89c62bfc9967fadae"
      }
    }
  },
  "nbformat": 4,
  "nbformat_minor": 0
}

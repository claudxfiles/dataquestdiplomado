{
  "nbformat": 4,
  "nbformat_minor": 0,
  "metadata": {
    "kernelspec": {
      "display_name": "Python 3",
      "language": "python",
      "name": "python3"
    },
    "language_info": {
      "codemirror_mode": {
        "name": "ipython",
        "version": 3
      },
      "file_extension": ".py",
      "mimetype": "text/x-python",
      "name": "python",
      "nbconvert_exporter": "python",
      "pygments_lexer": "ipython3",
      "version": "3.9.5"
    },
    "colab": {
      "name": "USACH_clase1.ipynb",
      "provenance": [],
      "collapsed_sections": []
    }
  },
  "cells": [
    {
      "cell_type": "markdown",
      "metadata": {
        "id": "scI8b17aOC5p"
      },
      "source": [
        "# Clasificación\n",
        "\n",
        "En este notebook trataremos algunos de los conceptos teóricos vistos durante la primera parte del día de hoy. \n",
        "\n",
        "Entre ellos: \n",
        "\n",
        "*   Un ejemplo de _clasificación_\n",
        "*   Clasificación _binaria_\n",
        "*   Medidas de desempeño\n",
        "*   Curvas ROC \n",
        "*   Curvas Precisión-Sensibilidad"
      ]
    },
    {
      "cell_type": "markdown",
      "metadata": {
        "id": "p2fEw7zeOC5w"
      },
      "source": [
        "## Ejemplo de clasificación en _Machine Learning_ (de juguete)\n",
        "\n",
        "Lo que se ha visto en general refiere a como funcionan los modelos supervisados, en especifico los de clasificación. \n",
        "\n",
        "Se debe recordar que los modelos de _Machine Learning_ se utilizan con datos respecto a un determinado **dominio**, el que es descrito (evaluaremos su comportamiento) mediante una cantidad de **features**. \n",
        "\n",
        "De lo anterior se recoge: \n",
        "\n",
        "Dominio: Muy similar en estadística a la variable de respuesta o dependiente en un modelo. \n",
        "Features: Propiedad para una instancia, son numéros en el dominio de los reales. En estadística corresponden a las variables explicativas o independientes del modelo. \n",
        "\n",
        "Para ejemplificar esto, veremos un problema sencillo. \n",
        "\n"
      ]
    },
    {
      "cell_type": "markdown",
      "metadata": {
        "id": "eb_PUWWqOC55"
      },
      "source": [
        "## Clasificación binaria\n",
        "\n",
        "Con la función make_classification de scikit-learn, creamos un conjunto de datos para clasificar. Para empezar vamos a contar con sólo un atributo o feature y dos clases o categorías. Esto es clasificación binaria."
      ]
    },
    {
      "cell_type": "code",
      "metadata": {
        "id": "STqHC7lvPkq9"
      },
      "source": [
        "from sklearn.datasets import make_classification\n",
        "from sklearn.model_selection import train_test_split\n",
        "\n",
        "X, y = make_classification(n_samples=1000, n_classes=2, random_state=1)\n",
        "\n",
        "# Dividimos en base de entrenamiento y test\n",
        "X_train, X_test, y_train, y_test = train_test_split(X, y, test_size=0.5, random_state=2)"
      ],
      "execution_count": 8,
      "outputs": []
    },
    {
      "cell_type": "markdown",
      "metadata": {
        "id": "ppP2Kvn8jCvi"
      },
      "source": [
        "### Modelo que se va a entrenar\n",
        "\n",
        "Vamos a entrenar un modelo de regresión logística binaria (como ejemplo, ya lo revisaremos en detalle en la siguiente clase) que permita evaluar las distintas medidas que vimos en clases. "
      ]
    },
    {
      "cell_type": "code",
      "metadata": {
        "id": "kWdH03W-mpwv"
      },
      "source": [
        "from sklearn.linear_model import LogisticRegression\n",
        "\n",
        "logistic_regression= LogisticRegression()\n",
        "logistic_regression.fit(X_train,y_train)\n",
        "y_pred=logistic_regression.predict(X_test)\n",
        "\n"
      ],
      "execution_count": 9,
      "outputs": []
    },
    {
      "cell_type": "markdown",
      "source": [
        "## Matriz de confusión \n",
        "\n",
        "La matriz de confusión permite observar los tipos de errores cometidos en la estimación del modelo.  "
      ],
      "metadata": {
        "id": "LC32g8oXJ0I-"
      }
    },
    {
      "cell_type": "code",
      "source": [
        "from sklearn.metrics import confusion_matrix\n",
        "confusion_matrix(y_test, y_pred)"
      ],
      "metadata": {
        "colab": {
          "base_uri": "https://localhost:8080/"
        },
        "id": "HSYXQ7I6Jzu9",
        "outputId": "fd1e5ef9-d6ea-41cf-9745-4ae2ccc42c01"
      },
      "execution_count": 10,
      "outputs": [
        {
          "output_type": "execute_result",
          "data": {
            "text/plain": [
              "array([[197,  43],\n",
              "       [ 40, 220]])"
            ]
          },
          "metadata": {},
          "execution_count": 10
        }
      ]
    },
    {
      "cell_type": "markdown",
      "metadata": {
        "id": "I-ZT20pJ1NFK"
      },
      "source": [
        "### Accuracy o exactitud\n",
        "\n",
        "Se refiere a las predicciones correctas del total de predicciones del modelo. Esto es la suma de los valores verdaderos (positivos y negativos) respecto del total. \n",
        "**Ojo, cuando las clases estan desbalanceadas este no s un buen indicador**\n",
        "\n",
        "Para nuestro ejemplo, la precisión del modelo es: "
      ]
    },
    {
      "cell_type": "code",
      "metadata": {
        "colab": {
          "base_uri": "https://localhost:8080/"
        },
        "id": "a-_ZiFHo1iLT",
        "outputId": "add7dc3c-1b09-4231-eafe-4728037da430"
      },
      "source": [
        "from sklearn.metrics import accuracy_score\n",
        "accuracy_score(y_test, y_pred)"
      ],
      "execution_count": 4,
      "outputs": [
        {
          "output_type": "execute_result",
          "data": {
            "text/plain": [
              "0.834"
            ]
          },
          "metadata": {},
          "execution_count": 4
        }
      ]
    },
    {
      "cell_type": "markdown",
      "source": [
        "### Precision\n",
        "\n",
        "¿Qué porcentaje de los predichos positivos realmente lo son?. Esto es los valores verdaderos positivos respecto del total de valores positivos predichos.\n",
        "\n",
        "\n",
        "$$\n",
        "\\text{precision} = \\frac{TP}{TP + FP}\n",
        "$$\n",
        "\n",
        "Donde $TP$ corresponde a verdaderos positivos (_True Possitive_), $FP$ a falsos positivos (_False Possitives_) y $FN$ los falsos negativos (_False Negatives_).\n",
        "\n",
        "Para nuestro ejemplo, la precisión del modelo es: "
      ],
      "metadata": {
        "id": "vszokdLuFVxg"
      }
    },
    {
      "cell_type": "code",
      "source": [
        "from sklearn.metrics import precision_score\n",
        "precision_score(y_test, y_pred)"
      ],
      "metadata": {
        "colab": {
          "base_uri": "https://localhost:8080/"
        },
        "id": "TBl-qokyGcGR",
        "outputId": "ddee3662-37b2-4869-8707-62b335246e60"
      },
      "execution_count": 5,
      "outputs": [
        {
          "output_type": "execute_result",
          "data": {
            "text/plain": [
              "0.8365019011406845"
            ]
          },
          "metadata": {},
          "execution_count": 5
        }
      ]
    },
    {
      "cell_type": "markdown",
      "source": [
        "### Recall o Sensibilidad\n",
        "\n",
        "¿Qué porcentaje de clases positivas ha identificado el modelo?. Esto es valores verdaderos positivos respecto del total de positivos reales. \n",
        "\n",
        "$$\n",
        "\\text{recall} = \\frac{TP}{TP + FN}\n",
        "$$\n",
        "\n",
        "Donde $TP$ corresponde a verdaderos positivos (_True Possitive_), $FP$ a falsos positivos (_False Possitives_) y $FN$ los falsos negativos (_False Negatives_).\n",
        "\n",
        "Para nuestro ejemplo, la recall del modelo es: "
      ],
      "metadata": {
        "id": "k8_a5HIlGbnC"
      }
    },
    {
      "cell_type": "code",
      "source": [
        "from sklearn.metrics import recall_score\n",
        "recall_score(y_test, y_pred)"
      ],
      "metadata": {
        "colab": {
          "base_uri": "https://localhost:8080/"
        },
        "id": "yezKWKjIGeck",
        "outputId": "2a9889ed-9269-41e4-8363-bd2a252501bd"
      },
      "execution_count": 6,
      "outputs": [
        {
          "output_type": "execute_result",
          "data": {
            "text/plain": [
              "0.8461538461538461"
            ]
          },
          "metadata": {},
          "execution_count": 6
        }
      ]
    },
    {
      "cell_type": "markdown",
      "source": [
        "### F1 Score\n",
        "\n",
        "Se utiliza para combinar las medidas de precisión y sensibilidad. Ayuda en la interpretación de ambas cuando se requiera su cumplimiento. \n",
        "\n",
        "$$\n",
        "F_1 = 2 \\times \\frac{\\text{precision} \\times \\text{recall}}{\\text{precision} + \\text{recall}}\n",
        "$$\n",
        "\n",
        "Para nuestro ejemplo, F1 Score sería del modelo es: "
      ],
      "metadata": {
        "id": "LBBU-VwhGfAI"
      }
    },
    {
      "cell_type": "code",
      "source": [
        "from sklearn.metrics import f1_score\n",
        "f1_score(y_test, y_pred)"
      ],
      "metadata": {
        "colab": {
          "base_uri": "https://localhost:8080/"
        },
        "id": "2WDxurrmGen0",
        "outputId": "90afdd7f-3d0b-478a-d310-24e3aa9a047e"
      },
      "execution_count": 7,
      "outputs": [
        {
          "output_type": "execute_result",
          "data": {
            "text/plain": [
              "0.8413001912045889"
            ]
          },
          "metadata": {},
          "execution_count": 7
        }
      ]
    },
    {
      "cell_type": "markdown",
      "metadata": {
        "id": "9bjJZQalf5Vv"
      },
      "source": [
        "### Cross validation \n",
        "\n",
        "Veremos formas de realizar cross validation con los datos, esto permite verificar que tan bueno es nuestro clasificador, para ello calculamos es el porcentaje de clasificaciones correctas. \n",
        "\n",
        "Si el valor es muy alto, ¡deberíamos estar felices!, pero ¿esta es realmente una buena medida para entender nuestro modelo? Vamos a discutir esto en la siguiente sección. Ya sabemos que puede tener algunos problemas. ¿Qué pasa si repetimos este calculo variaas veces, es un valor confiable?\n",
        "\n",
        "Primero veremos la funcion _cross_val_score_ para que calculemos un indicador de la calidad del modelo en cada iteración. Dependiendo del problema elegiremos un indicador o medida particular. "
      ]
    },
    {
      "cell_type": "code",
      "metadata": {
        "colab": {
          "base_uri": "https://localhost:8080/"
        },
        "id": "fXkSJn5rfLj8",
        "outputId": "dc67716e-e8e4-4da8-de5d-bbfc77f0af2d"
      },
      "source": [
        "from sklearn.model_selection import cross_val_score\n",
        "\n",
        "cross_val_score(logistic_regression, X_train, y_train, cv=3, scoring='accuracy')"
      ],
      "execution_count": null,
      "outputs": [
        {
          "output_type": "execute_result",
          "data": {
            "text/plain": [
              "array([0.84431138, 0.83233533, 0.87349398])"
            ]
          },
          "metadata": {
            "tags": []
          },
          "execution_count": 4
        }
      ]
    },
    {
      "cell_type": "markdown",
      "metadata": {
        "id": "2Aq9Ro0mghLf"
      },
      "source": [
        "El siguiente codigo permite recoger el valor predicho en cada iteracion"
      ]
    },
    {
      "cell_type": "code",
      "metadata": {
        "id": "XMab0fbmfKTq"
      },
      "source": [
        "from sklearn.model_selection import cross_val_predict\n",
        "\n",
        "y_train_pred = cross_val_predict(logistic_regression, X_train, y_train, cv=3)\n",
        "# cross_val_predict nos retorna la clase predicha para cada instancia\n"
      ],
      "execution_count": null,
      "outputs": []
    },
    {
      "cell_type": "markdown",
      "metadata": {
        "id": "ciaELyT5OC6P"
      },
      "source": [
        "### _Precision_ y _Recall_\n",
        "\n",
        "Veamos que pasa al calcular estos indicadores con cross validation. \n"
      ]
    },
    {
      "cell_type": "code",
      "metadata": {
        "id": "C8AnpcXcOC6Q",
        "colab": {
          "base_uri": "https://localhost:8080/"
        },
        "outputId": "9259e88e-4118-4517-9d4d-d14b4503ae72"
      },
      "source": [
        "from sklearn.metrics import precision_score, recall_score\n",
        "\n",
        "y_train_pred = cross_val_predict(logistic_regression, X_train, y_train, cv=3)\n",
        "precision_score(y_train, y_train_pred)"
      ],
      "execution_count": null,
      "outputs": [
        {
          "output_type": "execute_result",
          "data": {
            "text/plain": [
              "0.8360655737704918"
            ]
          },
          "metadata": {
            "tags": []
          },
          "execution_count": 7
        }
      ]
    },
    {
      "cell_type": "code",
      "metadata": {
        "id": "kw1sevZLOC6R",
        "colab": {
          "base_uri": "https://localhost:8080/"
        },
        "outputId": "2b3288b9-1d21-499f-a5f4-01579ec61286"
      },
      "source": [
        "recall_score(y_train, y_train_pred)"
      ],
      "execution_count": null,
      "outputs": [
        {
          "output_type": "execute_result",
          "data": {
            "text/plain": [
              "0.8535564853556485"
            ]
          },
          "metadata": {
            "tags": []
          },
          "execution_count": 9
        }
      ]
    },
    {
      "cell_type": "markdown",
      "metadata": {
        "id": "Rcgux2LCOC6R"
      },
      "source": [
        "También podemos evaluar el $F_1$ _score_, que es la media armónica entre _Precision_ y _Recall_:\n",
        "\n"
      ]
    },
    {
      "cell_type": "markdown",
      "metadata": {
        "id": "HGC3WiJeOC6S"
      },
      "source": [
        "A veces queremos modelos que beneficien la precisión o el _recall_. Pensemos en los siguientes casos:\n",
        "\n",
        "- Queremos hacer un modelo que nos diga si ciertos medicamentos son seguros para la salud. Aquí nos interesa estar realmente seguros de si un medicamento es clasificado como seguro (positivo), a pesar de que podamos tener muchos falsos negativos. Aquí queremos altra precisión, a un costo de bajo _recall_.\n",
        "- Queremos hacer un modelo que recomiende canciones a alguien. Quizás no nos importa equivocarnos a cambio de que todas las posibles canciones que le gustan a la persona sean recomendadas. Aquí tendremos varios falsos positivos, por lo que habrá una baja precisión, pero tendremos un alto _recall_, porque el objetivo era tener pocos falsos negativos.\n",
        "\n",
        "Así, es necesario _trade-off_ entre precisión y _recall_."
      ]
    },
    {
      "cell_type": "code",
      "metadata": {
        "colab": {
          "base_uri": "https://localhost:8080/"
        },
        "id": "iQc94XlMQC1h",
        "outputId": "1a1a8a68-ec6d-49b6-f72f-0877ad5041e2"
      },
      "source": [
        " from sklearn.metrics import f1_score\n",
        " f1_score(y_train, y_train_pred)"
      ],
      "execution_count": null,
      "outputs": [
        {
          "output_type": "execute_result",
          "data": {
            "text/plain": [
              "0.84472049689441"
            ]
          },
          "metadata": {
            "tags": []
          },
          "execution_count": 10
        }
      ]
    },
    {
      "cell_type": "markdown",
      "metadata": {
        "id": "Lo2pXr3EOC6g"
      },
      "source": [
        "### La curva ROC\n",
        "\n",
        "La curva ROC (por sus siglas en inglés, _receiver operating characteristic_) es una herramientra utilizada para medir el desempeño de clasificadores binarios. Esta curva grafica la tasa de verdaderos positivos (que vendría a ser el _recall_) en función de la tasa de falsos positivos ($FPR$ de _False Positive rate_). Es decir:\n",
        "\n",
        "$$\n",
        "FPR = \\frac{FP}{TN + FP}\n",
        "$$\n",
        "\n",
        "Y recordemos que:\n",
        "\n",
        "$$\n",
        "\\text{recall} = TPR = \\frac{TP}{TP + FN}\n",
        "$$\n",
        "\n",
        "Donde $FP$ son los falsos positivos y $TN$ vendrían a ser los falsos negativos. Intuitivamente, si el _recall_ incrementa, el costo es tener más falsos positivos. Si lo pensamos de una nueva forma tenemos que:\n",
        "\n",
        "- La tasa de verdaderos positivos es el porcentaje de las instancias realmente positivas en las que yo digo (correctamente) que son positivas.\n",
        "- La tasa de falsos positivos es el porcentaje de las instancias realmente negativas en las que yo digo (incorrectamente) que son positivas.\n",
        "\n",
        "Vamos ahora a graficar la curva."
      ]
    },
    {
      "cell_type": "code",
      "metadata": {
        "id": "8jaYmocTOC6h",
        "colab": {
          "base_uri": "https://localhost:8080/",
          "height": 314
        },
        "outputId": "75cc7351-18e9-4f05-ebfc-44a23c6120e8"
      },
      "source": [
        "from sklearn.metrics import roc_curve\n",
        "from sklearn.metrics import roc_auc_score\n",
        "from matplotlib import pyplot\n",
        "#Generamos un clasificador sin entrenar , que asignará 0 a todo\n",
        "ns_probs = [0 for _ in range(len(y_test))]\n",
        "# Predecimos las probabilidades\n",
        "lr_probs = logistic_regression.predict_proba(X_test)\n",
        "#Nos quedamos con las probabilidades de la clase positiva (la probabilidad de 1)\n",
        "lr_probs = lr_probs[:, 1]\n",
        "# Calculamos el AUC\n",
        "ns_auc = roc_auc_score(y_test, ns_probs)\n",
        "lr_auc = roc_auc_score(y_test, lr_probs)\n",
        "# Imprimimos en pantalla\n",
        "print('Sin entrenar: ROC AUC=%.3f' % (ns_auc))\n",
        "print('Regresión Logística: ROC AUC=%.3f' % (lr_auc))\n",
        "# Calculamos las curvas ROC\n",
        "ns_fpr, ns_tpr, _ = roc_curve(y_test, ns_probs)\n",
        "lr_fpr, lr_tpr, _ = roc_curve(y_test, lr_probs)\n",
        "# Pintamos las curvas ROC\n",
        "pyplot.plot(ns_fpr, ns_tpr, linestyle='--', label='Sin entrenar')\n",
        "pyplot.plot(lr_fpr, lr_tpr, marker='.', label='Regresión Logística')\n",
        "# Etiquetas de los ejes\n",
        "pyplot.xlabel('Tasa de Falsos Positivos')\n",
        "pyplot.ylabel('Tasa de Verdaderos Positivos')\n",
        "pyplot.legend()\n",
        "pyplot.show()"
      ],
      "execution_count": 12,
      "outputs": [
        {
          "output_type": "stream",
          "name": "stdout",
          "text": [
            "Sin entrenar: ROC AUC=0.500\n",
            "Regresión Logística: ROC AUC=0.903\n"
          ]
        },
        {
          "output_type": "display_data",
          "data": {
            "text/plain": [
              "<Figure size 432x288 with 1 Axes>"
            ],
            "image/png": "[encoded data removed]"
          },
          "metadata": {
            "needs_background": "light"
          }
        }
      ]
    },
    {
      "cell_type": "code",
      "metadata": {
        "id": "bgO0hWyEOC6j",
        "colab": {
          "base_uri": "https://localhost:8080/"
        },
        "outputId": "86e87bb6-331d-499e-e8d5-98f91729e716"
      },
      "source": [
        "from sklearn.metrics import roc_auc_score\n",
        "\n",
        "# AUC = Area under the curve\n",
        "roc_auc_score(y_test, lr_probs)"
      ],
      "execution_count": 14,
      "outputs": [
        {
          "output_type": "execute_result",
          "data": {
            "text/plain": [
              "0.9028205128205128"
            ]
          },
          "metadata": {},
          "execution_count": 14
        }
      ]
    },
    {
      "cell_type": "markdown",
      "metadata": {
        "id": "mpGltXW3OC6j"
      },
      "source": [
        "Vemos que tenemos un clasificador razonable."
      ]
    },
    {
      "cell_type": "markdown",
      "metadata": {
        "id": "__Y5bSJpOC6k"
      },
      "source": [
        "## Clasificación multiclase\n",
        "\n",
        "Supongamos que ahora que tenemos una base de datos de pixeles de imagenes de digitos escritos a mano alzada. Cada feature es un pixel y el dominio del problema esta definido a partir de las clases: 0, 1, 2, 3, 4, 5, 6, 7, 8, 9.\n",
        "Para esto vamos a crear un clasificador de 0s, de 1s, ..., de 8s y de 9s. \n",
        "\n",
        "Nuevamente utilizaremos regresión logística. Vamos a ver un ejemplo con el _dataset_ MNIST. "
      ]
    },
    {
      "cell_type": "code",
      "metadata": {
        "id": "O_gio4Dbx55s"
      },
      "source": [
        "from sklearn.datasets import load_digits\n",
        "digits = load_digits()"
      ],
      "execution_count": 15,
      "outputs": []
    },
    {
      "cell_type": "code",
      "source": [
        "type(digits.data)"
      ],
      "metadata": {
        "colab": {
          "base_uri": "https://localhost:8080/"
        },
        "id": "ZNp_yf_eRTw_",
        "outputId": "cb8f66cd-89eb-4aee-e552-4bec562a0542"
      },
      "execution_count": 19,
      "outputs": [
        {
          "output_type": "execute_result",
          "data": {
            "text/plain": [
              "numpy.ndarray"
            ]
          },
          "metadata": {},
          "execution_count": 19
        }
      ]
    },
    {
      "cell_type": "code",
      "source": [
        "(digits.data.shape, digits.target.shape, digits.images.shape)"
      ],
      "metadata": {
        "colab": {
          "base_uri": "https://localhost:8080/"
        },
        "id": "3eFxDKH4RVUJ",
        "outputId": "8654e907-ef1a-4d14-cb91-34c73f712024"
      },
      "execution_count": 20,
      "outputs": [
        {
          "output_type": "execute_result",
          "data": {
            "text/plain": [
              "((1797, 64), (1797,), (1797, 8, 8))"
            ]
          },
          "metadata": {},
          "execution_count": 20
        }
      ]
    },
    {
      "cell_type": "markdown",
      "source": [
        "1797 imágenes, cada una de 8x8 de dimensión y 1797 etiquetas."
      ],
      "metadata": {
        "id": "d5UUYSwWReXs"
      }
    },
    {
      "cell_type": "markdown",
      "metadata": {
        "id": "ShM6eSp_XQKO"
      },
      "source": [
        "Veamos como se observa cada digito de la base de datos. "
      ]
    },
    {
      "cell_type": "code",
      "metadata": {
        "colab": {
          "base_uri": "https://localhost:8080/",
          "height": 240
        },
        "id": "7evaniXm2hrW",
        "outputId": "5ddcfe0f-221f-4b36-a0e1-0d6e98faf0c3"
      },
      "source": [
        "import numpy as np \n",
        "import matplotlib.pyplot as plt\n",
        "plt.figure(figsize=(20,4))\n",
        "for index, (image, label) in enumerate(zip(digits.data[0:5], digits.target[0:5])):\n",
        " plt.subplot(1, 5, index + 1)\n",
        " plt.imshow(np.reshape(image, (8,8)), cmap=plt.cm.gray)"
      ],
      "execution_count": 16,
      "outputs": [
        {
          "output_type": "display_data",
          "data": {
            "text/plain": [
              "<Figure size 1440x288 with 5 Axes>"
            ],
            "image/png": "[encoded data removed]"
          },
          "metadata": {
            "needs_background": "light"
          }
        }
      ]
    },
    {
      "cell_type": "code",
      "metadata": {
        "id": "y4-5M-mK2mlz"
      },
      "source": [
        "from sklearn.model_selection import train_test_split\n",
        "x_train_m, x_test_m, y_train_m, y_test_m = train_test_split(digits.data, digits.target, test_size=0.25, random_state=0)"
      ],
      "execution_count": 17,
      "outputs": []
    },
    {
      "cell_type": "code",
      "metadata": {
        "id": "_ncGaoH_27oK",
        "colab": {
          "base_uri": "https://localhost:8080/"
        },
        "outputId": "d90fb23e-bc34-403f-8f31-0ecd30587391"
      },
      "source": [
        "from sklearn.linear_model import LogisticRegression\n",
        "logisticRegr = LogisticRegression(fit_intercept=True,\n",
        "                        multi_class='auto',\n",
        "                        penalty='l2', #ridge regression\n",
        "                        solver='saga',\n",
        "                        max_iter=10000,\n",
        "                        C=50)\n",
        "logisticRegr"
      ],
      "execution_count": 23,
      "outputs": [
        {
          "output_type": "execute_result",
          "data": {
            "text/plain": [
              "LogisticRegression(C=50, max_iter=10000, solver='saga')"
            ]
          },
          "metadata": {},
          "execution_count": 23
        }
      ]
    },
    {
      "cell_type": "code",
      "source": [
        "logisticRegr.fit(x_train_m, y_train_m)"
      ],
      "metadata": {
        "colab": {
          "base_uri": "https://localhost:8080/"
        },
        "id": "8E8BPiG9Ry5n",
        "outputId": "9e87b953-9823-45de-bd72-d335bb13b073"
      },
      "execution_count": 25,
      "outputs": [
        {
          "output_type": "execute_result",
          "data": {
            "text/plain": [
              "LogisticRegression(C=50, max_iter=10000, solver='saga')"
            ]
          },
          "metadata": {},
          "execution_count": 25
        }
      ]
    },
    {
      "cell_type": "markdown",
      "metadata": {
        "id": "whqzX5oUOC6p"
      },
      "source": [
        "Ahora vamos a evaluar nuestro modelo con _cross-validation_. "
      ]
    },
    {
      "cell_type": "code",
      "metadata": {
        "id": "MBSAcZ9jOC6p",
        "colab": {
          "base_uri": "https://localhost:8080/"
        },
        "outputId": "7ea6192a-56d7-458b-b3f2-63df30410c99"
      },
      "source": [
        "from sklearn.model_selection import cross_val_score\n",
        "cross_val_score(logisticRegr, x_train_m, y_train_m, cv=5, scoring='accuracy')"
      ],
      "execution_count": 28,
      "outputs": [
        {
          "output_type": "execute_result",
          "data": {
            "text/plain": [
              "array([0.96296296, 0.96296296, 0.96654275, 0.97026022, 0.9739777 ])"
            ]
          },
          "metadata": {},
          "execution_count": 28
        }
      ]
    },
    {
      "cell_type": "markdown",
      "metadata": {
        "id": "alX-bQa2OC6q"
      },
      "source": [
        "Estos son muy buenos puntajes, porque en este caso un clasificador _random_ tendría cerca del 10% de _accuracy_. Vamos a ver la matriz de confusión. "
      ]
    },
    {
      "cell_type": "code",
      "metadata": {
        "id": "NVgyeWAGOC6q",
        "colab": {
          "base_uri": "https://localhost:8080/"
        },
        "outputId": "0e29296c-2da8-4dcf-a595-3ab517dc3642"
      },
      "source": [
        "from sklearn.model_selection import cross_val_predict\n",
        "y_train_pred = cross_val_predict(logisticRegr, x_train_m, y_train_m, cv=5)\n",
        "conf_mx = confusion_matrix(y_train_m, y_train_pred)\n",
        "conf_mx"
      ],
      "execution_count": 31,
      "outputs": [
        {
          "output_type": "execute_result",
          "data": {
            "text/plain": [
              "array([[139,   0,   0,   0,   0,   2,   0,   0,   0,   0],\n",
              "       [  0, 133,   0,   2,   1,   0,   1,   0,   1,   1],\n",
              "       [  0,   1, 132,   0,   0,   0,   0,   0,   0,   0],\n",
              "       [  0,   0,   0, 134,   0,   2,   0,   0,   1,   1],\n",
              "       [  0,   2,   0,   0, 139,   0,   1,   0,   0,   1],\n",
              "       [  0,   0,   0,   0,   1, 131,   1,   1,   0,   0],\n",
              "       [  0,   0,   0,   0,   0,   1, 127,   0,   1,   0],\n",
              "       [  0,   0,   0,   0,   1,   1,   0, 127,   2,   0],\n",
              "       [  0,   5,   0,   1,   1,   3,   1,   0, 113,   2],\n",
              "       [  0,   1,   0,   0,   1,   1,   0,   0,   2, 128]])"
            ]
          },
          "metadata": {},
          "execution_count": 31
        }
      ]
    },
    {
      "cell_type": "markdown",
      "metadata": {
        "id": "xK_ZPd5ZOC6r"
      },
      "source": [
        "Muchas veces es dificil observar los números directamente. En este caso parece mejor observar una imagen con los resultados. Mientras más instancias caen en un determinado casillero, más blanco el casillero. El casillero con el menor valor se lleva el color negro, y el de mayor valor el color blanco."
      ]
    },
    {
      "cell_type": "code",
      "metadata": {
        "id": "-EOUff5HOC6r",
        "colab": {
          "base_uri": "https://localhost:8080/",
          "height": 275
        },
        "outputId": "75dffa6d-48a7-4609-fa55-ace66541d251"
      },
      "source": [
        "plt.matshow(conf_mx, cmap=plt.cm.gray)\n",
        "plt.show()"
      ],
      "execution_count": 34,
      "outputs": [
        {
          "output_type": "display_data",
          "data": {
            "text/plain": [
              "<Figure size 288x288 with 1 Axes>"
            ],
            "image/png": "[encoded data removed]"
          },
          "metadata": {
            "needs_background": "light"
          }
        }
      ]
    },
    {
      "cell_type": "markdown",
      "metadata": {
        "id": "FfV25x1_OC6s"
      },
      "source": [
        "Para revisar mejor los errores vamos a: \n",
        "\n",
        "- Dejar en 0 la diagonal para que no nos entregue ruido.\n",
        "- Normalizar cada fila. Esto es: sumar los valores de cada fila, y dividir todos los elementos de esa fila por el valor. \n",
        "\n",
        "Esto se hace porque una clase muy grande se puede ver mal en comparación a otras, pero si lo miramos como _ratio_, puede no ser así."
      ]
    },
    {
      "cell_type": "code",
      "metadata": {
        "id": "32uDPM_POC6s"
      },
      "source": [
        "row_sums = conf_mx.sum(axis=1, keepdims=True)\n",
        "norm_conf_mx = conf_mx / row_sums"
      ],
      "execution_count": 35,
      "outputs": []
    },
    {
      "cell_type": "code",
      "metadata": {
        "id": "_a_9ozyWOC6t",
        "colab": {
          "base_uri": "https://localhost:8080/",
          "height": 275
        },
        "outputId": "3772789d-3529-4874-f969-836956f08c2c"
      },
      "source": [
        "np.fill_diagonal(norm_conf_mx, 0)\n",
        "plt.matshow(norm_conf_mx, cmap=plt.cm.gray)\n",
        "plt.show()"
      ],
      "execution_count": 36,
      "outputs": [
        {
          "output_type": "display_data",
          "data": {
            "text/plain": [
              "<Figure size 288x288 with 1 Axes>"
            ],
            "image/png": "[encoded data removed]"
          },
          "metadata": {
            "needs_background": "light"
          }
        }
      ]
    },
    {
      "cell_type": "markdown",
      "metadata": {
        "id": "vvFkMsdhuBZe"
      },
      "source": [
        ""
      ]
    }
  ]
}